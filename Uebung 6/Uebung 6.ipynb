{
 "cells": [
  {
   "cell_type": "markdown",
   "id": "f78d1f97-0da9-4c2d-8726-7aa0a0bc5e35",
   "metadata": {},
   "source": [
    "## Aufgabe 26\n",
    "Berechnen Sie für den Datensatz Schueler.txt folgende lineare\n",
    "Modelle:\n",
    "\n",
    "- `M1 <- lm(Groesse∼Alter+Gesch, data = Schueler)`\n",
    "\n",
    "- `M2 <- lm(Groesse∼Alter, data = Schueler)`\n",
    "\n",
    "- `M3 <- lm(Groesse∼Gesch, data = Schueler)`\n",
    "\n",
    "- `M4 <- lm(Groesse∼1, data = Schueler)`\n",
    "\n",
    "\n",
    "Berechnen Sie für M1, M2, M3 und M4 das Akaike Informationskriterium\n",
    "AIC. Welches Modell hat das größte, welches das kleinste AIC? Welches der\n",
    "vier Modelle ist nach dem AIC das beste Modell?"
   ]
  },
  {
   "cell_type": "code",
   "execution_count": 1,
   "id": "adb4a01d-f11b-4206-aa97-5e0be75e5bd7",
   "metadata": {},
   "outputs": [
    {
     "data": {
      "text/html": [
       "<table class=\"dataframe\">\n",
       "<caption>A data.frame: 6 × 10</caption>\n",
       "<thead>\n",
       "\t<tr><th></th><th scope=col>lnr</th><th scope=col>Klasse</th><th scope=col>Gesch</th><th scope=col>Alter</th><th scope=col>Groesse</th><th scope=col>Gewicht</th><th scope=col>Mathe</th><th scope=col>Physik</th><th scope=col>Deutsch</th><th scope=col>Bio</th></tr>\n",
       "\t<tr><th></th><th scope=col>&lt;int&gt;</th><th scope=col>&lt;int&gt;</th><th scope=col>&lt;chr&gt;</th><th scope=col>&lt;int&gt;</th><th scope=col>&lt;int&gt;</th><th scope=col>&lt;int&gt;</th><th scope=col>&lt;int&gt;</th><th scope=col>&lt;int&gt;</th><th scope=col>&lt;int&gt;</th><th scope=col>&lt;int&gt;</th></tr>\n",
       "</thead>\n",
       "<tbody>\n",
       "\t<tr><th scope=row>1</th><td>1</td><td> 6</td><td>w</td><td>12</td><td>124</td><td>42</td><td>3</td><td>NA</td><td>2</td><td>3</td></tr>\n",
       "\t<tr><th scope=row>2</th><td>2</td><td> 5</td><td>w</td><td>12</td><td>146</td><td>39</td><td>4</td><td>NA</td><td>2</td><td>2</td></tr>\n",
       "\t<tr><th scope=row>3</th><td>3</td><td>10</td><td>w</td><td>17</td><td>174</td><td>64</td><td>4</td><td> 3</td><td>5</td><td>2</td></tr>\n",
       "\t<tr><th scope=row>4</th><td>4</td><td> 8</td><td>w</td><td>15</td><td>138</td><td>53</td><td>5</td><td> 6</td><td>4</td><td>3</td></tr>\n",
       "\t<tr><th scope=row>5</th><td>5</td><td> 8</td><td>w</td><td>15</td><td>147</td><td>56</td><td>5</td><td> 4</td><td>3</td><td>2</td></tr>\n",
       "\t<tr><th scope=row>6</th><td>6</td><td> 9</td><td>m</td><td>16</td><td>162</td><td>65</td><td>2</td><td> 2</td><td>4</td><td>2</td></tr>\n",
       "</tbody>\n",
       "</table>\n"
      ],
      "text/latex": [
       "A data.frame: 6 × 10\n",
       "\\begin{tabular}{r|llllllllll}\n",
       "  & lnr & Klasse & Gesch & Alter & Groesse & Gewicht & Mathe & Physik & Deutsch & Bio\\\\\n",
       "  & <int> & <int> & <chr> & <int> & <int> & <int> & <int> & <int> & <int> & <int>\\\\\n",
       "\\hline\n",
       "\t1 & 1 &  6 & w & 12 & 124 & 42 & 3 & NA & 2 & 3\\\\\n",
       "\t2 & 2 &  5 & w & 12 & 146 & 39 & 4 & NA & 2 & 2\\\\\n",
       "\t3 & 3 & 10 & w & 17 & 174 & 64 & 4 &  3 & 5 & 2\\\\\n",
       "\t4 & 4 &  8 & w & 15 & 138 & 53 & 5 &  6 & 4 & 3\\\\\n",
       "\t5 & 5 &  8 & w & 15 & 147 & 56 & 5 &  4 & 3 & 2\\\\\n",
       "\t6 & 6 &  9 & m & 16 & 162 & 65 & 2 &  2 & 4 & 2\\\\\n",
       "\\end{tabular}\n"
      ],
      "text/markdown": [
       "\n",
       "A data.frame: 6 × 10\n",
       "\n",
       "| <!--/--> | lnr &lt;int&gt; | Klasse &lt;int&gt; | Gesch &lt;chr&gt; | Alter &lt;int&gt; | Groesse &lt;int&gt; | Gewicht &lt;int&gt; | Mathe &lt;int&gt; | Physik &lt;int&gt; | Deutsch &lt;int&gt; | Bio &lt;int&gt; |\n",
       "|---|---|---|---|---|---|---|---|---|---|---|\n",
       "| 1 | 1 |  6 | w | 12 | 124 | 42 | 3 | NA | 2 | 3 |\n",
       "| 2 | 2 |  5 | w | 12 | 146 | 39 | 4 | NA | 2 | 2 |\n",
       "| 3 | 3 | 10 | w | 17 | 174 | 64 | 4 |  3 | 5 | 2 |\n",
       "| 4 | 4 |  8 | w | 15 | 138 | 53 | 5 |  6 | 4 | 3 |\n",
       "| 5 | 5 |  8 | w | 15 | 147 | 56 | 5 |  4 | 3 | 2 |\n",
       "| 6 | 6 |  9 | m | 16 | 162 | 65 | 2 |  2 | 4 | 2 |\n",
       "\n"
      ],
      "text/plain": [
       "  lnr Klasse Gesch Alter Groesse Gewicht Mathe Physik Deutsch Bio\n",
       "1 1    6     w     12    124     42      3     NA     2       3  \n",
       "2 2    5     w     12    146     39      4     NA     2       2  \n",
       "3 3   10     w     17    174     64      4      3     5       2  \n",
       "4 4    8     w     15    138     53      5      6     4       3  \n",
       "5 5    8     w     15    147     56      5      4     3       2  \n",
       "6 6    9     m     16    162     65      2      2     4       2  "
      ]
     },
     "metadata": {},
     "output_type": "display_data"
    }
   ],
   "source": [
    "schueler <- read.csv(file=\"../Uebung 2/Schueler.txt\", sep=\" \")\n",
    "\n",
    "head(schueler)"
   ]
  },
  {
   "cell_type": "code",
   "execution_count": 2,
   "id": "cd0a1deb-af11-4f7c-a31c-62553cc90e09",
   "metadata": {},
   "outputs": [
    {
     "name": "stdout",
     "output_type": "stream",
     "text": [
      "AIC M1: 7438.715 \n",
      "AIC M2: 7471.27 \n",
      "AIC M3: 8027.212 \n",
      "AIC M4: 8042.679 \n"
     ]
    }
   ],
   "source": [
    "M1 <- lm(Groesse~Alter+Gesch, data = schueler)\n",
    "\n",
    "M2 <- lm(Groesse~Alter, data = schueler)\n",
    "\n",
    "M3 <- lm(Groesse~Gesch, data = schueler)\n",
    "\n",
    "M4 <- lm(Groesse~1, data = schueler)\n",
    "\n",
    "AIC_vals <- c(AIC(M1), AIC(M2), AIC(M3), AIC(M4))\n",
    "\n",
    "cat(\"AIC M1:\", AIC_vals[1], \"\\nAIC M2:\", AIC_vals[2], \"\\nAIC M3:\", AIC_vals[3], \"\\nAIC M4:\", AIC_vals[4], \"\\n\")"
   ]
  },
  {
   "cell_type": "markdown",
   "id": "e024a907-1e6a-4700-a072-fda8a69c800d",
   "metadata": {},
   "source": [
    "Wie wir sehen können, hat M4 den größten, während M1 den kleinsten Wert hat.\n",
    "\n",
    "Ein niedriger Wert deutet daruf hin, dass ein Modell sowohl eine gute Anpassung als auch eine angemessene Komplexität hat.\n",
    "\n",
    "Demnach ist M1 das \"beste\" Modell."
   ]
  },
  {
   "cell_type": "markdown",
   "id": "54ca6d92-0938-4657-b490-208dff285b74",
   "metadata": {},
   "source": [
    "## Aufgabe 27\n",
    "Betrachten Sie den R-Datensatz mtcars. Dieser enthält den Verbrauch mpg (Miles/(US) gallon) und 10 Design Aspekte von 32 Autos der Baujahre 1973-1974.\n",
    "Selektieren Sie mittels Forward-Selektion, welche Design Aspekte in einem linearen Modell den Verbrauch beeinflussen."
   ]
  },
  {
   "cell_type": "code",
   "execution_count": 3,
   "id": "28e56394-4d76-463c-bda0-c730aaab6f3b",
   "metadata": {},
   "outputs": [
    {
     "data": {
      "text/html": [
       "<table class=\"dataframe\">\n",
       "<caption>A data.frame: 6 × 11</caption>\n",
       "<thead>\n",
       "\t<tr><th></th><th scope=col>mpg</th><th scope=col>cyl</th><th scope=col>disp</th><th scope=col>hp</th><th scope=col>drat</th><th scope=col>wt</th><th scope=col>qsec</th><th scope=col>vs</th><th scope=col>am</th><th scope=col>gear</th><th scope=col>carb</th></tr>\n",
       "\t<tr><th></th><th scope=col>&lt;dbl&gt;</th><th scope=col>&lt;dbl&gt;</th><th scope=col>&lt;dbl&gt;</th><th scope=col>&lt;dbl&gt;</th><th scope=col>&lt;dbl&gt;</th><th scope=col>&lt;dbl&gt;</th><th scope=col>&lt;dbl&gt;</th><th scope=col>&lt;dbl&gt;</th><th scope=col>&lt;dbl&gt;</th><th scope=col>&lt;dbl&gt;</th><th scope=col>&lt;dbl&gt;</th></tr>\n",
       "</thead>\n",
       "<tbody>\n",
       "\t<tr><th scope=row>Mazda RX4</th><td>21.0</td><td>6</td><td>160</td><td>110</td><td>3.90</td><td>2.620</td><td>16.46</td><td>0</td><td>1</td><td>4</td><td>4</td></tr>\n",
       "\t<tr><th scope=row>Mazda RX4 Wag</th><td>21.0</td><td>6</td><td>160</td><td>110</td><td>3.90</td><td>2.875</td><td>17.02</td><td>0</td><td>1</td><td>4</td><td>4</td></tr>\n",
       "\t<tr><th scope=row>Datsun 710</th><td>22.8</td><td>4</td><td>108</td><td> 93</td><td>3.85</td><td>2.320</td><td>18.61</td><td>1</td><td>1</td><td>4</td><td>1</td></tr>\n",
       "\t<tr><th scope=row>Hornet 4 Drive</th><td>21.4</td><td>6</td><td>258</td><td>110</td><td>3.08</td><td>3.215</td><td>19.44</td><td>1</td><td>0</td><td>3</td><td>1</td></tr>\n",
       "\t<tr><th scope=row>Hornet Sportabout</th><td>18.7</td><td>8</td><td>360</td><td>175</td><td>3.15</td><td>3.440</td><td>17.02</td><td>0</td><td>0</td><td>3</td><td>2</td></tr>\n",
       "\t<tr><th scope=row>Valiant</th><td>18.1</td><td>6</td><td>225</td><td>105</td><td>2.76</td><td>3.460</td><td>20.22</td><td>1</td><td>0</td><td>3</td><td>1</td></tr>\n",
       "</tbody>\n",
       "</table>\n"
      ],
      "text/latex": [
       "A data.frame: 6 × 11\n",
       "\\begin{tabular}{r|lllllllllll}\n",
       "  & mpg & cyl & disp & hp & drat & wt & qsec & vs & am & gear & carb\\\\\n",
       "  & <dbl> & <dbl> & <dbl> & <dbl> & <dbl> & <dbl> & <dbl> & <dbl> & <dbl> & <dbl> & <dbl>\\\\\n",
       "\\hline\n",
       "\tMazda RX4 & 21.0 & 6 & 160 & 110 & 3.90 & 2.620 & 16.46 & 0 & 1 & 4 & 4\\\\\n",
       "\tMazda RX4 Wag & 21.0 & 6 & 160 & 110 & 3.90 & 2.875 & 17.02 & 0 & 1 & 4 & 4\\\\\n",
       "\tDatsun 710 & 22.8 & 4 & 108 &  93 & 3.85 & 2.320 & 18.61 & 1 & 1 & 4 & 1\\\\\n",
       "\tHornet 4 Drive & 21.4 & 6 & 258 & 110 & 3.08 & 3.215 & 19.44 & 1 & 0 & 3 & 1\\\\\n",
       "\tHornet Sportabout & 18.7 & 8 & 360 & 175 & 3.15 & 3.440 & 17.02 & 0 & 0 & 3 & 2\\\\\n",
       "\tValiant & 18.1 & 6 & 225 & 105 & 2.76 & 3.460 & 20.22 & 1 & 0 & 3 & 1\\\\\n",
       "\\end{tabular}\n"
      ],
      "text/markdown": [
       "\n",
       "A data.frame: 6 × 11\n",
       "\n",
       "| <!--/--> | mpg &lt;dbl&gt; | cyl &lt;dbl&gt; | disp &lt;dbl&gt; | hp &lt;dbl&gt; | drat &lt;dbl&gt; | wt &lt;dbl&gt; | qsec &lt;dbl&gt; | vs &lt;dbl&gt; | am &lt;dbl&gt; | gear &lt;dbl&gt; | carb &lt;dbl&gt; |\n",
       "|---|---|---|---|---|---|---|---|---|---|---|---|\n",
       "| Mazda RX4 | 21.0 | 6 | 160 | 110 | 3.90 | 2.620 | 16.46 | 0 | 1 | 4 | 4 |\n",
       "| Mazda RX4 Wag | 21.0 | 6 | 160 | 110 | 3.90 | 2.875 | 17.02 | 0 | 1 | 4 | 4 |\n",
       "| Datsun 710 | 22.8 | 4 | 108 |  93 | 3.85 | 2.320 | 18.61 | 1 | 1 | 4 | 1 |\n",
       "| Hornet 4 Drive | 21.4 | 6 | 258 | 110 | 3.08 | 3.215 | 19.44 | 1 | 0 | 3 | 1 |\n",
       "| Hornet Sportabout | 18.7 | 8 | 360 | 175 | 3.15 | 3.440 | 17.02 | 0 | 0 | 3 | 2 |\n",
       "| Valiant | 18.1 | 6 | 225 | 105 | 2.76 | 3.460 | 20.22 | 1 | 0 | 3 | 1 |\n",
       "\n"
      ],
      "text/plain": [
       "                  mpg  cyl disp hp  drat wt    qsec  vs am gear carb\n",
       "Mazda RX4         21.0 6   160  110 3.90 2.620 16.46 0  1  4    4   \n",
       "Mazda RX4 Wag     21.0 6   160  110 3.90 2.875 17.02 0  1  4    4   \n",
       "Datsun 710        22.8 4   108   93 3.85 2.320 18.61 1  1  4    1   \n",
       "Hornet 4 Drive    21.4 6   258  110 3.08 3.215 19.44 1  0  3    1   \n",
       "Hornet Sportabout 18.7 8   360  175 3.15 3.440 17.02 0  0  3    2   \n",
       "Valiant           18.1 6   225  105 2.76 3.460 20.22 1  0  3    1   "
      ]
     },
     "metadata": {},
     "output_type": "display_data"
    }
   ],
   "source": [
    "data(mtcars)\n",
    "\n",
    "head(mtcars)\n",
    "\n",
    "# Empty model\n",
    "\n",
    "fw_model_empty <- lm(mpg ~ 1, data=mtcars)\n",
    "\n",
    "# Full model\n",
    "\n",
    "fw_model_full <- lm(mpg ~ ., data=mtcars)"
   ]
  },
  {
   "cell_type": "code",
   "execution_count": 4,
   "id": "92442d69-98a9-4aad-b7be-e392b023af82",
   "metadata": {},
   "outputs": [
    {
     "name": "stdout",
     "output_type": "stream",
     "text": [
      "Start:  AIC=115.94\n",
      "mpg ~ 1\n",
      "\n",
      "       Df Sum of Sq     RSS     AIC\n",
      "+ wt    1    847.73  278.32  73.217\n",
      "+ cyl   1    817.71  308.33  76.494\n",
      "+ disp  1    808.89  317.16  77.397\n",
      "+ hp    1    678.37  447.67  88.427\n",
      "+ drat  1    522.48  603.57  97.988\n",
      "+ vs    1    496.53  629.52  99.335\n",
      "+ am    1    405.15  720.90 103.672\n",
      "+ carb  1    341.78  784.27 106.369\n",
      "+ gear  1    259.75  866.30 109.552\n",
      "+ qsec  1    197.39  928.66 111.776\n",
      "<none>              1126.05 115.943\n",
      "\n",
      "Step:  AIC=73.22\n",
      "mpg ~ wt\n",
      "\n",
      "       Df Sum of Sq    RSS    AIC\n",
      "+ cyl   1    87.150 191.17 63.198\n",
      "+ hp    1    83.274 195.05 63.840\n",
      "+ qsec  1    82.858 195.46 63.908\n",
      "+ vs    1    54.228 224.09 68.283\n",
      "+ carb  1    44.602 233.72 69.628\n",
      "+ disp  1    31.639 246.68 71.356\n",
      "<none>              278.32 73.217\n",
      "+ drat  1     9.081 269.24 74.156\n",
      "+ gear  1     1.137 277.19 75.086\n",
      "+ am    1     0.002 278.32 75.217\n",
      "\n",
      "Step:  AIC=63.2\n",
      "mpg ~ wt + cyl\n",
      "\n",
      "       Df Sum of Sq    RSS    AIC\n",
      "+ hp    1   14.5514 176.62 62.665\n",
      "+ carb  1   13.7724 177.40 62.805\n",
      "<none>              191.17 63.198\n",
      "+ qsec  1   10.5674 180.60 63.378\n",
      "+ gear  1    3.0281 188.14 64.687\n",
      "+ disp  1    2.6796 188.49 64.746\n",
      "+ vs    1    0.7059 190.47 65.080\n",
      "+ am    1    0.1249 191.05 65.177\n",
      "+ drat  1    0.0010 191.17 65.198\n",
      "\n",
      "Step:  AIC=62.66\n",
      "mpg ~ wt + cyl + hp\n",
      "\n",
      "       Df Sum of Sq    RSS    AIC\n",
      "<none>              176.62 62.665\n",
      "+ am    1    6.6228 170.00 63.442\n",
      "+ disp  1    6.1762 170.44 63.526\n",
      "+ carb  1    2.5187 174.10 64.205\n",
      "+ drat  1    2.2453 174.38 64.255\n",
      "+ qsec  1    1.4010 175.22 64.410\n",
      "+ gear  1    0.8558 175.76 64.509\n",
      "+ vs    1    0.0599 176.56 64.654\n"
     ]
    },
    {
     "data": {
      "text/plain": [
       "\n",
       "Call:\n",
       "lm(formula = mpg ~ wt + cyl + hp, data = mtcars)\n",
       "\n",
       "Residuals:\n",
       "    Min      1Q  Median      3Q     Max \n",
       "-3.9290 -1.5598 -0.5311  1.1850  5.8986 \n",
       "\n",
       "Coefficients:\n",
       "            Estimate Std. Error t value Pr(>|t|)    \n",
       "(Intercept) 38.75179    1.78686  21.687  < 2e-16 ***\n",
       "wt          -3.16697    0.74058  -4.276 0.000199 ***\n",
       "cyl         -0.94162    0.55092  -1.709 0.098480 .  \n",
       "hp          -0.01804    0.01188  -1.519 0.140015    \n",
       "---\n",
       "Signif. codes:  0 ‘***’ 0.001 ‘**’ 0.01 ‘*’ 0.05 ‘.’ 0.1 ‘ ’ 1\n",
       "\n",
       "Residual standard error: 2.512 on 28 degrees of freedom\n",
       "Multiple R-squared:  0.8431,\tAdjusted R-squared:  0.8263 \n",
       "F-statistic: 50.17 on 3 and 28 DF,  p-value: 2.184e-11\n"
      ]
     },
     "metadata": {},
     "output_type": "display_data"
    }
   ],
   "source": [
    "fw_sel <- step(fw_model_empty, direction=\"forward\", scope = list(lower=fw_model_empty, upper=fw_model_full))\n",
    "\n",
    "summary(fw_sel)"
   ]
  },
  {
   "cell_type": "markdown",
   "id": "ce0a9077-5098-47ec-837e-daa18f220dda",
   "metadata": {},
   "source": [
    "## Aufgabe 28\n",
    "Betrachten Sie den R-Datensatz mtcars. Dieser enthält den Verbrauch mpg (Miles/(US) gallon) und 10 Design Aspekte von 32 Autos der Baujahre 1973-1974.\n",
    "Selektieren Sie mittels Backward-Selektion, welche der Design Aspekte cyl,\n",
    "hp, wt, vs, disp in einem linearen Modell einen Einfluss auf den Verbrauch\n",
    "haben."
   ]
  },
  {
   "cell_type": "code",
   "execution_count": 9,
   "id": "ca90ee2d-fc63-44e6-aa19-1775b1871d90",
   "metadata": {},
   "outputs": [
    {
     "data": {
      "text/html": [
       "<table class=\"dataframe\">\n",
       "<caption>A data.frame: 6 × 6</caption>\n",
       "<thead>\n",
       "\t<tr><th></th><th scope=col>mpg</th><th scope=col>cyl</th><th scope=col>hp</th><th scope=col>wt</th><th scope=col>vs</th><th scope=col>disp</th></tr>\n",
       "\t<tr><th></th><th scope=col>&lt;dbl&gt;</th><th scope=col>&lt;dbl&gt;</th><th scope=col>&lt;dbl&gt;</th><th scope=col>&lt;dbl&gt;</th><th scope=col>&lt;dbl&gt;</th><th scope=col>&lt;dbl&gt;</th></tr>\n",
       "</thead>\n",
       "<tbody>\n",
       "\t<tr><th scope=row>1</th><td>21.0</td><td>6</td><td>110</td><td>2.620</td><td>0</td><td>160</td></tr>\n",
       "\t<tr><th scope=row>2</th><td>21.0</td><td>6</td><td>110</td><td>2.875</td><td>0</td><td>160</td></tr>\n",
       "\t<tr><th scope=row>3</th><td>22.8</td><td>4</td><td> 93</td><td>2.320</td><td>1</td><td>108</td></tr>\n",
       "\t<tr><th scope=row>4</th><td>21.4</td><td>6</td><td>110</td><td>3.215</td><td>1</td><td>258</td></tr>\n",
       "\t<tr><th scope=row>5</th><td>18.7</td><td>8</td><td>175</td><td>3.440</td><td>0</td><td>360</td></tr>\n",
       "\t<tr><th scope=row>6</th><td>18.1</td><td>6</td><td>105</td><td>3.460</td><td>1</td><td>225</td></tr>\n",
       "</tbody>\n",
       "</table>\n"
      ],
      "text/latex": [
       "A data.frame: 6 × 6\n",
       "\\begin{tabular}{r|llllll}\n",
       "  & mpg & cyl & hp & wt & vs & disp\\\\\n",
       "  & <dbl> & <dbl> & <dbl> & <dbl> & <dbl> & <dbl>\\\\\n",
       "\\hline\n",
       "\t1 & 21.0 & 6 & 110 & 2.620 & 0 & 160\\\\\n",
       "\t2 & 21.0 & 6 & 110 & 2.875 & 0 & 160\\\\\n",
       "\t3 & 22.8 & 4 &  93 & 2.320 & 1 & 108\\\\\n",
       "\t4 & 21.4 & 6 & 110 & 3.215 & 1 & 258\\\\\n",
       "\t5 & 18.7 & 8 & 175 & 3.440 & 0 & 360\\\\\n",
       "\t6 & 18.1 & 6 & 105 & 3.460 & 1 & 225\\\\\n",
       "\\end{tabular}\n"
      ],
      "text/markdown": [
       "\n",
       "A data.frame: 6 × 6\n",
       "\n",
       "| <!--/--> | mpg &lt;dbl&gt; | cyl &lt;dbl&gt; | hp &lt;dbl&gt; | wt &lt;dbl&gt; | vs &lt;dbl&gt; | disp &lt;dbl&gt; |\n",
       "|---|---|---|---|---|---|---|\n",
       "| 1 | 21.0 | 6 | 110 | 2.620 | 0 | 160 |\n",
       "| 2 | 21.0 | 6 | 110 | 2.875 | 0 | 160 |\n",
       "| 3 | 22.8 | 4 |  93 | 2.320 | 1 | 108 |\n",
       "| 4 | 21.4 | 6 | 110 | 3.215 | 1 | 258 |\n",
       "| 5 | 18.7 | 8 | 175 | 3.440 | 0 | 360 |\n",
       "| 6 | 18.1 | 6 | 105 | 3.460 | 1 | 225 |\n",
       "\n"
      ],
      "text/plain": [
       "  mpg  cyl hp  wt    vs disp\n",
       "1 21.0 6   110 2.620 0  160 \n",
       "2 21.0 6   110 2.875 0  160 \n",
       "3 22.8 4    93 2.320 1  108 \n",
       "4 21.4 6   110 3.215 1  258 \n",
       "5 18.7 8   175 3.440 0  360 \n",
       "6 18.1 6   105 3.460 1  225 "
      ]
     },
     "metadata": {},
     "output_type": "display_data"
    }
   ],
   "source": [
    "data(mtcars)\n",
    "\n",
    "mt_sub <- data.frame(mpg=mtcars$mpg, cyl=mtcars$cyl, hp=mtcars$hp, wt=mtcars$wt, vs=mtcars$vs, disp=mtcars$disp)\n",
    "\n",
    "head(mt_sub)"
   ]
  },
  {
   "cell_type": "code",
   "execution_count": 11,
   "id": "b1fcb444-81e8-49a6-b9b7-522d53fc9456",
   "metadata": {},
   "outputs": [
    {
     "name": "stdout",
     "output_type": "stream",
     "text": [
      "Start:  AIC=65.5\n",
      "mpg ~ cyl + hp + wt + vs + disp\n",
      "\n",
      "       Df Sum of Sq    RSS    AIC\n",
      "- vs    1     0.155 170.44 63.526\n",
      "- disp  1     6.272 176.56 64.654\n",
      "<none>              170.29 65.496\n",
      "- hp    1    17.219 187.51 66.579\n",
      "- cyl   1    17.380 187.67 66.606\n",
      "- wt    1    88.632 258.92 76.905\n",
      "\n",
      "Step:  AIC=63.53\n",
      "mpg ~ cyl + hp + wt + disp\n",
      "\n",
      "       Df Sum of Sq    RSS    AIC\n",
      "- disp  1     6.176 176.62 62.665\n",
      "<none>              170.44 63.526\n",
      "- hp    1    18.048 188.49 64.746\n",
      "- cyl   1    24.546 194.99 65.831\n",
      "- wt    1    90.925 261.37 75.206\n",
      "\n",
      "Step:  AIC=62.66\n",
      "mpg ~ cyl + hp + wt\n",
      "\n",
      "       Df Sum of Sq    RSS    AIC\n",
      "<none>              176.62 62.665\n",
      "- hp    1    14.551 191.17 63.198\n",
      "- cyl   1    18.427 195.05 63.840\n",
      "- wt    1   115.354 291.98 76.750\n"
     ]
    },
    {
     "data": {
      "text/plain": [
       "\n",
       "Call:\n",
       "lm(formula = mpg ~ cyl + hp + wt, data = mt_sub)\n",
       "\n",
       "Coefficients:\n",
       "(Intercept)          cyl           hp           wt  \n",
       "   38.75179     -0.94162     -0.01804     -3.16697  \n"
      ]
     },
     "metadata": {},
     "output_type": "display_data"
    }
   ],
   "source": [
    "bw_model_full <- lm(mpg ~ ., data=mt_sub)\n",
    "\n",
    "step(bw_model_full, direction=\"backward\")"
   ]
  },
  {
   "cell_type": "markdown",
   "id": "45fcd4dd-ec2a-4906-af14-498af553a3b4",
   "metadata": {},
   "source": [
    "## Aufgabe 29\n",
    "\n",
    "In einer klinischen Studie gibt es 4 Gruppen. Erstelle eine Kontrastmatrix, die folgende Hypothesen / Kontraste beinhaltet:\n",
    "\n",
    "$$\n",
    "\\mu_1 = \\mu_2\n",
    "$$\n",
    "\n",
    "$$\n",
    "\\mu_2 = \\mu_3\n",
    "$$\n",
    "\n",
    "$$\n",
    "\\mu_2 = \\mu_4\n",
    "$$\n",
    "\n",
    "$$\n",
    "\\mu_1 = \\mu_3\n",
    "$$"
   ]
  },
  {
   "cell_type": "markdown",
   "id": "076df185-6637-41f0-af0c-77ff0cac6807",
   "metadata": {},
   "source": [
    "$$\n",
    "\\begin{pmatrix}\n",
    "1 & -1 & 0 & 0 \\\\\n",
    "0 & 1 & -1 & 0 \\\\\n",
    "0 & 1 & 0 & -1 \\\\\n",
    "1 & 0 & -1 & 0\n",
    "\\end{pmatrix}\n",
    "$$"
   ]
  },
  {
   "cell_type": "markdown",
   "id": "fd19e5c9-6b43-4d83-8011-6b599805802f",
   "metadata": {},
   "source": [
    "## Aufgabe 30\n",
    "\n",
    "Berechnen Sie die FWER in folgenden Szenarien:\n",
    "- 3 Hypothesen zu je $α = 0.05$\n",
    "- 7 Hypothesen zu je $α = 0.05$\n",
    "- 3 Hypothesen zu je $α = 0.1$\n",
    "- 1 Hypothese zu $α = 0.05$"
   ]
  },
  {
   "cell_type": "markdown",
   "id": "3c0b3afe-9b28-419d-b002-6f2f7aee1ee6",
   "metadata": {},
   "source": [
    "Die allgemeine Formel lautet\n",
    "\n",
    "$$\n",
    "\\text{FWER} = 1 - (1 - \\alpha)^n\n",
    "$$\n",
    "\n",
    "Demzufolge gilt für die vier Aufgaben:\n",
    "$$\n",
    "\\text{FWER}_1 = 1 - (1 - 0.05)^3 = 0.142625\n",
    "$$\n",
    "$$\n",
    "\\text{FWER}_2 = 1 - (1 - 0.05)^7 = 0.9921875\n",
    "$$\n",
    "$$\n",
    "\\text{FWER}_3 = 1 - (1 - 0.1)^3 = 0.271\n",
    "$$\n",
    "$$\n",
    "\\text{FWER}_4 = 1 - (1 - 0.05)^1 = 0.05\n",
    "$$"
   ]
  }
 ],
 "metadata": {
  "kernelspec": {
   "display_name": "R",
   "language": "R",
   "name": "ir"
  },
  "language_info": {
   "codemirror_mode": "r",
   "file_extension": ".r",
   "mimetype": "text/x-r-source",
   "name": "R",
   "pygments_lexer": "r",
   "version": "4.3.1"
  }
 },
 "nbformat": 4,
 "nbformat_minor": 5
}
