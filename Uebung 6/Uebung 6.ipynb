{
 "cells": [
  {
   "cell_type": "markdown",
   "id": "9f3ae8c1",
   "metadata": {},
   "source": [
    "Infos zum nächsten Blatt\n",
    "Aufgabe 1: AIC verwenden\n",
    "\n",
    "Aufgabe 4: Schreib Vektor mit µ's. Vektor dann so multiplizieren, dass (C = Kontrast) C*µ = µ1 - µ2 = 0\n",
    "\n",
    "Aufgabe 5: Detail in Aufgabe fehlt: "
   ]
  }
 ],
 "metadata": {
  "kernelspec": {
   "display_name": "R",
   "language": "R",
   "name": "ir"
  },
  "language_info": {
   "codemirror_mode": "r",
   "file_extension": ".r",
   "mimetype": "text/x-r-source",
   "name": "R",
   "pygments_lexer": "r",
   "version": "4.3.1"
  }
 },
 "nbformat": 4,
 "nbformat_minor": 5
}
