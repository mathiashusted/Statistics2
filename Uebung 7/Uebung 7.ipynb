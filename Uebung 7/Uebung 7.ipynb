{
 "cells": [
  {
   "cell_type": "markdown",
   "id": "08155aa8-c95e-46b7-9c10-e0f28e73d869",
   "metadata": {},
   "source": [
    "## Aufgabe 31\n",
    "\n",
    "Sie arbeiten an einer klinischen Studie, die vier primäre Hypothesen hat. Das globale Signifikanzniveau beträgt 5%. Die Datenauswertung\n",
    "wurde bereits vorgenommen und mittels Software erhalten Sie für die vier\n",
    "Hypothesen folgende p-Werte:\n",
    "\n",
    "| Hypothese 1 | Hypothese 2 | Hypothese 3 | Hypothese 4 |\n",
    "| --- | --- | --- | --- |\n",
    "| 0.0034 | 0.0389 | 0.0491 | 0.6794 |\n",
    "\n",
    "**A:** Berechnen Sie die adjustierten p-Werte nach Bonferroni-Holm. Welche\n",
    "Nullhypothesen können abgelehnt werden?\n",
    "\n",
    "**B:** Berechnen Sie die adjustierten p-Werte nach Benjamini-Hochberg. Welche Nullhypothesen können abgelehnt werden?\n",
    "\n",
    "(Sie dürfen gerne entsprechende R Pakete benutzen.)"
   ]
  },
  {
   "cell_type": "code",
   "execution_count": 3,
   "id": "1bf06af9-da26-4303-b841-76c0d3999809",
   "metadata": {},
   "outputs": [
    {
     "data": {
      "text/html": [
       "<style>\n",
       ".list-inline {list-style: none; margin:0; padding: 0}\n",
       ".list-inline>li {display: inline-block}\n",
       ".list-inline>li:not(:last-child)::after {content: \"\\00b7\"; padding: 0 .5ex}\n",
       "</style>\n",
       "<ol class=list-inline><li>0.0136</li><li>0.1167</li><li>0.1167</li><li>0.6794</li></ol>\n"
      ],
      "text/latex": [
       "\\begin{enumerate*}\n",
       "\\item 0.0136\n",
       "\\item 0.1167\n",
       "\\item 0.1167\n",
       "\\item 0.6794\n",
       "\\end{enumerate*}\n"
      ],
      "text/markdown": [
       "1. 0.0136\n",
       "2. 0.1167\n",
       "3. 0.1167\n",
       "4. 0.6794\n",
       "\n",
       "\n"
      ],
      "text/plain": [
       "[1] 0.0136 0.1167 0.1167 0.6794"
      ]
     },
     "metadata": {},
     "output_type": "display_data"
    },
    {
     "data": {
      "text/html": [
       "<style>\n",
       ".list-inline {list-style: none; margin:0; padding: 0}\n",
       ".list-inline>li {display: inline-block}\n",
       ".list-inline>li:not(:last-child)::after {content: \"\\00b7\"; padding: 0 .5ex}\n",
       "</style>\n",
       "<ol class=list-inline><li>0.0136</li><li>0.0654666666666667</li><li>0.0654666666666667</li><li>0.6794</li></ol>\n"
      ],
      "text/latex": [
       "\\begin{enumerate*}\n",
       "\\item 0.0136\n",
       "\\item 0.0654666666666667\n",
       "\\item 0.0654666666666667\n",
       "\\item 0.6794\n",
       "\\end{enumerate*}\n"
      ],
      "text/markdown": [
       "1. 0.0136\n",
       "2. 0.0654666666666667\n",
       "3. 0.0654666666666667\n",
       "4. 0.6794\n",
       "\n",
       "\n"
      ],
      "text/plain": [
       "[1] 0.01360000 0.06546667 0.06546667 0.67940000"
      ]
     },
     "metadata": {},
     "output_type": "display_data"
    }
   ],
   "source": [
    "p_vals <- c(0.0034, 0.0389, 0.0491, 0.6794)\n",
    "\n",
    "adj_vals_holm <- p.adjust(p_vals, method=\"holm\")\n",
    "\n",
    "adj_vals_bh <- p.adjust(p_vals, method=\"BH\")\n",
    "\n",
    "adj_vals_holm\n",
    "\n",
    "adj_vals_bh"
   ]
  },
  {
   "cell_type": "markdown",
   "id": "92f17b78-715d-4d20-8bbd-e2222da47523",
   "metadata": {},
   "source": [
    "Bei $\\alpha = 0.05$ können abgelehnt werden:\n",
    "\n",
    "A: $H_{01}$\n",
    "\n",
    "B: $H_{01}$"
   ]
  },
  {
   "cell_type": "markdown",
   "id": "d2b04c5d-d0af-4a13-90b9-997734288559",
   "metadata": {},
   "source": [
    "## Aufgabe 32\n",
    "\n",
    "**A:** Was ist der Unterschied zwischen MAR, MCAR und MNAR?\n",
    "\n",
    "MCAR (Missing completely at random): Fehlende Werte haben keinen Zusammenhang mit den beobachteten Daten und sind vollkommen zufällig (Wahrscheinlichkeit, dass ein Wert fehlt, ist in jedem Fall gleich und unabhängig)\n",
    "\n",
    "MAR (Missing at random): Fehlende Werte sind auf die Daten selbst zurückzuführen, kann aber damit in Verbindung stehen. (Wahrscheinlichkeit, dass ein Wert fehlt, kann von anderen beobachteten Daten abhängig sein)\n",
    "\n",
    "NMAR (Not missing at random): Fehlende Werte hängen von den Werten selbst ab, die fehlen. (Wahrscheinlichkeit, dass ein Wert fehlt, hängt von dem Wert ab, der fehlt)\n",
    "\n",
    "**B:** Geben Sie mindestens ein Beispiel für jede der drei Arten für fehlende\n",
    "Werte.\n",
    "\n",
    "MCAR: Aufgrund eines Umzugs geht der Kontakt mit dem Patienten verloren. Die fehlenden Daten sind unabhängig von den Antworten des Patienten.\n",
    "\n",
    "MAR: In einer Studie fehlen die Blutdruckwerte einiger Patienten. Man findet heraus, dass dies vom Alter abhängt, da ältere Personen eher vergessen, ihren Blutdruck regelmäßig zu messen.\n",
    "\n",
    "NMAR: In einer Studie über das Einkommen fehlen Daten von Personen mit einem hohen Einkommen, da diese dazu tendieren, ihr Einkommen nicht preisgeben zu wollen.\n",
    "\n",
    "**C:** Welche Bedeutung hat die Unterscheidung in MAR, MCAR und MNAR?\n",
    "\n",
    "MCAR: Diese Art führt nicht zu Verzerrungen in der Datenanalyse, da sie zufällig sind, und man muss sie daher nicht weiter berücksichtigen.\n",
    "\n",
    "MAR: Muss berücksichtigt werden, da nicht zufällig. Kann aber durch statistische Methoden korrigiert werden, sofern die Abhängigkeiten klar sind.\n",
    "\n",
    "NMAR: Muss auch berücksichtigt werden, ist allerdings komplizierter, da die fehlenden Daten nicht ignoriert werden, aber auch nicht einfach modelliert werden können."
   ]
  },
  {
   "cell_type": "markdown",
   "id": "71636de1-4380-4bc1-9af1-12c3e56618e0",
   "metadata": {},
   "source": [
    "## Aufgabe 33\n",
    "\n",
    "Laden Sie den Datensatz nhanes aus dem R Paket mice und\n",
    "beantworten Sie folgende Fragen:\n",
    "\n",
    "**A:** Wie viele Personen haben keine fehlenden Werte? Wie viele Personen\n",
    "haben in drei Variablen fehlende Werte?\n",
    "\n",
    "**B:** In welcher Variablen sind keine fehlenden Werte? In welcher Variablen\n",
    "gibt es die meisten fehlenden Werte? Wie viele?\n",
    "\n",
    "**C:** Berechnen Sie für die Variablen BMI und Cholesterin Mittelwert und\n",
    "95%-Konfidenzintervall per complete case analysis (variable wise). Auf\n",
    "wie viele Merkmalsträger beziehen Sie sich dabei jeweils?"
   ]
  },
  {
   "cell_type": "code",
   "execution_count": 13,
   "id": "4e2bb6de-8b11-4d23-a14c-387a72a47af6",
   "metadata": {},
   "outputs": [
    {
     "data": {
      "text/html": [
       "<table class=\"dataframe\">\n",
       "<caption>A data.frame: 6 × 76</caption>\n",
       "<thead>\n",
       "\t<tr><th></th><th scope=col>ID</th><th scope=col>SurveyYr</th><th scope=col>Gender</th><th scope=col>Age</th><th scope=col>AgeDecade</th><th scope=col>AgeMonths</th><th scope=col>Race1</th><th scope=col>Race3</th><th scope=col>Education</th><th scope=col>MaritalStatus</th><th scope=col>⋯</th><th scope=col>RegularMarij</th><th scope=col>AgeRegMarij</th><th scope=col>HardDrugs</th><th scope=col>SexEver</th><th scope=col>SexAge</th><th scope=col>SexNumPartnLife</th><th scope=col>SexNumPartYear</th><th scope=col>SameSex</th><th scope=col>SexOrientation</th><th scope=col>PregnantNow</th></tr>\n",
       "\t<tr><th></th><th scope=col>&lt;int&gt;</th><th scope=col>&lt;chr&gt;</th><th scope=col>&lt;chr&gt;</th><th scope=col>&lt;int&gt;</th><th scope=col>&lt;chr&gt;</th><th scope=col>&lt;int&gt;</th><th scope=col>&lt;chr&gt;</th><th scope=col>&lt;chr&gt;</th><th scope=col>&lt;chr&gt;</th><th scope=col>&lt;chr&gt;</th><th scope=col>⋯</th><th scope=col>&lt;chr&gt;</th><th scope=col>&lt;int&gt;</th><th scope=col>&lt;chr&gt;</th><th scope=col>&lt;chr&gt;</th><th scope=col>&lt;int&gt;</th><th scope=col>&lt;int&gt;</th><th scope=col>&lt;int&gt;</th><th scope=col>&lt;chr&gt;</th><th scope=col>&lt;chr&gt;</th><th scope=col>&lt;chr&gt;</th></tr>\n",
       "</thead>\n",
       "<tbody>\n",
       "\t<tr><th scope=row>1</th><td>51624</td><td>2009_10</td><td>male  </td><td>34</td><td> 30-39</td><td>409</td><td>White</td><td>NA</td><td>High School </td><td>Married    </td><td>⋯</td><td>No</td><td>NA</td><td>Yes</td><td>Yes</td><td>16</td><td> 8</td><td> 1</td><td>No </td><td>Heterosexual</td><td>NA</td></tr>\n",
       "\t<tr><th scope=row>2</th><td>51624</td><td>2009_10</td><td>male  </td><td>34</td><td> 30-39</td><td>409</td><td>White</td><td>NA</td><td>High School </td><td>Married    </td><td>⋯</td><td>No</td><td>NA</td><td>Yes</td><td>Yes</td><td>16</td><td> 8</td><td> 1</td><td>No </td><td>Heterosexual</td><td>NA</td></tr>\n",
       "\t<tr><th scope=row>3</th><td>51624</td><td>2009_10</td><td>male  </td><td>34</td><td> 30-39</td><td>409</td><td>White</td><td>NA</td><td>High School </td><td>Married    </td><td>⋯</td><td>No</td><td>NA</td><td>Yes</td><td>Yes</td><td>16</td><td> 8</td><td> 1</td><td>No </td><td>Heterosexual</td><td>NA</td></tr>\n",
       "\t<tr><th scope=row>4</th><td>51625</td><td>2009_10</td><td>male  </td><td> 4</td><td> 0-9  </td><td> 49</td><td>Other</td><td>NA</td><td>NA          </td><td>NA         </td><td>⋯</td><td>NA</td><td>NA</td><td>NA </td><td>NA </td><td>NA</td><td>NA</td><td>NA</td><td>NA </td><td>NA          </td><td>NA</td></tr>\n",
       "\t<tr><th scope=row>5</th><td>51630</td><td>2009_10</td><td>female</td><td>49</td><td> 40-49</td><td>596</td><td>White</td><td>NA</td><td>Some College</td><td>LivePartner</td><td>⋯</td><td>No</td><td>NA</td><td>Yes</td><td>Yes</td><td>12</td><td>10</td><td> 1</td><td>Yes</td><td>Heterosexual</td><td>NA</td></tr>\n",
       "\t<tr><th scope=row>6</th><td>51638</td><td>2009_10</td><td>male  </td><td> 9</td><td> 0-9  </td><td>115</td><td>White</td><td>NA</td><td>NA          </td><td>NA         </td><td>⋯</td><td>NA</td><td>NA</td><td>NA </td><td>NA </td><td>NA</td><td>NA</td><td>NA</td><td>NA </td><td>NA          </td><td>NA</td></tr>\n",
       "</tbody>\n",
       "</table>\n"
      ],
      "text/latex": [
       "A data.frame: 6 × 76\n",
       "\\begin{tabular}{r|lllllllllllllllllllll}\n",
       "  & ID & SurveyYr & Gender & Age & AgeDecade & AgeMonths & Race1 & Race3 & Education & MaritalStatus & ⋯ & RegularMarij & AgeRegMarij & HardDrugs & SexEver & SexAge & SexNumPartnLife & SexNumPartYear & SameSex & SexOrientation & PregnantNow\\\\\n",
       "  & <int> & <chr> & <chr> & <int> & <chr> & <int> & <chr> & <chr> & <chr> & <chr> & ⋯ & <chr> & <int> & <chr> & <chr> & <int> & <int> & <int> & <chr> & <chr> & <chr>\\\\\n",
       "\\hline\n",
       "\t1 & 51624 & 2009\\_10 & male   & 34 &  30-39 & 409 & White & NA & High School  & Married     & ⋯ & No & NA & Yes & Yes & 16 &  8 &  1 & No  & Heterosexual & NA\\\\\n",
       "\t2 & 51624 & 2009\\_10 & male   & 34 &  30-39 & 409 & White & NA & High School  & Married     & ⋯ & No & NA & Yes & Yes & 16 &  8 &  1 & No  & Heterosexual & NA\\\\\n",
       "\t3 & 51624 & 2009\\_10 & male   & 34 &  30-39 & 409 & White & NA & High School  & Married     & ⋯ & No & NA & Yes & Yes & 16 &  8 &  1 & No  & Heterosexual & NA\\\\\n",
       "\t4 & 51625 & 2009\\_10 & male   &  4 &  0-9   &  49 & Other & NA & NA           & NA          & ⋯ & NA & NA & NA  & NA  & NA & NA & NA & NA  & NA           & NA\\\\\n",
       "\t5 & 51630 & 2009\\_10 & female & 49 &  40-49 & 596 & White & NA & Some College & LivePartner & ⋯ & No & NA & Yes & Yes & 12 & 10 &  1 & Yes & Heterosexual & NA\\\\\n",
       "\t6 & 51638 & 2009\\_10 & male   &  9 &  0-9   & 115 & White & NA & NA           & NA          & ⋯ & NA & NA & NA  & NA  & NA & NA & NA & NA  & NA           & NA\\\\\n",
       "\\end{tabular}\n"
      ],
      "text/markdown": [
       "\n",
       "A data.frame: 6 × 76\n",
       "\n",
       "| <!--/--> | ID &lt;int&gt; | SurveyYr &lt;chr&gt; | Gender &lt;chr&gt; | Age &lt;int&gt; | AgeDecade &lt;chr&gt; | AgeMonths &lt;int&gt; | Race1 &lt;chr&gt; | Race3 &lt;chr&gt; | Education &lt;chr&gt; | MaritalStatus &lt;chr&gt; | ⋯ ⋯ | RegularMarij &lt;chr&gt; | AgeRegMarij &lt;int&gt; | HardDrugs &lt;chr&gt; | SexEver &lt;chr&gt; | SexAge &lt;int&gt; | SexNumPartnLife &lt;int&gt; | SexNumPartYear &lt;int&gt; | SameSex &lt;chr&gt; | SexOrientation &lt;chr&gt; | PregnantNow &lt;chr&gt; |\n",
       "|---|---|---|---|---|---|---|---|---|---|---|---|---|---|---|---|---|---|---|---|---|---|\n",
       "| 1 | 51624 | 2009_10 | male   | 34 |  30-39 | 409 | White | NA | High School  | Married     | ⋯ | No | NA | Yes | Yes | 16 |  8 |  1 | No  | Heterosexual | NA |\n",
       "| 2 | 51624 | 2009_10 | male   | 34 |  30-39 | 409 | White | NA | High School  | Married     | ⋯ | No | NA | Yes | Yes | 16 |  8 |  1 | No  | Heterosexual | NA |\n",
       "| 3 | 51624 | 2009_10 | male   | 34 |  30-39 | 409 | White | NA | High School  | Married     | ⋯ | No | NA | Yes | Yes | 16 |  8 |  1 | No  | Heterosexual | NA |\n",
       "| 4 | 51625 | 2009_10 | male   |  4 |  0-9   |  49 | Other | NA | NA           | NA          | ⋯ | NA | NA | NA  | NA  | NA | NA | NA | NA  | NA           | NA |\n",
       "| 5 | 51630 | 2009_10 | female | 49 |  40-49 | 596 | White | NA | Some College | LivePartner | ⋯ | No | NA | Yes | Yes | 12 | 10 |  1 | Yes | Heterosexual | NA |\n",
       "| 6 | 51638 | 2009_10 | male   |  9 |  0-9   | 115 | White | NA | NA           | NA          | ⋯ | NA | NA | NA  | NA  | NA | NA | NA | NA  | NA           | NA |\n",
       "\n"
      ],
      "text/plain": [
       "  ID    SurveyYr Gender Age AgeDecade AgeMonths Race1 Race3 Education   \n",
       "1 51624 2009_10  male   34   30-39    409       White NA    High School \n",
       "2 51624 2009_10  male   34   30-39    409       White NA    High School \n",
       "3 51624 2009_10  male   34   30-39    409       White NA    High School \n",
       "4 51625 2009_10  male    4   0-9       49       Other NA    NA          \n",
       "5 51630 2009_10  female 49   40-49    596       White NA    Some College\n",
       "6 51638 2009_10  male    9   0-9      115       White NA    NA          \n",
       "  MaritalStatus ⋯ RegularMarij AgeRegMarij HardDrugs SexEver SexAge\n",
       "1 Married       ⋯ No           NA          Yes       Yes     16    \n",
       "2 Married       ⋯ No           NA          Yes       Yes     16    \n",
       "3 Married       ⋯ No           NA          Yes       Yes     16    \n",
       "4 NA            ⋯ NA           NA          NA        NA      NA    \n",
       "5 LivePartner   ⋯ No           NA          Yes       Yes     12    \n",
       "6 NA            ⋯ NA           NA          NA        NA      NA    \n",
       "  SexNumPartnLife SexNumPartYear SameSex SexOrientation PregnantNow\n",
       "1  8               1             No      Heterosexual   NA         \n",
       "2  8               1             No      Heterosexual   NA         \n",
       "3  8               1             No      Heterosexual   NA         \n",
       "4 NA              NA             NA      NA             NA         \n",
       "5 10               1             Yes     Heterosexual   NA         \n",
       "6 NA              NA             NA      NA             NA         "
      ]
     },
     "metadata": {},
     "output_type": "display_data"
    }
   ],
   "source": [
    "nhanes <- read.csv(\"nhanes.txt\", sep=\",\")\n",
    "\n",
    "head(nhanes)"
   ]
  },
  {
   "cell_type": "code",
   "execution_count": 27,
   "id": "9a3944ae-46fd-45ab-b23a-d930ada6837e",
   "metadata": {},
   "outputs": [
    {
     "name": "stdout",
     "output_type": "stream",
     "text": [
      "Personen, bei denen fehlende Werte vorliegt: 10000 von insgesamt 10000"
     ]
    }
   ],
   "source": [
    "num_na <- function(dataset) {\n",
    "    count <- 0\n",
    "    for (i in 1:nrow(dataset)) {\n",
    "        row <- dataset[i,]\n",
    "        if (any(is.na(row))) {\n",
    "            count <- count + 1\n",
    "        }\n",
    "    }\n",
    "    count\n",
    "}\n",
    "\n",
    "na_persons <- num_na(nhanes)\n",
    "\n",
    "cat(\"Personen, bei denen fehlende Werte vorliegt:\", na_persons, \"von insgesamt\", nrow(nhanes))"
   ]
  },
  {
   "cell_type": "code",
   "execution_count": 30,
   "id": "630e6ab7-14c3-4cd1-9dca-4f89267a76ed",
   "metadata": {},
   "outputs": [
    {
     "name": "stdout",
     "output_type": "stream",
     "text": [
      "Spalten frei von fehlenden Werten: 5"
     ]
    }
   ],
   "source": [
    "no_na <- function(dataset) {\n",
    "    count <- 0\n",
    "    for (i in 1:ncol(dataset)) {\n",
    "        col <- dataset[,i]\n",
    "        if (!(any(is.na(col)))) {\n",
    "            count <- count + 1\n",
    "        }\n",
    "    }\n",
    "    count\n",
    "}\n",
    "\n",
    "wo_missing_rows <- no_na(nhanes)\n",
    "\n",
    "cat(\"Spalten frei von fehlenden Werten:\", wo_missing_rows)"
   ]
  },
  {
   "cell_type": "code",
   "execution_count": 35,
   "id": "244ce413-f21d-4e2c-b98a-83a0a4669a40",
   "metadata": {},
   "outputs": [
    {
     "name": "stdout",
     "output_type": "stream",
     "text": [
      "Die meisten Werte fehlen in der Spalte HeadCirc"
     ]
    }
   ],
   "source": [
    "max_na <- function(dataset) {\n",
    "    max_col <- 0\n",
    "    curr_max <- -1\n",
    "    for (i in 1:ncol(dataset)) {\n",
    "        col <- dataset[,i]\n",
    "        missing <- sum(is.na(col))\n",
    "        if (missing > 0 && missing > curr_max) {\n",
    "            curr_max <- missing\n",
    "            max_col <- i\n",
    "        }\n",
    "    }\n",
    "    max_col\n",
    "}\n",
    "\n",
    "max_missing_cols <- max_na(nhanes)\n",
    "\n",
    "cat(\"Die meisten Werte fehlen in der Spalte\", colnames(nhanes)[max_missing_cols])"
   ]
  },
  {
   "cell_type": "code",
   "execution_count": 53,
   "id": "6c3564ba-5a95-4572-8117-d7bc0a261d86",
   "metadata": {},
   "outputs": [
    {
     "name": "stdout",
     "output_type": "stream",
     "text": [
      "[1] \"BMI:\"\n"
     ]
    },
    {
     "data": {
      "text/html": [
       "<dl>\n",
       "\t<dt>$mean</dt>\n",
       "\t\t<dd>26.660135976749</dd>\n",
       "\t<dt>$ci_lower</dt>\n",
       "\t\t<dd>26.51281847503</dd>\n",
       "\t<dt>$ci_upper</dt>\n",
       "\t\t<dd>26.807453478468</dd>\n",
       "\t<dt>$n</dt>\n",
       "\t\t<dd>9634</dd>\n",
       "</dl>\n"
      ],
      "text/latex": [
       "\\begin{description}\n",
       "\\item[\\$mean] 26.660135976749\n",
       "\\item[\\$ci\\_lower] 26.51281847503\n",
       "\\item[\\$ci\\_upper] 26.807453478468\n",
       "\\item[\\$n] 9634\n",
       "\\end{description}\n"
      ],
      "text/markdown": [
       "$mean\n",
       ":   26.660135976749\n",
       "$ci_lower\n",
       ":   26.51281847503\n",
       "$ci_upper\n",
       ":   26.807453478468\n",
       "$n\n",
       ":   9634\n",
       "\n",
       "\n"
      ],
      "text/plain": [
       "$mean\n",
       "[1] 26.66014\n",
       "\n",
       "$ci_lower\n",
       "[1] 26.51282\n",
       "\n",
       "$ci_upper\n",
       "[1] 26.80745\n",
       "\n",
       "$n\n",
       "[1] 9634\n"
      ]
     },
     "metadata": {},
     "output_type": "display_data"
    },
    {
     "name": "stdout",
     "output_type": "stream",
     "text": [
      "[1] \"Cholesterin:\"\n"
     ]
    },
    {
     "data": {
      "text/html": [
       "<dl>\n",
       "\t<dt>$mean</dt>\n",
       "\t\t<dd>4.87921996695775</dd>\n",
       "\t<dt>$ci_lower</dt>\n",
       "\t\t<dd>4.85631603870843</dd>\n",
       "\t<dt>$ci_upper</dt>\n",
       "\t\t<dd>4.90212389520707</dd>\n",
       "\t<dt>$n</dt>\n",
       "\t\t<dd>8474</dd>\n",
       "</dl>\n"
      ],
      "text/latex": [
       "\\begin{description}\n",
       "\\item[\\$mean] 4.87921996695775\n",
       "\\item[\\$ci\\_lower] 4.85631603870843\n",
       "\\item[\\$ci\\_upper] 4.90212389520707\n",
       "\\item[\\$n] 8474\n",
       "\\end{description}\n"
      ],
      "text/markdown": [
       "$mean\n",
       ":   4.87921996695775\n",
       "$ci_lower\n",
       ":   4.85631603870843\n",
       "$ci_upper\n",
       ":   4.90212389520707\n",
       "$n\n",
       ":   8474\n",
       "\n",
       "\n"
      ],
      "text/plain": [
       "$mean\n",
       "[1] 4.87922\n",
       "\n",
       "$ci_lower\n",
       "[1] 4.856316\n",
       "\n",
       "$ci_upper\n",
       "[1] 4.902124\n",
       "\n",
       "$n\n",
       "[1] 8474\n"
      ]
     },
     "metadata": {},
     "output_type": "display_data"
    }
   ],
   "source": [
    "mean_ci <- function(x, c=0.95) {\n",
    "    x <- x[complete.cases(x)]\n",
    "    n <- length(x)\n",
    "    mean_x <- mean(x)\n",
    "    stderr <- sd(x) / sqrt(n)\n",
    "    err_margin <- qt(c + (1 - c) / 2, df=n-1) * stderr\n",
    "    ci_lower <- mean_x - err_margin\n",
    "    ci_upper <- mean_x + err_margin\n",
    "    return(list(mean = mean_x, ci_lower = ci_lower, ci_upper = ci_upper, n = n))\n",
    "}\n",
    "\n",
    "\n",
    "print(\"BMI:\")\n",
    "mean_ci(nhanes$BMI)\n",
    "print(\"Cholesterin:\")\n",
    "mean_ci(nhanes$TotChol)"
   ]
  },
  {
   "cell_type": "markdown",
   "id": "a6bd56db-e2dd-401e-931c-0959a784eb43",
   "metadata": {},
   "source": [
    "## Aufgabe 34\n",
    "\n",
    "Laden Sie nun den Datensatz starwars aus dem R Paket tidyverse\n",
    "und beantworten Sie folgende Fragen:\n",
    "\n",
    "**A:** Wie viel Prozent der Datenpunkte fehlen? Welche Spalte hat die meisten\n",
    "fehlenden Werte?\n",
    "\n",
    "**B:** Wenn Sie alle Zeilen entfernen, die mindestens einen fehlenden Wert\n",
    "enthalten, wie viel Prozent der Daten verlieren Sie?\n",
    "\n",
    "**C:** Wieso treten die Missings auf? Gibt es ein Muster in den fehlenden Wer-\n",
    "ten?"
   ]
  },
  {
   "cell_type": "code",
   "execution_count": 57,
   "id": "ff121fee-9832-4b43-bc35-76009621ef17",
   "metadata": {},
   "outputs": [
    {
     "data": {
      "text/html": [
       "<table class=\"dataframe\">\n",
       "<caption>A data.frame: 6 × 14</caption>\n",
       "<thead>\n",
       "\t<tr><th></th><th scope=col>name</th><th scope=col>height</th><th scope=col>mass</th><th scope=col>hair_color</th><th scope=col>skin_color</th><th scope=col>eye_color</th><th scope=col>birth_year</th><th scope=col>sex</th><th scope=col>gender</th><th scope=col>homeworld</th><th scope=col>species</th><th scope=col>films</th><th scope=col>vehicles</th><th scope=col>starships</th></tr>\n",
       "\t<tr><th></th><th scope=col>&lt;chr&gt;</th><th scope=col>&lt;int&gt;</th><th scope=col>&lt;dbl&gt;</th><th scope=col>&lt;chr&gt;</th><th scope=col>&lt;chr&gt;</th><th scope=col>&lt;chr&gt;</th><th scope=col>&lt;dbl&gt;</th><th scope=col>&lt;chr&gt;</th><th scope=col>&lt;chr&gt;</th><th scope=col>&lt;chr&gt;</th><th scope=col>&lt;chr&gt;</th><th scope=col>&lt;chr&gt;</th><th scope=col>&lt;chr&gt;</th><th scope=col>&lt;chr&gt;</th></tr>\n",
       "</thead>\n",
       "<tbody>\n",
       "\t<tr><th scope=row>1</th><td>Luke Skywalker</td><td>172</td><td> 77</td><td>blond      </td><td>fair       </td><td>blue  </td><td> 19.0</td><td>male  </td><td>masculine</td><td>Tatooine</td><td>Human</td><td>A New Hope, The Empire Strikes Back, Return of the Jedi, Revenge of the Sith, The Force Awakens                                          </td><td>Snowspeeder, Imperial Speeder Bike</td><td>X-wing, Imperial shuttle</td></tr>\n",
       "\t<tr><th scope=row>2</th><td>C-3PO         </td><td>167</td><td> 75</td><td>NA         </td><td>gold       </td><td>yellow</td><td>112.0</td><td>none  </td><td>masculine</td><td>Tatooine</td><td>Droid</td><td>A New Hope, The Empire Strikes Back, Return of the Jedi, The Phantom Menace, Attack of the Clones, Revenge of the Sith                   </td><td>                                  </td><td>                        </td></tr>\n",
       "\t<tr><th scope=row>3</th><td>R2-D2         </td><td> 96</td><td> 32</td><td>NA         </td><td>white, blue</td><td>red   </td><td> 33.0</td><td>none  </td><td>masculine</td><td>Naboo   </td><td>Droid</td><td>A New Hope, The Empire Strikes Back, Return of the Jedi, The Phantom Menace, Attack of the Clones, Revenge of the Sith, The Force Awakens</td><td>                                  </td><td>                        </td></tr>\n",
       "\t<tr><th scope=row>4</th><td>Darth Vader   </td><td>202</td><td>136</td><td>none       </td><td>white      </td><td>yellow</td><td> 41.9</td><td>male  </td><td>masculine</td><td>Tatooine</td><td>Human</td><td>A New Hope, The Empire Strikes Back, Return of the Jedi, Revenge of the Sith                                                             </td><td>                                  </td><td>TIE Advanced x1         </td></tr>\n",
       "\t<tr><th scope=row>5</th><td>Leia Organa   </td><td>150</td><td> 49</td><td>brown      </td><td>light      </td><td>brown </td><td> 19.0</td><td>female</td><td>feminine </td><td>Alderaan</td><td>Human</td><td>A New Hope, The Empire Strikes Back, Return of the Jedi, Revenge of the Sith, The Force Awakens                                          </td><td>Imperial Speeder Bike             </td><td>                        </td></tr>\n",
       "\t<tr><th scope=row>6</th><td>Owen Lars     </td><td>178</td><td>120</td><td>brown, grey</td><td>light      </td><td>blue  </td><td> 52.0</td><td>male  </td><td>masculine</td><td>Tatooine</td><td>Human</td><td>A New Hope, Attack of the Clones, Revenge of the Sith                                                                                    </td><td>                                  </td><td>                        </td></tr>\n",
       "</tbody>\n",
       "</table>\n"
      ],
      "text/latex": [
       "A data.frame: 6 × 14\n",
       "\\begin{tabular}{r|llllllllllllll}\n",
       "  & name & height & mass & hair\\_color & skin\\_color & eye\\_color & birth\\_year & sex & gender & homeworld & species & films & vehicles & starships\\\\\n",
       "  & <chr> & <int> & <dbl> & <chr> & <chr> & <chr> & <dbl> & <chr> & <chr> & <chr> & <chr> & <chr> & <chr> & <chr>\\\\\n",
       "\\hline\n",
       "\t1 & Luke Skywalker & 172 &  77 & blond       & fair        & blue   &  19.0 & male   & masculine & Tatooine & Human & A New Hope, The Empire Strikes Back, Return of the Jedi, Revenge of the Sith, The Force Awakens                                           & Snowspeeder, Imperial Speeder Bike & X-wing, Imperial shuttle\\\\\n",
       "\t2 & C-3PO          & 167 &  75 & NA          & gold        & yellow & 112.0 & none   & masculine & Tatooine & Droid & A New Hope, The Empire Strikes Back, Return of the Jedi, The Phantom Menace, Attack of the Clones, Revenge of the Sith                    &                                    &                         \\\\\n",
       "\t3 & R2-D2          &  96 &  32 & NA          & white, blue & red    &  33.0 & none   & masculine & Naboo    & Droid & A New Hope, The Empire Strikes Back, Return of the Jedi, The Phantom Menace, Attack of the Clones, Revenge of the Sith, The Force Awakens &                                    &                         \\\\\n",
       "\t4 & Darth Vader    & 202 & 136 & none        & white       & yellow &  41.9 & male   & masculine & Tatooine & Human & A New Hope, The Empire Strikes Back, Return of the Jedi, Revenge of the Sith                                                              &                                    & TIE Advanced x1         \\\\\n",
       "\t5 & Leia Organa    & 150 &  49 & brown       & light       & brown  &  19.0 & female & feminine  & Alderaan & Human & A New Hope, The Empire Strikes Back, Return of the Jedi, Revenge of the Sith, The Force Awakens                                           & Imperial Speeder Bike              &                         \\\\\n",
       "\t6 & Owen Lars      & 178 & 120 & brown, grey & light       & blue   &  52.0 & male   & masculine & Tatooine & Human & A New Hope, Attack of the Clones, Revenge of the Sith                                                                                     &                                    &                         \\\\\n",
       "\\end{tabular}\n"
      ],
      "text/markdown": [
       "\n",
       "A data.frame: 6 × 14\n",
       "\n",
       "| <!--/--> | name &lt;chr&gt; | height &lt;int&gt; | mass &lt;dbl&gt; | hair_color &lt;chr&gt; | skin_color &lt;chr&gt; | eye_color &lt;chr&gt; | birth_year &lt;dbl&gt; | sex &lt;chr&gt; | gender &lt;chr&gt; | homeworld &lt;chr&gt; | species &lt;chr&gt; | films &lt;chr&gt; | vehicles &lt;chr&gt; | starships &lt;chr&gt; |\n",
       "|---|---|---|---|---|---|---|---|---|---|---|---|---|---|---|\n",
       "| 1 | Luke Skywalker | 172 |  77 | blond       | fair        | blue   |  19.0 | male   | masculine | Tatooine | Human | A New Hope, The Empire Strikes Back, Return of the Jedi, Revenge of the Sith, The Force Awakens                                           | Snowspeeder, Imperial Speeder Bike | X-wing, Imperial shuttle |\n",
       "| 2 | C-3PO          | 167 |  75 | NA          | gold        | yellow | 112.0 | none   | masculine | Tatooine | Droid | A New Hope, The Empire Strikes Back, Return of the Jedi, The Phantom Menace, Attack of the Clones, Revenge of the Sith                    | <!----> | <!----> |\n",
       "| 3 | R2-D2          |  96 |  32 | NA          | white, blue | red    |  33.0 | none   | masculine | Naboo    | Droid | A New Hope, The Empire Strikes Back, Return of the Jedi, The Phantom Menace, Attack of the Clones, Revenge of the Sith, The Force Awakens | <!----> | <!----> |\n",
       "| 4 | Darth Vader    | 202 | 136 | none        | white       | yellow |  41.9 | male   | masculine | Tatooine | Human | A New Hope, The Empire Strikes Back, Return of the Jedi, Revenge of the Sith                                                              | <!----> | TIE Advanced x1          |\n",
       "| 5 | Leia Organa    | 150 |  49 | brown       | light       | brown  |  19.0 | female | feminine  | Alderaan | Human | A New Hope, The Empire Strikes Back, Return of the Jedi, Revenge of the Sith, The Force Awakens                                           | Imperial Speeder Bike              | <!----> |\n",
       "| 6 | Owen Lars      | 178 | 120 | brown, grey | light       | blue   |  52.0 | male   | masculine | Tatooine | Human | A New Hope, Attack of the Clones, Revenge of the Sith                                                                                     | <!----> | <!----> |\n",
       "\n"
      ],
      "text/plain": [
       "  name           height mass hair_color  skin_color  eye_color birth_year\n",
       "1 Luke Skywalker 172     77  blond       fair        blue       19.0     \n",
       "2 C-3PO          167     75  NA          gold        yellow    112.0     \n",
       "3 R2-D2           96     32  NA          white, blue red        33.0     \n",
       "4 Darth Vader    202    136  none        white       yellow     41.9     \n",
       "5 Leia Organa    150     49  brown       light       brown      19.0     \n",
       "6 Owen Lars      178    120  brown, grey light       blue       52.0     \n",
       "  sex    gender    homeworld species\n",
       "1 male   masculine Tatooine  Human  \n",
       "2 none   masculine Tatooine  Droid  \n",
       "3 none   masculine Naboo     Droid  \n",
       "4 male   masculine Tatooine  Human  \n",
       "5 female feminine  Alderaan  Human  \n",
       "6 male   masculine Tatooine  Human  \n",
       "  films                                                                                                                                    \n",
       "1 A New Hope, The Empire Strikes Back, Return of the Jedi, Revenge of the Sith, The Force Awakens                                          \n",
       "2 A New Hope, The Empire Strikes Back, Return of the Jedi, The Phantom Menace, Attack of the Clones, Revenge of the Sith                   \n",
       "3 A New Hope, The Empire Strikes Back, Return of the Jedi, The Phantom Menace, Attack of the Clones, Revenge of the Sith, The Force Awakens\n",
       "4 A New Hope, The Empire Strikes Back, Return of the Jedi, Revenge of the Sith                                                             \n",
       "5 A New Hope, The Empire Strikes Back, Return of the Jedi, Revenge of the Sith, The Force Awakens                                          \n",
       "6 A New Hope, Attack of the Clones, Revenge of the Sith                                                                                    \n",
       "  vehicles                           starships               \n",
       "1 Snowspeeder, Imperial Speeder Bike X-wing, Imperial shuttle\n",
       "2                                                            \n",
       "3                                                            \n",
       "4                                    TIE Advanced x1         \n",
       "5 Imperial Speeder Bike                                      \n",
       "6                                                            "
      ]
     },
     "metadata": {},
     "output_type": "display_data"
    }
   ],
   "source": [
    "starwars <- read.csv(\"starwars.csv\")\n",
    "head(starwars)"
   ]
  },
  {
   "cell_type": "code",
   "execution_count": 69,
   "id": "63fa1f03-1e8d-4d32-b405-2197403a4cbc",
   "metadata": {},
   "outputs": [
    {
     "data": {
      "text/html": [
       "<dl>\n",
       "\t<dt>$total_missing</dt>\n",
       "\t\t<dd>105</dd>\n",
       "\t<dt>$max_column</dt>\n",
       "\t\t<dd>7</dd>\n",
       "\t<dt>$percentage_missing</dt>\n",
       "\t\t<dd>0.0862068965517241</dd>\n",
       "</dl>\n"
      ],
      "text/latex": [
       "\\begin{description}\n",
       "\\item[\\$total\\_missing] 105\n",
       "\\item[\\$max\\_column] 7\n",
       "\\item[\\$percentage\\_missing] 0.0862068965517241\n",
       "\\end{description}\n"
      ],
      "text/markdown": [
       "$total_missing\n",
       ":   105\n",
       "$max_column\n",
       ":   7\n",
       "$percentage_missing\n",
       ":   0.0862068965517241\n",
       "\n",
       "\n"
      ],
      "text/plain": [
       "$total_missing\n",
       "[1] 105\n",
       "\n",
       "$max_column\n",
       "[1] 7\n",
       "\n",
       "$percentage_missing\n",
       "[1] 0.0862069\n"
      ]
     },
     "metadata": {},
     "output_type": "display_data"
    },
    {
     "name": "stdout",
     "output_type": "stream",
     "text": [
      "Die meisten Werte fehlen in der Spalte birth_year"
     ]
    }
   ],
   "source": [
    "missing_datapoints <- function(dataset) {\n",
    "    max_col <- 0\n",
    "    curr_max <- -1\n",
    "    total_missing <- 0\n",
    "    total_data <- ncol(dataset) * nrow(dataset)\n",
    "    for (i in 1:ncol(dataset)) {\n",
    "        col <- dataset[,i]\n",
    "        missing <- sum(is.na(col))\n",
    "        total_missing <- total_missing + missing\n",
    "        \n",
    "        if (missing > 0 && missing > curr_max) {\n",
    "            curr_max <- missing\n",
    "            max_col <- i\n",
    "        }\n",
    "    }\n",
    "    return(list(total_missing=total_missing, max_column=max_col, percentage_missing=(total_missing / total_data)))\n",
    "}\n",
    "\n",
    "missing <- missing_datapoints(starwars)\n",
    "missing\n",
    "\n",
    "cat(\"Die meisten Werte fehlen in der Spalte\", colnames(starwars[missing$max_column]))"
   ]
  },
  {
   "cell_type": "code",
   "execution_count": 75,
   "id": "9d828823-b086-4efe-8978-c771b92462fb",
   "metadata": {},
   "outputs": [
    {
     "name": "stdout",
     "output_type": "stream",
     "text": [
      "Anzahl Zeilen mit fehlenden Informationen: 58 von 87 \n",
      "Würde man diese entfernen, so würde man 0.6666667 % der Information verlieren"
     ]
    }
   ],
   "source": [
    "number_rows_w_missing <- num_na(starwars)\n",
    "cat(\"Anzahl Zeilen mit fehlenden Informationen:\", number_rows_w_missing, \"von\", nrow(starwars), \"\\nWürde man diese entfernen, so würde man\", (number_rows_w_missing/nrow(starwars)), \"% der Information verlieren\")"
   ]
  },
  {
   "cell_type": "markdown",
   "id": "e54172dd-a4fd-4785-82f8-6de7d80c420c",
   "metadata": {},
   "source": [
    "Beim Alter gibt es besonders viele fehlende Werte"
   ]
  },
  {
   "cell_type": "markdown",
   "id": "fb06bdb1-ecbf-4f1b-9edb-ea35e30282b8",
   "metadata": {},
   "source": [
    "## Aufgabe 35\n",
    "\n",
    "Betrachten Sie nochmal den Datensatz nhanes aus dem R Paket\n",
    "mice.\n",
    "\n",
    "**A:** Untersuchen Sie den linearen Einfluss des Cholesterols auf den BMI in\n",
    "einer Complete Case Analyse.\n",
    "\n",
    "**B:** Untersuchen Sie den linearen Einfluss von Cholesterol auf den BMI, wobei Sie die fehlenden Werte 5 mal multiple imputieren. Betrachten Sie dabei sowohl die Einzelergebnisse aller 5 Imputationen als auch das gepoolte Ergebnis."
   ]
  },
  {
   "cell_type": "code",
   "execution_count": 87,
   "id": "79f73daf-ef28-499c-96ee-6e86ae1f0f02",
   "metadata": {},
   "outputs": [
    {
     "data": {
      "text/plain": [
       "\n",
       "Call:\n",
       "lm(formula = bmi ~ chol, data = complete)\n",
       "\n",
       "Residuals:\n",
       "    Min      1Q  Median      3Q     Max \n",
       "-15.863  -4.760  -1.030   3.833  54.666 \n",
       "\n",
       "Coefficients:\n",
       "            Estimate Std. Error t value Pr(>|t|)    \n",
       "(Intercept) 22.72050    0.35426   64.14   <2e-16 ***\n",
       "chol         0.97067    0.07088   13.69   <2e-16 ***\n",
       "---\n",
       "Signif. codes:  0 ‘***’ 0.001 ‘**’ 0.01 ‘*’ 0.05 ‘.’ 0.1 ‘ ’ 1\n",
       "\n",
       "Residual standard error: 6.982 on 8404 degrees of freedom\n",
       "  (1594 observations deleted due to missingness)\n",
       "Multiple R-squared:  0.02183,\tAdjusted R-squared:  0.02171 \n",
       "F-statistic: 187.5 on 1 and 8404 DF,  p-value: < 2.2e-16\n"
      ]
     },
     "metadata": {},
     "output_type": "display_data"
    }
   ],
   "source": [
    "nhanes <- read.csv(\"nhanes.txt\", sep=\",\")\n",
    "bmi <- nhanes$BMI\n",
    "chol <- nhanes$TotChol\n",
    "\n",
    "complete <- nhanes[complete.cases(nhanes)] # Wir betrachten nur die Daten mit vollständigen Einträgen\n",
    "\n",
    "model <- lm(bmi ~ chol, data=complete)\n",
    "\n",
    "summary(model)"
   ]
  },
  {
   "cell_type": "markdown",
   "id": "c8ee9981-0923-4f53-94ea-0cd865d68d40",
   "metadata": {},
   "source": [
    "Da der p-Wert für `chol` sehr klein ist (<2e-16), können wir schlussfolgern, dass es einen auf diesem Niveau statistisch signifikanten Zusammenhang gibt."
   ]
  },
  {
   "cell_type": "markdown",
   "id": "59b0b5eb-ded0-488c-bbf9-c7babe11104c",
   "metadata": {},
   "source": [
    "Für **B** würde man mice benutzen, um die Imputationen durchzuführen:\n",
    "\n",
    "```R\n",
    "imp <- mice(nhanes, m = 5, seed = 123)\n",
    "```\n",
    "\n",
    "Und anschließend für jede der Imputationen eine lineare Regression berechnen. Bei meinem System hat es allerdings ein Problem mit dem Paket mice gegeben."
   ]
  }
 ],
 "metadata": {
  "kernelspec": {
   "display_name": "R",
   "language": "R",
   "name": "ir"
  },
  "language_info": {
   "codemirror_mode": "r",
   "file_extension": ".r",
   "mimetype": "text/x-r-source",
   "name": "R",
   "pygments_lexer": "r",
   "version": "4.3.1"
  }
 },
 "nbformat": 4,
 "nbformat_minor": 5
}
