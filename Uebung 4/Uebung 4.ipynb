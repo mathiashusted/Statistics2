{
 "cells": [
  {
   "cell_type": "markdown",
   "id": "da13b633-ed2c-4c76-9290-eb973ea00f20",
   "metadata": {},
   "source": [
    "# Übung 4"
   ]
  },
  {
   "cell_type": "markdown",
   "id": "81e57762-e04d-45c4-aebc-6f0d0682ccbd",
   "metadata": {},
   "source": [
    "## Aufgabe 16\n",
    "Erweitern Sie das logistische Regressionsmodell\n",
    "$$M_1: Unfall∼Geschlecht+Beruf$$\n",
    "für den Datensatz Unfaelle.txt um die Interaktion zwischen Geschlecht und\n",
    "Beruf zum Modell\n",
    "$$M_2: Unfall∼Geschlecht+Beruf+Geschlecht:Beruf$$\n",
    "Die Interaktion von Geschlecht und Beruf sind zwei neue Variablen $GD_1$ und\n",
    "$GD_2$, wobei $G$ die Dummy-Variable für Geschlecht und $D_1$, $D_1$ die Dummy-\n",
    "Variablen für die Berufe Physiker und Zahnarzt sind. Benutzen Sie das Modell, um die Odds für einen Unfall der verschiedenen Berufe getrennt nach\n",
    "Geschlecht zu schätzen. Welche inhaltliche Bedeutung hat die Interaktion zwischen Geschlecht und Beruf? Ist die Interaktion signifikant auf dem 5% Niveau?\n",
    "Führen Sie für die Interaktion den Likelihood-Ratio-Test durch."
   ]
  },
  {
   "cell_type": "code",
   "execution_count": 1,
   "id": "36f8d88e-27bd-40c4-8e38-d8fc3948d412",
   "metadata": {},
   "outputs": [
    {
     "data": {
      "text/html": [
       "<table class=\"dataframe\">\n",
       "<caption>A data.frame: 6 × 6</caption>\n",
       "<thead>\n",
       "\t<tr><th></th><th scope=col>Lnr</th><th scope=col>Unfall</th><th scope=col>Geschlecht</th><th scope=col>Beruf</th><th scope=col>Alter</th><th scope=col>Fahrpraxis</th></tr>\n",
       "\t<tr><th></th><th scope=col>&lt;int&gt;</th><th scope=col>&lt;int&gt;</th><th scope=col>&lt;chr&gt;</th><th scope=col>&lt;chr&gt;</th><th scope=col>&lt;int&gt;</th><th scope=col>&lt;int&gt;</th></tr>\n",
       "</thead>\n",
       "<tbody>\n",
       "\t<tr><th scope=row>1</th><td>1</td><td>0</td><td>Mann</td><td>Physiker</td><td>31</td><td>12</td></tr>\n",
       "\t<tr><th scope=row>2</th><td>2</td><td>0</td><td>Frau</td><td>Physiker</td><td>37</td><td>18</td></tr>\n",
       "\t<tr><th scope=row>3</th><td>3</td><td>0</td><td>Frau</td><td>Physiker</td><td>38</td><td>18</td></tr>\n",
       "\t<tr><th scope=row>4</th><td>4</td><td>0</td><td>Frau</td><td>Physiker</td><td>44</td><td>25</td></tr>\n",
       "\t<tr><th scope=row>5</th><td>5</td><td>0</td><td>Frau</td><td>Physiker</td><td>52</td><td>33</td></tr>\n",
       "\t<tr><th scope=row>6</th><td>6</td><td>0</td><td>Mann</td><td>Physiker</td><td>41</td><td>22</td></tr>\n",
       "</tbody>\n",
       "</table>\n"
      ],
      "text/latex": [
       "A data.frame: 6 × 6\n",
       "\\begin{tabular}{r|llllll}\n",
       "  & Lnr & Unfall & Geschlecht & Beruf & Alter & Fahrpraxis\\\\\n",
       "  & <int> & <int> & <chr> & <chr> & <int> & <int>\\\\\n",
       "\\hline\n",
       "\t1 & 1 & 0 & Mann & Physiker & 31 & 12\\\\\n",
       "\t2 & 2 & 0 & Frau & Physiker & 37 & 18\\\\\n",
       "\t3 & 3 & 0 & Frau & Physiker & 38 & 18\\\\\n",
       "\t4 & 4 & 0 & Frau & Physiker & 44 & 25\\\\\n",
       "\t5 & 5 & 0 & Frau & Physiker & 52 & 33\\\\\n",
       "\t6 & 6 & 0 & Mann & Physiker & 41 & 22\\\\\n",
       "\\end{tabular}\n"
      ],
      "text/markdown": [
       "\n",
       "A data.frame: 6 × 6\n",
       "\n",
       "| <!--/--> | Lnr &lt;int&gt; | Unfall &lt;int&gt; | Geschlecht &lt;chr&gt; | Beruf &lt;chr&gt; | Alter &lt;int&gt; | Fahrpraxis &lt;int&gt; |\n",
       "|---|---|---|---|---|---|---|\n",
       "| 1 | 1 | 0 | Mann | Physiker | 31 | 12 |\n",
       "| 2 | 2 | 0 | Frau | Physiker | 37 | 18 |\n",
       "| 3 | 3 | 0 | Frau | Physiker | 38 | 18 |\n",
       "| 4 | 4 | 0 | Frau | Physiker | 44 | 25 |\n",
       "| 5 | 5 | 0 | Frau | Physiker | 52 | 33 |\n",
       "| 6 | 6 | 0 | Mann | Physiker | 41 | 22 |\n",
       "\n"
      ],
      "text/plain": [
       "  Lnr Unfall Geschlecht Beruf    Alter Fahrpraxis\n",
       "1 1   0      Mann       Physiker 31    12        \n",
       "2 2   0      Frau       Physiker 37    18        \n",
       "3 3   0      Frau       Physiker 38    18        \n",
       "4 4   0      Frau       Physiker 44    25        \n",
       "5 5   0      Frau       Physiker 52    33        \n",
       "6 6   0      Mann       Physiker 41    22        "
      ]
     },
     "metadata": {},
     "output_type": "display_data"
    }
   ],
   "source": [
    "unfaelle <- read.csv(file = \"../Uebung 3/Unfaelle.txt\", sep=\" \")\n",
    "head(unfaelle)"
   ]
  },
  {
   "cell_type": "markdown",
   "id": "aaf3f787-4e11-4f23-ae16-ab825a8468fe",
   "metadata": {},
   "source": [
    "Zur Veranschaulichung das Modell $M_1$"
   ]
  },
  {
   "cell_type": "code",
   "execution_count": 2,
   "id": "4677464b-f193-4e2c-83e6-5f3cc62f3a09",
   "metadata": {},
   "outputs": [
    {
     "data": {
      "text/html": [
       "<style>\n",
       ".dl-inline {width: auto; margin:0; padding: 0}\n",
       ".dl-inline>dt, .dl-inline>dd {float: none; width: auto; display: inline-block}\n",
       ".dl-inline>dt::after {content: \":\\0020\"; padding-right: .5ex}\n",
       ".dl-inline>dt:not(:first-of-type) {padding-left: .5ex}\n",
       "</style><dl class=dl-inline><dt>(Intercept)</dt><dd>-3.09027932484487</dd><dt>Geschlecht_factorMann</dt><dd>-0.793606354457076</dd><dt>Beruf_factorPhysiker</dt><dd>-0.436408020717381</dd><dt>Beruf_factorZahnarzt</dt><dd>0.786334428081077</dd></dl>\n"
      ],
      "text/latex": [
       "\\begin{description*}\n",
       "\\item[(Intercept)] -3.09027932484487\n",
       "\\item[Geschlecht\\textbackslash{}\\_factorMann] -0.793606354457076\n",
       "\\item[Beruf\\textbackslash{}\\_factorPhysiker] -0.436408020717381\n",
       "\\item[Beruf\\textbackslash{}\\_factorZahnarzt] 0.786334428081077\n",
       "\\end{description*}\n"
      ],
      "text/markdown": [
       "(Intercept)\n",
       ":   -3.09027932484487Geschlecht_factorMann\n",
       ":   -0.793606354457076Beruf_factorPhysiker\n",
       ":   -0.436408020717381Beruf_factorZahnarzt\n",
       ":   0.786334428081077\n",
       "\n"
      ],
      "text/plain": [
       "          (Intercept) Geschlecht_factorMann  Beruf_factorPhysiker \n",
       "           -3.0902793            -0.7936064            -0.4364080 \n",
       " Beruf_factorZahnarzt \n",
       "            0.7863344 "
      ]
     },
     "metadata": {},
     "output_type": "display_data"
    }
   ],
   "source": [
    "Geschlecht_factor <- as.factor(unfaelle$Geschlecht)\n",
    "Beruf_factor <- as.factor(unfaelle$Beruf)\n",
    "\n",
    "model_base <- glm(Unfall ~ Geschlecht_factor + Beruf_factor, data=unfaelle, family=binomial)\n",
    "coef(model_base)"
   ]
  },
  {
   "cell_type": "markdown",
   "id": "cd8ae4d5-f328-4fbc-8db1-ef77a429a400",
   "metadata": {},
   "source": [
    "Und $M_2$"
   ]
  },
  {
   "cell_type": "code",
   "execution_count": 3,
   "id": "334877b9-d8f4-4a73-b7a3-ce3b09ef3310",
   "metadata": {},
   "outputs": [
    {
     "data": {
      "text/html": [
       "<style>\n",
       ".dl-inline {width: auto; margin:0; padding: 0}\n",
       ".dl-inline>dt, .dl-inline>dd {float: none; width: auto; display: inline-block}\n",
       ".dl-inline>dt::after {content: \":\\0020\"; padding-right: .5ex}\n",
       ".dl-inline>dt:not(:first-of-type) {padding-left: .5ex}\n",
       "</style><dl class=dl-inline><dt>(Intercept)</dt><dd>-3.15811961544714</dd><dt>Geschlecht_factorMann</dt><dd>-0.519987741684897</dd><dt>Beruf_factorPhysiker</dt><dd>-0.333026002877963</dd><dt>Beruf_factorZahnarzt</dt><dd>0.8944643688213</dd><dt>Geschlecht_factorMann:Beruf_factorPhysiker</dt><dd>-0.419683438825979</dd><dt>Geschlecht_factorMann:Beruf_factorZahnarzt</dt><dd>-0.435232836557475</dd></dl>\n"
      ],
      "text/latex": [
       "\\begin{description*}\n",
       "\\item[(Intercept)] -3.15811961544714\n",
       "\\item[Geschlecht\\textbackslash{}\\_factorMann] -0.519987741684897\n",
       "\\item[Beruf\\textbackslash{}\\_factorPhysiker] -0.333026002877963\n",
       "\\item[Beruf\\textbackslash{}\\_factorZahnarzt] 0.8944643688213\n",
       "\\item[Geschlecht\\textbackslash{}\\_factorMann:Beruf\\textbackslash{}\\_factorPhysiker] -0.419683438825979\n",
       "\\item[Geschlecht\\textbackslash{}\\_factorMann:Beruf\\textbackslash{}\\_factorZahnarzt] -0.435232836557475\n",
       "\\end{description*}\n"
      ],
      "text/markdown": [
       "(Intercept)\n",
       ":   -3.15811961544714Geschlecht_factorMann\n",
       ":   -0.519987741684897Beruf_factorPhysiker\n",
       ":   -0.333026002877963Beruf_factorZahnarzt\n",
       ":   0.8944643688213Geschlecht_factorMann:Beruf_factorPhysiker\n",
       ":   -0.419683438825979Geschlecht_factorMann:Beruf_factorZahnarzt\n",
       ":   -0.435232836557475\n",
       "\n"
      ],
      "text/plain": [
       "                               (Intercept) \n",
       "                                -3.1581196 \n",
       "                     Geschlecht_factorMann \n",
       "                                -0.5199877 \n",
       "                      Beruf_factorPhysiker \n",
       "                                -0.3330260 \n",
       "                      Beruf_factorZahnarzt \n",
       "                                 0.8944644 \n",
       "Geschlecht_factorMann:Beruf_factorPhysiker \n",
       "                                -0.4196834 \n",
       "Geschlecht_factorMann:Beruf_factorZahnarzt \n",
       "                                -0.4352328 "
      ]
     },
     "metadata": {},
     "output_type": "display_data"
    }
   ],
   "source": [
    "model_extended <- glm(Unfall ~ Geschlecht_factor + Beruf_factor + Geschlecht_factor : Beruf_factor, data=unfaelle, family=binomial)\n",
    "coef(model_extended)"
   ]
  },
  {
   "cell_type": "markdown",
   "id": "1d17a3e6-537d-4b5a-ae81-43c7ba41c538",
   "metadata": {},
   "source": [
    "**Odds:**\n",
    "\n",
    "Allgemein gilt:\n",
    "$$\n",
    "\\log \\frac{1}{1-p} = \\beta_0 + \\beta_1 \\text{Mann} + ... \\Rightarrow \\frac{1}{1-p} = exp(\\beta_0 + \\beta_1 \\text{Mann} + ...)\n",
    "$$\n",
    "\n",
    "Also müssen wir die Exponentialfunktion auf die jeweiligen Koeffizienten anwenden"
   ]
  },
  {
   "cell_type": "code",
   "execution_count": 4,
   "id": "07ee17ce-4015-4c35-9a0d-e9bc78808807",
   "metadata": {},
   "outputs": [
    {
     "name": "stdout",
     "output_type": "stream",
     "text": [
      "Biologe:  0.02527076 \n",
      "Physiker:  0.01660933 \n",
      "Zahnarzt:  0.01635306 \n",
      "Biologin:  0.04250559 \n",
      "Physikerin 0.03046595 \n",
      "Zahnärztin:  0.1039698"
     ]
    }
   ],
   "source": [
    "coefficients <- coef(model_extended)\n",
    "\n",
    "beta0 <- coefficients[1]\n",
    "beta1 <- coefficients[2] # GeschlechtMann\n",
    "beta2 <- coefficients[3] # BerufPhysiker\n",
    "beta3 <- coefficients[4] # BerufZahnarzt\n",
    "beta4 <- coefficients[5] # GeschlechtMann:BerufPhysiker (zusätzliches Risiko, falls ein Mann Physiker ist, im Vergleich zu einer Frau)\n",
    "beta5 <- coefficients[6] # GeschlechtMann:BerufZahnarzt (analog)\n",
    "\n",
    "logit_mann_bio <- beta0 + beta1\n",
    "logit_mann_phys <- beta0 + beta1 + beta4\n",
    "logit_mann_zahn <- beta0 + beta1 + beta5\n",
    "logit_frau_bio <- beta0\n",
    "logit_frau_phys <- beta0 + beta2\n",
    "logit_frau_zahn <- beta0 + beta3\n",
    "\n",
    "odds_mann_bio <- exp(logit_mann_bio)\n",
    "odds_mann_phys <- exp(logit_mann_phys)\n",
    "odds_mann_zahn <- exp(logit_mann_zahn)\n",
    "odds_frau_bio <- exp(logit_frau_bio)\n",
    "odds_frau_phys <- exp(logit_frau_phys)\n",
    "odds_frau_zahn <- exp(logit_frau_zahn)\n",
    "\n",
    "cat(\"Biologe: \", odds_mann_bio, \"\\nPhysiker: \", odds_mann_phys, \"\\nZahnarzt: \", odds_mann_zahn, \"\\nBiologin: \", odds_frau_bio, \"\\nPhysikerin\", odds_frau_phys, \"\\nZahnärztin: \", odds_frau_zahn)"
   ]
  },
  {
   "cell_type": "markdown",
   "id": "53392fe3-3fe8-4485-af9f-765c4f3d74e6",
   "metadata": {},
   "source": [
    "Die Interaktion zwischen Geschlecht und Beruf:"
   ]
  },
  {
   "cell_type": "code",
   "execution_count": 5,
   "id": "5c506036-3a8a-49f0-98c4-527ce781af71",
   "metadata": {},
   "outputs": [
    {
     "data": {
      "text/plain": [
       "\n",
       "Call:\n",
       "glm(formula = Unfall ~ Geschlecht_factor + Beruf_factor + Geschlecht_factor:Beruf_factor, \n",
       "    family = binomial, data = unfaelle)\n",
       "\n",
       "Coefficients:\n",
       "                                           Estimate Std. Error z value Pr(>|z|)\n",
       "(Intercept)                                 -3.1581     0.1656 -19.067  < 2e-16\n",
       "Geschlecht_factorMann                       -0.5200     0.3173  -1.639    0.101\n",
       "Beruf_factorPhysiker                        -0.3330     0.2967  -1.122    0.262\n",
       "Beruf_factorZahnarzt                         0.8945     0.2180   4.104 4.06e-05\n",
       "Geschlecht_factorMann:Beruf_factorPhysiker  -0.4197     0.6030  -0.696    0.486\n",
       "Geschlecht_factorMann:Beruf_factorZahnarzt  -0.4352     0.4310  -1.010    0.313\n",
       "                                              \n",
       "(Intercept)                                ***\n",
       "Geschlecht_factorMann                         \n",
       "Beruf_factorPhysiker                          \n",
       "Beruf_factorZahnarzt                       ***\n",
       "Geschlecht_factorMann:Beruf_factorPhysiker    \n",
       "Geschlecht_factorMann:Beruf_factorZahnarzt    \n",
       "---\n",
       "Signif. codes:  0 ‘***’ 0.001 ‘**’ 0.01 ‘*’ 0.05 ‘.’ 0.1 ‘ ’ 1\n",
       "\n",
       "(Dispersion parameter for binomial family taken to be 1)\n",
       "\n",
       "    Null deviance: 1207.2  on 3499  degrees of freedom\n",
       "Residual deviance: 1156.7  on 3494  degrees of freedom\n",
       "AIC: 1168.7\n",
       "\n",
       "Number of Fisher Scoring iterations: 7\n"
      ]
     },
     "metadata": {},
     "output_type": "display_data"
    }
   ],
   "source": [
    "summary(model_extended)"
   ]
  },
  {
   "cell_type": "markdown",
   "id": "5e1a1d81-686e-40a8-8e4f-2a6058882c58",
   "metadata": {},
   "source": [
    "In diesem Fall bedeuten:\n",
    "- **Geschlecht_factorMann:Beruf_factorPhysiker ($\\beta_4$)** Die Veränderung der Log-Odds eines Unfalls für Männer, die Physiker sind, im Vergleich zu Frauen, die Physiker sind, zusätzlich zu allen anderen Faktoren\n",
    "- **Geschlecht_factorMann:Beruf_factorZahnarzt ($\\beta_5$)** Die Veränderung der Log-Odds eines Unfalls für Männer, die Zahnärzte sind, im Vergleich zu Frauen, die Zahnärzte sind, zusätzlich zu allen anderen Faktoren\n",
    "\n",
    "In der Tabelle sind zusätzlich unter `Pr(>|z|)` die jeweiligen p-Werte zu finden.\n",
    "\n",
    "Bei $\\beta_4$ findet sich ein p-Wert von $0.486$. Das bedeutet, dass wir die Nullhypothese nicht ablehnen. Anders gesagt: Der Unterschied der Log-Odds eines Unfalls zwischen Physikern und Physikerinnen ist **nicht** groß genug, um statistisch signifikant zu sein.\n",
    "\n",
    "Bei $beta_5$ ist der p-Wert ebenfalls weit über die $5\\%$-Grenze, weswegen wir bei Zahnärzten ebenfalls keinen signifikanten Unterschied beobachten können.\n",
    "\n",
    "Als letztes führen wir den Likelihood-Ratio-Test durch:"
   ]
  },
  {
   "cell_type": "code",
   "execution_count": 6,
   "id": "367412cd-af11-4630-93f0-b56f15120c40",
   "metadata": {},
   "outputs": [
    {
     "name": "stdout",
     "output_type": "stream",
     "text": [
      "Analysis of Deviance Table\n",
      "\n",
      "Model 1: Unfall ~ Geschlecht_factor + Beruf_factor\n",
      "Model 2: Unfall ~ Geschlecht_factor + Beruf_factor + Geschlecht_factor:Beruf_factor\n",
      "  Resid. Df Resid. Dev Df Deviance Pr(>Chi)\n",
      "1      3496     1157.8                     \n",
      "2      3494     1156.7  2   1.1118   0.5736\n"
     ]
    }
   ],
   "source": [
    "lrtest_result <- anova(model_base, model_extended, test = \"LRT\")\n",
    "print(lrtest_result)"
   ]
  },
  {
   "cell_type": "markdown",
   "id": "b68a29d5-8f3e-456c-ae6b-6005b86981f2",
   "metadata": {},
   "source": [
    "Der p-Wert ist **nicht** signifikant ($<5\\%$), also ist unser erweitertes Model $M_2$ nicht besser als unser Ausgangsmodell $M_1$, um die Log-Odds eines Unfalls zu schätzen."
   ]
  },
  {
   "cell_type": "markdown",
   "id": "f0860ff7-8fc2-4447-92c6-3886dd660e2e",
   "metadata": {},
   "source": [
    "## Aufgabe 17"
   ]
  },
  {
   "cell_type": "markdown",
   "id": "996c93d7-f461-49eb-8c50-2937e061c421",
   "metadata": {},
   "source": [
    "Betrachten Sie die Kaplan-Meier Kurve für folgende Überlebensdaten\n",
    "\n",
    "| PatNr. | Zeit | Status |\n",
    "| --- | --- | --- |\n",
    "| 1 | 7,0 | 1 |\n",
    "| 2 | 8,0 | 1 |\n",
    "| 3 | 5,0 | 1 |\n",
    "| 4 | 9,0 | 1 |\n",
    "| 5 | 1,0 | 0 |\n",
    "| 6 | 1,0 | 0 |\n",
    "| 7 | 5,6 | 1 |\n",
    "| 8 | 8,0 | 1 |\n",
    "| 9 | 8,0 | 0 |\n",
    "| 10 | 1,3 | 1 |\n",
    "| 11 | 5,0 | 1 |\n",
    "| 12 | 10,0 | 1 |\n",
    "\n",
    "**A:** Geben Sie die Zeitpunkte an, an denen die Kaplan-Meier Kurve Stufen\n",
    "hat."
   ]
  },
  {
   "cell_type": "code",
   "execution_count": 7,
   "id": "eeec63aa-7a01-487c-9af7-dfbffcf1bbde",
   "metadata": {},
   "outputs": [],
   "source": [
    "library(survival)\n",
    "\n",
    "data <- data.frame(\n",
    "    patnr = c(1,2,3,4,5,6,7,8,9,10,11,12),\n",
    "    time = c(7,8,5,9,1,1,5.6,8,8,1.3,5,10),\n",
    "    status = c(1,1,1,1,0,0,1,1,0,1,1,1)\n",
    ")\n",
    "\n",
    "km_plot <- survfit(Surv(time, status) ~ 1, data=data)"
   ]
  },
  {
   "cell_type": "markdown",
   "id": "10de6755-6001-4229-8189-1aede82277fb",
   "metadata": {},
   "source": [
    "Zeitpunkte der Stufen"
   ]
  },
  {
   "cell_type": "code",
   "execution_count": 8,
   "id": "f2e97ed5-11b6-422d-a9e6-7e36162fd35e",
   "metadata": {},
   "outputs": [
    {
     "name": "stdout",
     "output_type": "stream",
     "text": [
      "  Time Events\n",
      "1  1.3      1\n",
      "2  5.0      2\n",
      "3  5.6      1\n",
      "4  7.0      1\n",
      "5  8.0      2\n",
      "6  9.0      1\n",
      "7 10.0      1\n"
     ]
    }
   ],
   "source": [
    "event_times <- km_plot$time[km_plot$n.event > 0]\n",
    "number_of_events <- km_plot$n.event[km_plot$n.event > 0]\n",
    "\n",
    "jumps <- data.frame(Time = event_times, Events = number_of_events)\n",
    "\n",
    "print(jumps)"
   ]
  },
  {
   "cell_type": "markdown",
   "id": "10645668-de91-4eda-aea9-54e83923f663",
   "metadata": {},
   "source": [
    "**B:** Geben Sie für jede Stufe die Anzahl der Patienten an, die unmittelbar\n",
    "vor der Stufe noch unter Risiko stehen.\n",
    "\n",
    "Manuell errechnet:\n",
    "1. 12\n",
    "2. 11\n",
    "3. 9\n",
    "4. 8\n",
    "5. 7\n",
    "6. 5\n",
    "7. 4\n",
    "\n",
    "Oder mit R: Wir erweitern unser `jumps` data frame mit dem Survival-Paket internen n.risk:"
   ]
  },
  {
   "cell_type": "code",
   "execution_count": 9,
   "id": "3a8e817c-639d-4ddc-82e6-64be85aca31f",
   "metadata": {},
   "outputs": [
    {
     "name": "stdout",
     "output_type": "stream",
     "text": [
      "  Time Events AtRisk\n",
      "1  1.0      0     12\n",
      "2  1.3      1     10\n",
      "3  5.0      2      9\n",
      "4  5.6      1      7\n",
      "5  7.0      1      6\n",
      "6  8.0      2      5\n",
      "7  9.0      1      2\n",
      "8 10.0      1      1\n"
     ]
    }
   ],
   "source": [
    "event_times <- km_plot$time\n",
    "number_of_events <- km_plot$n.event\n",
    "number_at_risk <- km_plot$n.risk\n",
    "\n",
    "jumps <- data.frame(Time = event_times, Events = number_of_events, AtRisk = number_at_risk)\n",
    "\n",
    "print(jumps)"
   ]
  },
  {
   "cell_type": "markdown",
   "id": "b1799f12-b68e-44e8-bbd5-b1a8ace7b412",
   "metadata": {},
   "source": [
    "**C:** Berechnen Sie die relativen Stufenhöhen."
   ]
  },
  {
   "cell_type": "code",
   "execution_count": 10,
   "id": "6f898bf9-f46f-4414-9850-3204dbb89f9d",
   "metadata": {},
   "outputs": [
    {
     "name": "stdout",
     "output_type": "stream",
     "text": [
      "[1] 0.0000000 0.1000000 0.2222222 0.1428571 0.1666667 0.4000000 0.5000000\n",
      "[8] 1.0000000\n"
     ]
    }
   ],
   "source": [
    "relative_step_heights <- number_of_events / number_at_risk\n",
    "print(relative_step_heights)"
   ]
  },
  {
   "cell_type": "markdown",
   "id": "7e5a5c06-726e-4439-88ca-9f661651516b",
   "metadata": {},
   "source": [
    "**D:** Berechnen Sie die absoluten Stufenhöhen."
   ]
  },
  {
   "cell_type": "code",
   "execution_count": 11,
   "id": "cc85b983-e214-44db-860a-4397112bafb9",
   "metadata": {},
   "outputs": [
    {
     "name": "stdout",
     "output_type": "stream",
     "text": [
      "[1] 0 1 2 1 1 2 1 1\n"
     ]
    }
   ],
   "source": [
    "absolute_step_heights <- number_of_events\n",
    "print(absolute_step_heights)"
   ]
  },
  {
   "cell_type": "markdown",
   "id": "df1ece69-26ba-41fa-857f-4ff857dfd038",
   "metadata": {},
   "source": [
    "## Aufgabe 18\n",
    "Stellen Sie die Kaplan-Meier Kurve für die Daten aus der vorigen\n",
    "Aufgabe mit R in einem Diagramm dar. Berechnen Sie aus der Kaplan-Meier\n",
    "Kurve die mediane Ereigniszeit: Welche Bedeutung hat die mediane Ereigniszeit? Ergänzen Sie das Diagramm um eine horizontale Linie bei 0,5 und eine\n",
    "vertikale Linie bei der medianen Ereigniszeit.\n",
    "\n",
    "*Hinweis:* Laden Sie mit library(survival) das R-Paket survival und erstellen Sie mit der Funktion Surv ein Survival Objekt. Mit der Funktion plot\n",
    "erstellen Sie die Kaplan-Meier Kurve. Die Funktion abline zeichnet in ein\n",
    "schon vorhandenes Diagramm Linien ein. Mit der Funktion summary erhalten\n",
    "Sie Informationen über das Survival Objekt."
   ]
  },
  {
   "cell_type": "code",
   "execution_count": 12,
   "id": "26878da7-4117-4e74-a3fb-f2283ec8ef78",
   "metadata": {},
   "outputs": [
    {
     "data": {
      "image/png": "[encoded data removed]",
      "text/plain": [
       "plot without title"
      ]
     },
     "metadata": {
      "image/png": {
       "height": 420,
       "width": 420
      }
     },
     "output_type": "display_data"
    }
   ],
   "source": [
    "plot(km_plot, xlab = \"Zeit\", ylab = \"Überlebenswahrscheinlichkeit\")"
   ]
  },
  {
   "cell_type": "markdown",
   "id": "2d2b8284-075a-44e8-aa38-0f9c0a7f72e7",
   "metadata": {},
   "source": [
    "Mediane Ereigniszeit: Zeit, zu der die Überlebenswahrscheinlichkeit $50\\%$ beträgt"
   ]
  },
  {
   "cell_type": "code",
   "execution_count": 13,
   "id": "91e6d153-d10c-426a-aa3b-4413936ab734",
   "metadata": {},
   "outputs": [
    {
     "name": "stdout",
     "output_type": "stream",
     "text": [
      "median \n",
      "   7.5 \n"
     ]
    }
   ],
   "source": [
    "median_time <- summary(km_plot)$table[\"median\"]\n",
    "\n",
    "print(median_time)"
   ]
  },
  {
   "cell_type": "code",
   "execution_count": 17,
   "id": "34a35576-8d31-4e3c-9fbf-53ca579f2eb4",
   "metadata": {},
   "outputs": [
    {
     "data": {
      "image/png": "[encoded data removed]",
      "text/plain": [
       "plot without title"
      ]
     },
     "metadata": {
      "image/png": {
       "height": 420,
       "width": 420
      }
     },
     "output_type": "display_data"
    }
   ],
   "source": [
    "plot(km_plot, xlab = \"Zeit\", ylab = \"Überlebenswahrscheinlichkeit\")\n",
    "\n",
    "abline(h = 0.5, col = \"red\", lty = 1)\n",
    "\n",
    "segments(x0 = median_time, y0 = 0, x1 = median_time, y1 = 0.5, col = \"blue\", lty = 1)\n",
    "\n",
    "text(median_time, 0.55, paste(\"Median =\", round(median_time, 2)), pos = 4)"
   ]
  },
  {
   "cell_type": "markdown",
   "id": "9a90f327-4419-4ce7-b6c7-5e122b07f4ad",
   "metadata": {},
   "source": [
    "## Aufgabe 19\n",
    "\n",
    "Laden Sie die Daten in `ZeitBisUnfall.txt` in einen R-Datensatz.\n",
    "In dieser Datei befindet sich die Variable Zeit, welche im Falle eines Unfalls\n",
    "die Zeit in Monaten bis zum ersten Unfall angibt und sonst die Länge der\n",
    "unfallsfreien Zeit."
   ]
  },
  {
   "cell_type": "code",
   "execution_count": 15,
   "id": "8d721d8d-8b0c-4066-a5ca-3eb276b28200",
   "metadata": {},
   "outputs": [
    {
     "data": {
      "text/html": [
       "<table class=\"dataframe\">\n",
       "<caption>A data.frame: 6 × 7</caption>\n",
       "<thead>\n",
       "\t<tr><th></th><th scope=col>Lnr</th><th scope=col>Unfall</th><th scope=col>Geschlecht</th><th scope=col>Beruf</th><th scope=col>Alter</th><th scope=col>Fahrpraxis</th><th scope=col>Zeit</th></tr>\n",
       "\t<tr><th></th><th scope=col>&lt;int&gt;</th><th scope=col>&lt;int&gt;</th><th scope=col>&lt;chr&gt;</th><th scope=col>&lt;chr&gt;</th><th scope=col>&lt;int&gt;</th><th scope=col>&lt;int&gt;</th><th scope=col>&lt;int&gt;</th></tr>\n",
       "</thead>\n",
       "<tbody>\n",
       "\t<tr><th scope=row>1</th><td>1</td><td>0</td><td>Mann</td><td>Physiker</td><td>31</td><td>12</td><td> 5</td></tr>\n",
       "\t<tr><th scope=row>2</th><td>2</td><td>0</td><td>Frau</td><td>Physiker</td><td>37</td><td>18</td><td>15</td></tr>\n",
       "\t<tr><th scope=row>3</th><td>3</td><td>0</td><td>Frau</td><td>Physiker</td><td>38</td><td>18</td><td> 7</td></tr>\n",
       "\t<tr><th scope=row>4</th><td>4</td><td>0</td><td>Frau</td><td>Physiker</td><td>44</td><td>25</td><td>64</td></tr>\n",
       "\t<tr><th scope=row>5</th><td>5</td><td>0</td><td>Frau</td><td>Physiker</td><td>52</td><td>33</td><td>19</td></tr>\n",
       "\t<tr><th scope=row>6</th><td>6</td><td>0</td><td>Mann</td><td>Physiker</td><td>41</td><td>22</td><td>70</td></tr>\n",
       "</tbody>\n",
       "</table>\n"
      ],
      "text/latex": [
       "A data.frame: 6 × 7\n",
       "\\begin{tabular}{r|lllllll}\n",
       "  & Lnr & Unfall & Geschlecht & Beruf & Alter & Fahrpraxis & Zeit\\\\\n",
       "  & <int> & <int> & <chr> & <chr> & <int> & <int> & <int>\\\\\n",
       "\\hline\n",
       "\t1 & 1 & 0 & Mann & Physiker & 31 & 12 &  5\\\\\n",
       "\t2 & 2 & 0 & Frau & Physiker & 37 & 18 & 15\\\\\n",
       "\t3 & 3 & 0 & Frau & Physiker & 38 & 18 &  7\\\\\n",
       "\t4 & 4 & 0 & Frau & Physiker & 44 & 25 & 64\\\\\n",
       "\t5 & 5 & 0 & Frau & Physiker & 52 & 33 & 19\\\\\n",
       "\t6 & 6 & 0 & Mann & Physiker & 41 & 22 & 70\\\\\n",
       "\\end{tabular}\n"
      ],
      "text/markdown": [
       "\n",
       "A data.frame: 6 × 7\n",
       "\n",
       "| <!--/--> | Lnr &lt;int&gt; | Unfall &lt;int&gt; | Geschlecht &lt;chr&gt; | Beruf &lt;chr&gt; | Alter &lt;int&gt; | Fahrpraxis &lt;int&gt; | Zeit &lt;int&gt; |\n",
       "|---|---|---|---|---|---|---|---|\n",
       "| 1 | 1 | 0 | Mann | Physiker | 31 | 12 |  5 |\n",
       "| 2 | 2 | 0 | Frau | Physiker | 37 | 18 | 15 |\n",
       "| 3 | 3 | 0 | Frau | Physiker | 38 | 18 |  7 |\n",
       "| 4 | 4 | 0 | Frau | Physiker | 44 | 25 | 64 |\n",
       "| 5 | 5 | 0 | Frau | Physiker | 52 | 33 | 19 |\n",
       "| 6 | 6 | 0 | Mann | Physiker | 41 | 22 | 70 |\n",
       "\n"
      ],
      "text/plain": [
       "  Lnr Unfall Geschlecht Beruf    Alter Fahrpraxis Zeit\n",
       "1 1   0      Mann       Physiker 31    12          5  \n",
       "2 2   0      Frau       Physiker 37    18         15  \n",
       "3 3   0      Frau       Physiker 38    18          7  \n",
       "4 4   0      Frau       Physiker 44    25         64  \n",
       "5 5   0      Frau       Physiker 52    33         19  \n",
       "6 6   0      Mann       Physiker 41    22         70  "
      ]
     },
     "metadata": {},
     "output_type": "display_data"
    }
   ],
   "source": [
    "zeitbisunfall <- read.csv(file=\"ZeitBisUnfall.txt\", sep=\" \")\n",
    "head(zeitbisunfall)"
   ]
  },
  {
   "cell_type": "markdown",
   "id": "04d8413d-ba99-43a3-968e-8281aff0d93a",
   "metadata": {},
   "source": [
    "**A:** Stellen Sie für Männer und Frauen die Zeit (Monate) bis zu einem Unfall in zwei Kaplan-Meier Kurven in einem gemeinsamen Diagramm dar.\n",
    "Vergeben Sie für die Kaplan-Meier Kurven für Männer und Frauen unterschiedliche Farben und fügen Sie dem Diagramm eine Legende bei."
   ]
  },
  {
   "cell_type": "code",
   "execution_count": 43,
   "id": "c6535443-9d5b-4bce-905d-7356672ac8d8",
   "metadata": {},
   "outputs": [
    {
     "data": {
      "image/png": "[encoded data removed]",
      "text/plain": [
       "plot without title"
      ]
     },
     "metadata": {
      "image/png": {
       "height": 420,
       "width": 420
      }
     },
     "output_type": "display_data"
    }
   ],
   "source": [
    "zbu_male <- zeitbisunfall[zeitbisunfall$Geschlecht == \"Mann\", ]\n",
    "zbu_female <- zeitbisunfall[zeitbisunfall$Geschlecht == \"Frau\", ]\n",
    "\n",
    "km_plot_m <- survfit(Surv(Zeit, Unfall) ~ 1, data=zbu_male)\n",
    "km_plot_f <- survfit(Surv(Zeit, Unfall) ~ 1, data=zbu_female)\n",
    "\n",
    "ylim <- min(min(km_plot_m$surv), min(km_plot_f$surv))\n",
    "\n",
    "plot(km_plot_m, xlab = \"Zeit (Monate)\", col=\"red\", ylab = \"Wahrscheinlichkeit, keinen Unfall zu haben\", lty=1, ylim=c(ylim, 1))\n",
    "lines(km_plot_f, lty=1, col=\"blue\")\n",
    "\n",
    "legend(\"topright\", \n",
    "       c(\"Männer\", \"Frauen\"), \n",
    "       lty = 1, \n",
    "       col = c(\"red\", \"blue\"), \n",
    "       box.lty = 1, \n",
    "       bty = \"b\")"
   ]
  },
  {
   "cell_type": "markdown",
   "id": "ebe2db5e-6db5-453a-af17-5b6d809428fe",
   "metadata": {},
   "source": [
    "**B:** Warum kann weder für Frauen noch für Männer die mediane Zeit bis zu\n",
    "einem Unfall berechnet werden?\n",
    "\n",
    "Weil die y-Achse (Wahrscheinlichkeit, keinen Unfall zu haben) zu keinem Zeitpunkt $50\\%$ erreicht. Es gibt also keinen Schnittpunkt.\n",
    "\n",
    "**C:** Vergleichen Sie die beiden Kaplan-Meier Kurven mit dem Log-Rank Test:\n",
    "- Formulieren Sie die Nullhypothese, die der Log-Rank Test prüft.\n",
    "\n",
    "Die Verteilung Unfallswahrscheinlichkeit ist für Männer und Frauen identisch.\n",
    "- Welche Voraussetzung muss für den Log-Rank Test erfüllt sein?\n",
    "\n",
    "**Unabhängigkeit:** Die Überlebenszeiten der Individuen in jeder Gruppe sind unabhängig voneinander.\n",
    "\n",
    "**Die Überlebenswahrscheinlichkeiten ändern sich im Laufe der Zeit nicht:** Die Überlebensverteilungen variieren nicht signifikant über die Zeit.\n",
    "\n",
    "**Non-Informative Censoring:** Die Zensierung sollte weder mit dem untersuchten Ereignis noch mit der Gruppenzuordnung zusammenhängen.\n",
    "- Geben Sie den p-Wert des Log-Rank Tests an."
   ]
  },
  {
   "cell_type": "code",
   "execution_count": 54,
   "id": "29a922b8-977e-4ef8-bedf-be030f479c03",
   "metadata": {},
   "outputs": [
    {
     "name": "stdout",
     "output_type": "stream",
     "text": [
      "Call:\n",
      "survdiff(formula = Surv(Zeit, Unfall) ~ Geschlecht, data = zeitbisunfall)\n",
      "\n",
      "                   N Observed Expected (O-E)^2/E (O-E)^2/V\n",
      "Geschlecht=Frau 2091      110     87.3      5.88      14.8\n",
      "Geschlecht=Mann 1409       35     57.7      8.91      14.8\n",
      "\n",
      " Chisq= 14.8  on 1 degrees of freedom, p= 1e-04 \n",
      "p-Wert:  0.0001179918"
     ]
    }
   ],
   "source": [
    "log_rank_test <- survdiff(Surv(Zeit, Unfall) ~ Geschlecht, data=zeitbisunfall)\n",
    "\n",
    "print(log_rank_test)\n",
    "cat(\"p-Wert: \", log_rank_test$pvalue)"
   ]
  },
  {
   "cell_type": "markdown",
   "id": "ec5e57dd-5c44-48bd-a03a-c89fd0cb6c02",
   "metadata": {},
   "source": [
    "- Kann die Nullhypothese auf dem Signifikanzniveau von $α = 0.05$ abgelehnt werden?\n",
    "\n",
    "Ja, da der p-Wert $<0.5\\%$"
   ]
  },
  {
   "cell_type": "markdown",
   "id": "d2974c8d-e0b8-4925-87e0-b1580ceb7f12",
   "metadata": {},
   "source": [
    "## Aufgabe 20\n",
    "Laden Sie die Daten in ZeitBisUnfall.txt in einen R-Datensatz.\n",
    "Berechnen Sie für die Zeit (Monate) bis zu einem Unfall ein Cox-Modell mit unabhängigen Variablen Alter, Geschlecht und der Interaktion zwischen Alter und Geschlecht. Die Interaktion zwischen Alter und Geschlecht ist das\n",
    "Produkt der Variable Alter mit der Dummy-Variable für Geschlecht. Wie\n",
    "viele Parameter hat dieses Cox-Modell? Warum haben Cox-Modelle keinen\n",
    "Intercept? Welche Hazard-Ratios stellen die exponierten Parameterschätzer\n",
    "$$exp( \\hat{β_i}), i = 1, . . . , p$$ dar?\n",
    "Hinweis: Berechnen Sie das Cox-Modell mit der Funktion `coxph`"
   ]
  },
  {
   "cell_type": "code",
   "execution_count": 60,
   "id": "0dffec70-9fad-45e0-97a0-0102151d0e50",
   "metadata": {},
   "outputs": [
    {
     "name": "stdout",
     "output_type": "stream",
     "text": [
      "Call:\n",
      "coxph(formula = Surv(Zeit, Unfall) ~ Alter + Geschlecht + Alter * \n",
      "    Geschlecht, data = zeitbisunfall)\n",
      "\n",
      "                         coef exp(coef) se(coef)       z      p\n",
      "Alter                -0.24744   0.78080  0.01826 -13.551 <2e-16\n",
      "GeschlechtMann        1.36294   3.90768  1.33887   1.018  0.309\n",
      "Alter:GeschlechtMann -0.06642   0.93574  0.04445  -1.494  0.135\n",
      "\n",
      "Likelihood ratio test=462.7  on 3 df, p=< 2.2e-16\n",
      "n= 3500, number of events= 145 \n"
     ]
    }
   ],
   "source": [
    "# Nicht unbedingt notwendig in R, aber der Klarheit halber trotzdem:\n",
    "Geschlecht_factor <- as.factor(zeitbisunfall$Geschlecht)\n",
    "\n",
    "zbu_cox <- coxph(Surv(Zeit, Unfall) ~ Alter + Geschlecht_factor + Alter * Geschlecht_factor, data=zeitbisunfall)\n",
    "print(zbu_coxd)"
   ]
  },
  {
   "cell_type": "markdown",
   "id": "dd5751ca-895a-48dd-873f-c0c25898eb53",
   "metadata": {},
   "source": [
    "Anzahl von Parametern: 3\n",
    "\n",
    "Cox-Modelle haben kein Intercept, weil sie ausschließlich die Diskrepanz zwischen 2 Gruppen betrachten, anstatt wie bei einem glm eine\n",
    "Grundanzahl an Ereignissen mit einzubeziehen.\n",
    "\n",
    "Die Hazard-Ratios stellen dar, um wie viel das Risiko eines Unfalls sich verändert, z.B.: Ändert sich das Alter um +1, so ändert sich das Risiko eines Unfalls um einen Faktor von $0.78080$, also $0.2192\\%$, bzw. bei Männern steigt das Risiko eines Unfalls um einen Faktor von $3.90768$."
   ]
  }
 ],
 "metadata": {
  "kernelspec": {
   "display_name": "R",
   "language": "R",
   "name": "ir"
  },
  "language_info": {
   "codemirror_mode": "r",
   "file_extension": ".r",
   "mimetype": "text/x-r-source",
   "name": "R",
   "pygments_lexer": "r",
   "version": "4.3.1"
  }
 },
 "nbformat": 4,
 "nbformat_minor": 5
}
