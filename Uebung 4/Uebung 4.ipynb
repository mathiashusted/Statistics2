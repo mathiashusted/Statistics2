{
 "cells": [
  {
   "cell_type": "markdown",
   "id": "da13b633-ed2c-4c76-9290-eb973ea00f20",
   "metadata": {},
   "source": [
    "# Übung 4"
   ]
  },
  {
   "cell_type": "markdown",
   "id": "81e57762-e04d-45c4-aebc-6f0d0682ccbd",
   "metadata": {},
   "source": [
    "## Aufgabe 16\n",
    "Erweitern Sie das logistische Regressionsmodell\n",
    "$$M_1: Unfall∼Geschlecht+Beruf$$\n",
    "für den Datensatz Unfaelle.txt um die Interaktion zwischen Geschlecht und\n",
    "Beruf zum Modell\n",
    "$$M_2: Unfall∼Geschlecht+Beruf+Geschlecht:Beruf$$\n",
    "Die Interaktion von Geschlecht und Beruf sind zwei neue Variablen $GD_1$ und\n",
    "$GD_2$, wobei $G$ die Dummy-Variable für Geschlecht und $D_1$, $D_1$ die Dummy-\n",
    "Variablen für die Berufe Physiker und Zahnarzt sind. Benutzen Sie das Modell, um die Odds für einen Unfall der verschiedenen Berufe getrennt nach\n",
    "Geschlecht zu schätzen. Welche inhaltliche Bedeutung hat die Interaktion zwischen Geschlecht und Beruf? Ist die Interaktion signifikant auf dem 5% Niveau?\n",
    "Führen Sie für die Interaktion den Likelihood-Ratio-Test durch."
   ]
  },
  {
   "cell_type": "code",
   "execution_count": 1,
   "id": "36f8d88e-27bd-40c4-8e38-d8fc3948d412",
   "metadata": {},
   "outputs": [
    {
     "data": {
      "text/html": [
       "<table class=\"dataframe\">\n",
       "<caption>A data.frame: 6 × 6</caption>\n",
       "<thead>\n",
       "\t<tr><th></th><th scope=col>Lnr</th><th scope=col>Unfall</th><th scope=col>Geschlecht</th><th scope=col>Beruf</th><th scope=col>Alter</th><th scope=col>Fahrpraxis</th></tr>\n",
       "\t<tr><th></th><th scope=col>&lt;int&gt;</th><th scope=col>&lt;int&gt;</th><th scope=col>&lt;chr&gt;</th><th scope=col>&lt;chr&gt;</th><th scope=col>&lt;int&gt;</th><th scope=col>&lt;int&gt;</th></tr>\n",
       "</thead>\n",
       "<tbody>\n",
       "\t<tr><th scope=row>1</th><td>1</td><td>0</td><td>Mann</td><td>Physiker</td><td>31</td><td>12</td></tr>\n",
       "\t<tr><th scope=row>2</th><td>2</td><td>0</td><td>Frau</td><td>Physiker</td><td>37</td><td>18</td></tr>\n",
       "\t<tr><th scope=row>3</th><td>3</td><td>0</td><td>Frau</td><td>Physiker</td><td>38</td><td>18</td></tr>\n",
       "\t<tr><th scope=row>4</th><td>4</td><td>0</td><td>Frau</td><td>Physiker</td><td>44</td><td>25</td></tr>\n",
       "\t<tr><th scope=row>5</th><td>5</td><td>0</td><td>Frau</td><td>Physiker</td><td>52</td><td>33</td></tr>\n",
       "\t<tr><th scope=row>6</th><td>6</td><td>0</td><td>Mann</td><td>Physiker</td><td>41</td><td>22</td></tr>\n",
       "</tbody>\n",
       "</table>\n"
      ],
      "text/latex": [
       "A data.frame: 6 × 6\n",
       "\\begin{tabular}{r|llllll}\n",
       "  & Lnr & Unfall & Geschlecht & Beruf & Alter & Fahrpraxis\\\\\n",
       "  & <int> & <int> & <chr> & <chr> & <int> & <int>\\\\\n",
       "\\hline\n",
       "\t1 & 1 & 0 & Mann & Physiker & 31 & 12\\\\\n",
       "\t2 & 2 & 0 & Frau & Physiker & 37 & 18\\\\\n",
       "\t3 & 3 & 0 & Frau & Physiker & 38 & 18\\\\\n",
       "\t4 & 4 & 0 & Frau & Physiker & 44 & 25\\\\\n",
       "\t5 & 5 & 0 & Frau & Physiker & 52 & 33\\\\\n",
       "\t6 & 6 & 0 & Mann & Physiker & 41 & 22\\\\\n",
       "\\end{tabular}\n"
      ],
      "text/markdown": [
       "\n",
       "A data.frame: 6 × 6\n",
       "\n",
       "| <!--/--> | Lnr &lt;int&gt; | Unfall &lt;int&gt; | Geschlecht &lt;chr&gt; | Beruf &lt;chr&gt; | Alter &lt;int&gt; | Fahrpraxis &lt;int&gt; |\n",
       "|---|---|---|---|---|---|---|\n",
       "| 1 | 1 | 0 | Mann | Physiker | 31 | 12 |\n",
       "| 2 | 2 | 0 | Frau | Physiker | 37 | 18 |\n",
       "| 3 | 3 | 0 | Frau | Physiker | 38 | 18 |\n",
       "| 4 | 4 | 0 | Frau | Physiker | 44 | 25 |\n",
       "| 5 | 5 | 0 | Frau | Physiker | 52 | 33 |\n",
       "| 6 | 6 | 0 | Mann | Physiker | 41 | 22 |\n",
       "\n"
      ],
      "text/plain": [
       "  Lnr Unfall Geschlecht Beruf    Alter Fahrpraxis\n",
       "1 1   0      Mann       Physiker 31    12        \n",
       "2 2   0      Frau       Physiker 37    18        \n",
       "3 3   0      Frau       Physiker 38    18        \n",
       "4 4   0      Frau       Physiker 44    25        \n",
       "5 5   0      Frau       Physiker 52    33        \n",
       "6 6   0      Mann       Physiker 41    22        "
      ]
     },
     "metadata": {},
     "output_type": "display_data"
    }
   ],
   "source": [
    "unfaelle <- read.csv(file = \"../Uebung 3/Unfaelle.txt\", sep=\" \")\n",
    "head(unfaelle)"
   ]
  },
  {
   "cell_type": "markdown",
   "id": "aaf3f787-4e11-4f23-ae16-ab825a8468fe",
   "metadata": {},
   "source": [
    "Zur Veranschaulichung das Modell $M_1$"
   ]
  },
  {
   "cell_type": "code",
   "execution_count": 2,
   "id": "4677464b-f193-4e2c-83e6-5f3cc62f3a09",
   "metadata": {},
   "outputs": [
    {
     "data": {
      "text/html": [
       "<style>\n",
       ".dl-inline {width: auto; margin:0; padding: 0}\n",
       ".dl-inline>dt, .dl-inline>dd {float: none; width: auto; display: inline-block}\n",
       ".dl-inline>dt::after {content: \":\\0020\"; padding-right: .5ex}\n",
       ".dl-inline>dt:not(:first-of-type) {padding-left: .5ex}\n",
       "</style><dl class=dl-inline><dt>(Intercept)</dt><dd>-3.09027932484487</dd><dt>Geschlecht_factorMann</dt><dd>-0.793606354457076</dd><dt>Beruf_factorPhysiker</dt><dd>-0.436408020717381</dd><dt>Beruf_factorZahnarzt</dt><dd>0.786334428081077</dd></dl>\n"
      ],
      "text/latex": [
       "\\begin{description*}\n",
       "\\item[(Intercept)] -3.09027932484487\n",
       "\\item[Geschlecht\\textbackslash{}\\_factorMann] -0.793606354457076\n",
       "\\item[Beruf\\textbackslash{}\\_factorPhysiker] -0.436408020717381\n",
       "\\item[Beruf\\textbackslash{}\\_factorZahnarzt] 0.786334428081077\n",
       "\\end{description*}\n"
      ],
      "text/markdown": [
       "(Intercept)\n",
       ":   -3.09027932484487Geschlecht_factorMann\n",
       ":   -0.793606354457076Beruf_factorPhysiker\n",
       ":   -0.436408020717381Beruf_factorZahnarzt\n",
       ":   0.786334428081077\n",
       "\n"
      ],
      "text/plain": [
       "          (Intercept) Geschlecht_factorMann  Beruf_factorPhysiker \n",
       "           -3.0902793            -0.7936064            -0.4364080 \n",
       " Beruf_factorZahnarzt \n",
       "            0.7863344 "
      ]
     },
     "metadata": {},
     "output_type": "display_data"
    }
   ],
   "source": [
    "Geschlecht_factor <- as.factor(unfaelle$Geschlecht)\n",
    "Beruf_factor <- as.factor(unfaelle$Beruf)\n",
    "\n",
    "model_base <- glm(Unfall ~ Geschlecht_factor + Beruf_factor, data=unfaelle, family=binomial)\n",
    "coef(model_base)"
   ]
  },
  {
   "cell_type": "markdown",
   "id": "cd8ae4d5-f328-4fbc-8db1-ef77a429a400",
   "metadata": {},
   "source": [
    "Und $M_2$"
   ]
  },
  {
   "cell_type": "code",
   "execution_count": 3,
   "id": "334877b9-d8f4-4a73-b7a3-ce3b09ef3310",
   "metadata": {},
   "outputs": [
    {
     "data": {
      "text/html": [
       "<style>\n",
       ".dl-inline {width: auto; margin:0; padding: 0}\n",
       ".dl-inline>dt, .dl-inline>dd {float: none; width: auto; display: inline-block}\n",
       ".dl-inline>dt::after {content: \":\\0020\"; padding-right: .5ex}\n",
       ".dl-inline>dt:not(:first-of-type) {padding-left: .5ex}\n",
       "</style><dl class=dl-inline><dt>(Intercept)</dt><dd>-3.15811961544714</dd><dt>Geschlecht_factorMann</dt><dd>-0.519987741684897</dd><dt>Beruf_factorPhysiker</dt><dd>-0.333026002877963</dd><dt>Beruf_factorZahnarzt</dt><dd>0.8944643688213</dd><dt>Geschlecht_factorMann:Beruf_factorPhysiker</dt><dd>-0.419683438825979</dd><dt>Geschlecht_factorMann:Beruf_factorZahnarzt</dt><dd>-0.435232836557475</dd></dl>\n"
      ],
      "text/latex": [
       "\\begin{description*}\n",
       "\\item[(Intercept)] -3.15811961544714\n",
       "\\item[Geschlecht\\textbackslash{}\\_factorMann] -0.519987741684897\n",
       "\\item[Beruf\\textbackslash{}\\_factorPhysiker] -0.333026002877963\n",
       "\\item[Beruf\\textbackslash{}\\_factorZahnarzt] 0.8944643688213\n",
       "\\item[Geschlecht\\textbackslash{}\\_factorMann:Beruf\\textbackslash{}\\_factorPhysiker] -0.419683438825979\n",
       "\\item[Geschlecht\\textbackslash{}\\_factorMann:Beruf\\textbackslash{}\\_factorZahnarzt] -0.435232836557475\n",
       "\\end{description*}\n"
      ],
      "text/markdown": [
       "(Intercept)\n",
       ":   -3.15811961544714Geschlecht_factorMann\n",
       ":   -0.519987741684897Beruf_factorPhysiker\n",
       ":   -0.333026002877963Beruf_factorZahnarzt\n",
       ":   0.8944643688213Geschlecht_factorMann:Beruf_factorPhysiker\n",
       ":   -0.419683438825979Geschlecht_factorMann:Beruf_factorZahnarzt\n",
       ":   -0.435232836557475\n",
       "\n"
      ],
      "text/plain": [
       "                               (Intercept) \n",
       "                                -3.1581196 \n",
       "                     Geschlecht_factorMann \n",
       "                                -0.5199877 \n",
       "                      Beruf_factorPhysiker \n",
       "                                -0.3330260 \n",
       "                      Beruf_factorZahnarzt \n",
       "                                 0.8944644 \n",
       "Geschlecht_factorMann:Beruf_factorPhysiker \n",
       "                                -0.4196834 \n",
       "Geschlecht_factorMann:Beruf_factorZahnarzt \n",
       "                                -0.4352328 "
      ]
     },
     "metadata": {},
     "output_type": "display_data"
    }
   ],
   "source": [
    "model_extended <- glm(Unfall ~ Geschlecht_factor + Beruf_factor + Geschlecht_factor : Beruf_factor, data=unfaelle, family=binomial)\n",
    "coef(model_extended)"
   ]
  },
  {
   "cell_type": "markdown",
   "id": "1d17a3e6-537d-4b5a-ae81-43c7ba41c538",
   "metadata": {},
   "source": [
    "**Odds:**\n",
    "\n",
    "Allgemein gilt:\n",
    "$$\n",
    "\\log \\frac{1}{1-p} = \\beta_0 + \\beta_1 \\text{Mann} + ... \\Rightarrow \\frac{1}{1-p} = exp(\\beta_0 + \\beta_1 \\text{Mann} + ...)\n",
    "$$\n",
    "\n",
    "Also müssen wir die Exponentialfunktion auf die jeweiligen Koeffizienten anwenden"
   ]
  },
  {
   "cell_type": "code",
   "execution_count": 4,
   "id": "07ee17ce-4015-4c35-9a0d-e9bc78808807",
   "metadata": {},
   "outputs": [
    {
     "name": "stdout",
     "output_type": "stream",
     "text": [
      "Biologe:  0.02527076 \n",
      "Physiker:  0.01660933 \n",
      "Zahnarzt:  0.01635306 \n",
      "Biologin:  0.04250559 \n",
      "Physikerin 0.03046595 \n",
      "Zahnärztin:  0.1039698"
     ]
    }
   ],
   "source": [
    "coefficients <- coef(model_extended)\n",
    "\n",
    "beta0 <- coefficients[1]\n",
    "beta1 <- coefficients[2] # GeschlechtMann\n",
    "beta2 <- coefficients[3] # BerufPhysiker\n",
    "beta3 <- coefficients[4] # BerufZahnarzt\n",
    "beta4 <- coefficients[5] # GeschlechtMann:BerufPhysiker (zusätzliches Risiko, falls ein Mann Physiker ist, im Vergleich zu einer Frau)\n",
    "beta5 <- coefficients[6] # GeschlechtMann:BerufZahnarzt (analog)\n",
    "\n",
    "logit_mann_bio <- beta0 + beta1\n",
    "logit_mann_phys <- beta0 + beta1 + beta4\n",
    "logit_mann_zahn <- beta0 + beta1 + beta5\n",
    "logit_frau_bio <- beta0\n",
    "logit_frau_phys <- beta0 + beta2\n",
    "logit_frau_zahn <- beta0 + beta3\n",
    "\n",
    "odds_mann_bio <- exp(logit_mann_bio)\n",
    "odds_mann_phys <- exp(logit_mann_phys)\n",
    "odds_mann_zahn <- exp(logit_mann_zahn)\n",
    "odds_frau_bio <- exp(logit_frau_bio)\n",
    "odds_frau_phys <- exp(logit_frau_phys)\n",
    "odds_frau_zahn <- exp(logit_frau_zahn)\n",
    "\n",
    "cat(\"Biologe: \", odds_mann_bio, \"\\nPhysiker: \", odds_mann_phys, \"\\nZahnarzt: \", odds_mann_zahn, \"\\nBiologin: \", odds_frau_bio, \"\\nPhysikerin\", odds_frau_phys, \"\\nZahnärztin: \", odds_frau_zahn)"
   ]
  },
  {
   "cell_type": "markdown",
   "id": "53392fe3-3fe8-4485-af9f-765c4f3d74e6",
   "metadata": {},
   "source": [
    "Die Interaktion zwischen Geschlecht und Beruf:"
   ]
  },
  {
   "cell_type": "code",
   "execution_count": 5,
   "id": "5c506036-3a8a-49f0-98c4-527ce781af71",
   "metadata": {},
   "outputs": [
    {
     "data": {
      "text/plain": [
       "\n",
       "Call:\n",
       "glm(formula = Unfall ~ Geschlecht_factor + Beruf_factor + Geschlecht_factor:Beruf_factor, \n",
       "    family = binomial, data = unfaelle)\n",
       "\n",
       "Coefficients:\n",
       "                                           Estimate Std. Error z value Pr(>|z|)\n",
       "(Intercept)                                 -3.1581     0.1656 -19.067  < 2e-16\n",
       "Geschlecht_factorMann                       -0.5200     0.3173  -1.639    0.101\n",
       "Beruf_factorPhysiker                        -0.3330     0.2967  -1.122    0.262\n",
       "Beruf_factorZahnarzt                         0.8945     0.2180   4.104 4.06e-05\n",
       "Geschlecht_factorMann:Beruf_factorPhysiker  -0.4197     0.6030  -0.696    0.486\n",
       "Geschlecht_factorMann:Beruf_factorZahnarzt  -0.4352     0.4310  -1.010    0.313\n",
       "                                              \n",
       "(Intercept)                                ***\n",
       "Geschlecht_factorMann                         \n",
       "Beruf_factorPhysiker                          \n",
       "Beruf_factorZahnarzt                       ***\n",
       "Geschlecht_factorMann:Beruf_factorPhysiker    \n",
       "Geschlecht_factorMann:Beruf_factorZahnarzt    \n",
       "---\n",
       "Signif. codes:  0 ‘***’ 0.001 ‘**’ 0.01 ‘*’ 0.05 ‘.’ 0.1 ‘ ’ 1\n",
       "\n",
       "(Dispersion parameter for binomial family taken to be 1)\n",
       "\n",
       "    Null deviance: 1207.2  on 3499  degrees of freedom\n",
       "Residual deviance: 1156.7  on 3494  degrees of freedom\n",
       "AIC: 1168.7\n",
       "\n",
       "Number of Fisher Scoring iterations: 7\n"
      ]
     },
     "metadata": {},
     "output_type": "display_data"
    }
   ],
   "source": [
    "summary(model_extended)"
   ]
  },
  {
   "cell_type": "markdown",
   "id": "5e1a1d81-686e-40a8-8e4f-2a6058882c58",
   "metadata": {},
   "source": [
    "In diesem Fall bedeuten:\n",
    "- **Geschlecht_factorMann:Beruf_factorPhysiker ($\\beta_4$)** Die Veränderung der Log-Odds eines Unfalls für Männer, die Physiker sind, im Vergleich zu Frauen, die Physiker sind, zusätzlich zu allen anderen Faktoren\n",
    "- **Geschlecht_factorMann:Beruf_factorZahnarzt ($\\beta_5$)** Die Veränderung der Log-Odds eines Unfalls für Männer, die Zahnärzte sind, im Vergleich zu Frauen, die Zahnärzte sind, zusätzlich zu allen anderen Faktoren\n",
    "\n",
    "In der Tabelle sind zusätzlich unter `Pr(>|z|)` die jeweiligen p-Werte zu finden.\n",
    "\n",
    "Bei $\\beta_4$ findet sich ein p-Wert von $0.486$. Das bedeutet, dass wir die Nullhypothese nicht ablehnen. Anders gesagt: Der Unterschied der Log-Odds eines Unfalls zwischen Physikern und Physikerinnen ist **nicht** groß genug, um statistisch signifikant zu sein.\n",
    "\n",
    "Bei $beta_5$ ist der p-Wert ebenfalls weit über die $5\\%$-Grenze, weswegen wir bei Zahnärzten ebenfalls keinen signifikanten Unterschied beobachten können.\n",
    "\n",
    "Als letztes führen wir den Likelihood-Ratio-Test durch:"
   ]
  },
  {
   "cell_type": "code",
   "execution_count": 6,
   "id": "367412cd-af11-4630-93f0-b56f15120c40",
   "metadata": {},
   "outputs": [
    {
     "name": "stdout",
     "output_type": "stream",
     "text": [
      "Analysis of Deviance Table\n",
      "\n",
      "Model 1: Unfall ~ Geschlecht_factor + Beruf_factor\n",
      "Model 2: Unfall ~ Geschlecht_factor + Beruf_factor + Geschlecht_factor:Beruf_factor\n",
      "  Resid. Df Resid. Dev Df Deviance Pr(>Chi)\n",
      "1      3496     1157.8                     \n",
      "2      3494     1156.7  2   1.1118   0.5736\n"
     ]
    }
   ],
   "source": [
    "lrtest_result <- anova(model_base, model_extended, test = \"LRT\")\n",
    "print(lrtest_result)"
   ]
  },
  {
   "cell_type": "markdown",
   "id": "b68a29d5-8f3e-456c-ae6b-6005b86981f2",
   "metadata": {},
   "source": [
    "Der p-Wert ist **nicht** signifikant ($<5\\%$), also ist unser erweitertes Model $M_2$ nicht besser als unser Ausgangsmodell $M_1$, um die Log-Odds eines Unfalls zu schätzen."
   ]
  }
 ],
 "metadata": {
  "kernelspec": {
   "display_name": "R",
   "language": "R",
   "name": "ir"
  },
  "language_info": {
   "codemirror_mode": "r",
   "file_extension": ".r",
   "mimetype": "text/x-r-source",
   "name": "R",
   "pygments_lexer": "r",
   "version": "4.3.1"
  }
 },
 "nbformat": 4,
 "nbformat_minor": 5
}
