{
 "cells": [
  {
   "cell_type": "markdown",
   "id": "fc698a61-e1f3-4234-928b-ff54e69822ca",
   "metadata": {},
   "source": [
    "# Uebung 2"
   ]
  },
  {
   "cell_type": "markdown",
   "id": "eb32da30-d951-496f-95ce-cf67eabbc4ce",
   "metadata": {},
   "source": [
    "**Aufgabe 6**\n",
    "\n",
    "Betrachten Sie das einfache lineare Regressionsmodell\n",
    "$$M : \\text{Defekt}_i = β_0 + β_1 \\text{Alter} _i + ϵ_i, i = 1, . . . , 13$$\n",
    "\n",
    "Für glaukom.txt\n",
    "\n",
    "**A:** Berechnen Sie die kleinste Quadrate Schätzer $\\hat{β_0}$ und $\\hat{β_1}$ und die Varianz-Kovarianz Matrix für die kleinsten Quadrate Schätzer $\\hat{β_0}$ und $\\hat{β_1}$."
   ]
  },
  {
   "cell_type": "code",
   "execution_count": 5,
   "id": "9a6174ca-df2a-4dfd-b893-60a6691b01ef",
   "metadata": {},
   "outputs": [
    {
     "name": "stdout",
     "output_type": "stream",
     "text": [
      "   lnr  Defekt  Flimmertest  Alter  Geschlecht\n",
      "0    1     6.1         13.2     46           0\n",
      "1    2     9.7         12.5     51           1\n",
      "2    3     4.1         15.5     25           1\n",
      "3    4     8.8         10.1     59           0\n",
      "4    5     4.0         12.5     23           1\n",
      "5    6     7.9         11.9     54           0\n",
      "6    7     7.4          8.9     44           0\n",
      "7    8     6.4         10.2     42           0\n",
      "8    9    10.4          5.4     47           1\n",
      "9   10    10.3          8.3     50           1\n"
     ]
    }
   ],
   "source": [
    "import pandas as pd\n",
    "import numpy  as np\n",
    "from sklearn.linear_model import LinearRegression\n",
    "import statsmodels.api as sm\n",
    "\n",
    "glaukom = pd.read_csv('Glaukom.txt', sep='\\t')\n",
    "\n",
    "print(glaukom)"
   ]
  },
  {
   "cell_type": "code",
   "execution_count": 11,
   "id": "20d72dbb-aace-4661-bcb4-91c6288df24c",
   "metadata": {},
   "outputs": [
    {
     "name": "stdout",
     "output_type": "stream",
     "text": [
      "Koeffizienten\n",
      "Intercept    0.265026\n",
      "Alter        0.164285\n",
      "dtype: float64\n",
      "Kovarianz-Matrix\n",
      "           Intercept     Alter\n",
      "Intercept   3.525277 -0.075187\n",
      "Alter      -0.075187  0.001705\n"
     ]
    }
   ],
   "source": [
    "defect, age = np.array(glaukom['Defekt']), np.array(glaukom['Alter'])\n",
    "model = sm.formula.ols(formula='Defekt ~ Alter', data=glaukom).fit()\n",
    "\n",
    "coefficients = model.params\n",
    "\n",
    "cov_matrix = model.cov_params()\n",
    "\n",
    "print(f\"Koeffizienten\\n{coefficients}\")\n",
    "print(f\"Kovarianz-Matrix\\n{cov_matrix}\")"
   ]
  },
  {
   "cell_type": "markdown",
   "id": "0973cd18-0191-4d79-8391-7beeb3f1009d",
   "metadata": {},
   "source": [
    "Die Varianz-Kovarianz-Matrix für $\\hat{β_0}$ und $\\hat{β_1}$ wird wie folgt berechnet:\n",
    "\n",
    "$$\n",
    "\\hat{Cov(\\hat{β})} = \\sigma ^2 (X^T X)^{-1}\n",
    "$$\n",
    "\n",
    "Wobei $\\sigma ^2$ die Varianz unserer $\\epsilon$ ist"
   ]
  },
  {
   "cell_type": "code",
   "execution_count": 17,
   "id": "434ebd4e-0ed2-43dd-9a00-3ec91b666b6f",
   "metadata": {},
   "outputs": [
    {
     "name": "stdout",
     "output_type": "stream",
     "text": [
      "20.189\n"
     ]
    }
   ],
   "source": []
  },
  {
   "cell_type": "markdown",
   "id": "f92df4f5-42b5-43f5-b788-1b4a6267bc89",
   "metadata": {},
   "source": [
    "**B:** Sei\n",
    "$$\n",
    "\\hat{y} = \\hat{β_0} + \\hat{β_0}x, x ∈ \\mathbb{R}\n",
    "$$\n",
    "\n",
    "die Regressionsgerade für das Modell M. Berechnen Sie für jedes $x ∈ \\mathbb{R}$\n",
    "die Varianz des zugehörigen $\\hat{y}$."
   ]
  },
  {
   "cell_type": "code",
   "execution_count": null,
   "id": "e0a47a29-604f-4a51-9c01-da7640efaa45",
   "metadata": {},
   "outputs": [],
   "source": []
  },
  {
   "cell_type": "markdown",
   "id": "eb37ac1c-6291-45ef-8677-38f8e7e74984",
   "metadata": {},
   "source": [
    "**Aufgabe 7**\n",
    "\n",
    "Laden Sie den Datensatz in Schueler.txt in einen Datensatz.\n",
    "Erstellen Sie den Teildatensatz Schule aller Schüler ab der neunten Klasse."
   ]
  },
  {
   "cell_type": "code",
   "execution_count": 5,
   "id": "7b3b3acf-ee8d-4ec6-bd1e-6160e007975d",
   "metadata": {},
   "outputs": [
    {
     "name": "stdout",
     "output_type": "stream",
     "text": [
      "    lnr  Klasse Gesch  Alter  Groesse  Gewicht  Mathe  Physik  Deutsch  Bio\n",
      "2     3      10     w     17      174       64      4     3.0        5    2\n",
      "5     6       9     m     16      162       65      2     2.0        4    2\n",
      "7     8      10     w     16      166       60      5     5.0        1    3\n",
      "16   17       9     w     15      149       55      1     2.0        3    2\n",
      "18   19      11     m     17      190       71      5     5.0        3    2\n",
      "20   21       9     w     17      165       65      3     6.0        5    1\n",
      "22   23      10     w     17      154       65      5     3.0        4    4\n",
      "23   24      10     w     16      170       62      2     2.0        2    1\n",
      "24   25      10     w     16      168       61      5     3.0        5    4\n"
     ]
    }
   ],
   "source": [
    "schueler = pd.read_csv(\"Schueler.txt\", sep=\" \")\n",
    "\n",
    "schule = schueler[schueler['Klasse'] >= 9]\n",
    "\n",
    "print(schule)\n",
    "\n",
    "alter = schule['Alter']\n",
    "groesse = schule['Groesse']\n",
    "klasse = schule['Klasse']\n",
    "physik = schule['Physik']\n",
    "bio = schule['Bio']\n",
    "deutsch = schule['Deutsch']\n",
    "mathe = schule['Mathe']"
   ]
  },
  {
   "cell_type": "markdown",
   "id": "8ad1f9a3-5aa7-4f01-8683-b87596822f87",
   "metadata": {},
   "source": [
    "**A** Geben Sie für jedes der folgenden linearen Modelle mit Intercept die\n",
    "vollständige Modellgleichung in mathematischer Schreibweise an. Alle\n",
    "Modelle beziehen sich auf den Datensatz Schule.\n",
    "\n",
    "$M1 : Alter ∼ Klasse+Physik$\n",
    "\n",
    "$M2 : Alter ∼ Klasse+Physik+Bio$\n",
    "\n",
    "$M3 : Alter ∼ Klasse+Groeße$\n",
    "\n",
    "$M4 : Alter ∼ Physik+Mathe+Bio+Deutsch$\n",
    "\n",
    "$M5 : Alter ∼ Klasse$\n",
    "\n",
    "Hinweis: Die Variablen Klasse, Physik, Bio, Deutsch und Mathe sollen\n",
    "als kategoriale Variablen aufgefasst werden. Sie müssen daher vor ihrer\n",
    "Verwendung in einem linearen Modell in Dummy-Variablen umkodiert\n",
    "werden."
   ]
  },
  {
   "cell_type": "markdown",
   "id": "1df8ccea-67ac-47b9-8579-e52b93f01142",
   "metadata": {},
   "source": [
    "M1: $Alter = \\beta_0 + \\beta_1 Klasse + \\beta_2 Physik$\n",
    "\n",
    "M2: $Alter = \\beta_0 + \\beta_1 Klasse + \\beta_2 Physik + \\beta_3 Bio$\n",
    "\n",
    "M3: $Alter = \\beta_0 + \\beta_1 Klasse + \\beta_2 Groeße$\n",
    "\n",
    "M4: $Alter = \\beta_0 + \\beta_1 Physik + \\beta_2 Mathe + \\beta_3 Bio + \\beta_4 Deutsch$\n",
    "\n",
    "M5: $Alter = \\beta_0 + \\beta_1 Klasse$\n",
    "\n",
    "Wobei $\\beta_0$ jeweils das Intercept ist."
   ]
  },
  {
   "cell_type": "code",
   "execution_count": 6,
   "id": "4a7e126f-88aa-48a2-b661-846390f337c9",
   "metadata": {},
   "outputs": [],
   "source": [
    "X = np.column_stack((klasse, physik))\n",
    "\n",
    "m = LinearRegression().fit(X, alter)\n",
    "\n",
    "X = np.column_stack((klasse, physik, bio))\n",
    "\n",
    "mm = LinearRegression().fit(X, alter)\n",
    "\n",
    "X = np.column_stack((klasse, groesse))\n",
    "\n",
    "mmm = LinearRegression().fit(X, alter)\n",
    "\n",
    "X = np.column_stack((klasse, mathe, bio, deutsch))\n",
    "\n",
    "mmmm = LinearRegression().fit(X, alter)\n",
    "\n",
    "X = np.array(klasse).reshape(-1,1)\n",
    "\n",
    "mmmmm = LinearRegression().fit(X, alter)"
   ]
  },
  {
   "cell_type": "markdown",
   "id": "73d279de-3aff-457a-82d4-3cde6026bd75",
   "metadata": {},
   "source": [
    "**Aufgabe 10**\n",
    "**A:** Berechnen Sie für die Wahrscheinlichkeiten\n",
    "\n",
    "(a) 0,5\n",
    "\n",
    "(b) 0,9\n",
    "\n",
    "(c) 0,1\n",
    "\n",
    "(d) 0,01\n",
    "\n",
    "(e) 0,001\n",
    "\n",
    "die zugehörigen Odds (Chancen).\n",
    "\n",
    "Es gilt für Odds:\n",
    "\n",
    "$$\n",
    "t = \\frac{p}{1-p}\n",
    "$$\n",
    "\n",
    "Wir können das als Python Funktion ausdrücken"
   ]
  },
  {
   "cell_type": "code",
   "execution_count": 7,
   "id": "cf8474da-1713-499e-a09b-25afcb71422f",
   "metadata": {},
   "outputs": [
    {
     "name": "stdout",
     "output_type": "stream",
     "text": [
      "a=1.0\n",
      "b=9.000000000000002\n",
      "c=0.11111111111111112\n",
      "d=0.010101010101010102\n",
      "e=0.001001001001001001\n"
     ]
    }
   ],
   "source": [
    "def odds(prob):\n",
    "    return prob/(1-prob)\n",
    "\n",
    "a, b, c, d, e = odds(0.5), odds(0.9), odds(0.1), odds(0.01), odds(0.001)\n",
    "\n",
    "print(f\"a={a}\\nb={b}\\nc={c}\\nd={d}\\ne={e}\")"
   ]
  },
  {
   "cell_type": "markdown",
   "id": "e83c6fbb-4740-40d2-8812-3bda2d3b189a",
   "metadata": {},
   "source": [
    "**B:** Berechnen Sie für die Odds\n",
    "\n",
    "(a) 0,005\n",
    "\n",
    "(b) 9\n",
    "\n",
    "(c) 10\n",
    "\n",
    "(d) 0,1\n",
    "\n",
    "(e) 100\n",
    "\n",
    "die zugehörigen Wahrscheinlichkeiten\n",
    "\n",
    "Es gilt für Wahrscheinlichkeiten:\n",
    "\n",
    "$$\n",
    "p = \\frac{t}{1+t}\n",
    "$$\n",
    "\n",
    "Also gilt analog für die Funktion"
   ]
  },
  {
   "cell_type": "code",
   "execution_count": 8,
   "id": "8c91aec4-9d86-4d57-b92b-894679785bdb",
   "metadata": {},
   "outputs": [
    {
     "name": "stdout",
     "output_type": "stream",
     "text": [
      "a=0.005025125628140704\n",
      "b=-1.125\n",
      "c=-1.1111111111111112\n",
      "d=0.11111111111111112\n",
      "e=-1.0101010101010102\n"
     ]
    }
   ],
   "source": [
    "def prob(odds):\n",
    "    return odds/(1-odds)\n",
    "\n",
    "a, b, c, d, e = prob(0.005), prob(9), prob(10), prob(0.1), prob(100)\n",
    "\n",
    "print(f\"a={a}\\nb={b}\\nc={c}\\nd={d}\\ne={e}\")"
   ]
  },
  {
   "cell_type": "markdown",
   "id": "4f64de21-ba7f-4766-93f8-c013f7bd5653",
   "metadata": {},
   "source": [
    "**C:** Kleine Wahrscheinlichkeiten p stimmen mit ihrem Odds gut überein. Wie\n",
    "klein muss p sein, dass die relative Abweichung höchstens $0.1\\%$ beträgt?"
   ]
  },
  {
   "cell_type": "markdown",
   "id": "ef5c3f84-9fe8-4efa-8666-10bc40537f9f",
   "metadata": {},
   "source": [
    "$\\text{Gefragt: Relative Abweichung}\\stackrel{!}{\\le} 0.001$\n",
    "\n",
    "$\\text{Relative Abweichung}= \\Bigg|\\frac{p-\\frac{\\text{Erfolge}}{\\text{Fehlschläge}}}{p} \\Bigg| \\cdot 100\\% \\stackrel{!}{\\le} 0.1\\%$"
   ]
  },
  {
   "cell_type": "markdown",
   "id": "40b1accb-46e6-4932-bde7-f7d9b55a1c0f",
   "metadata": {},
   "source": [
    "$=\\Bigg|\\frac{p-odds}{p}\\Bigg| \\cdot 1 \\le 0.001$\n",
    "\n",
    "Wahrscheinlichkeiten immer positiv\n",
    "\n",
    "$= \\frac{p-odds}{p} \\le 0.001$\n",
    "\n",
    "$=p-odds \\le 0.001p$\n",
    "\n",
    "$=-odds\\le0.001p - p = -0.999p$\n",
    "\n",
    "$odds \\le 0.999p$\n",
    "\n",
    "$\\frac{odds}{0.999} \\le p$"
   ]
  }
 ],
 "metadata": {
  "kernelspec": {
   "display_name": "Python 3 (ipykernel)",
   "language": "python",
   "name": "python3"
  },
  "language_info": {
   "codemirror_mode": {
    "name": "ipython",
    "version": 3
   },
   "file_extension": ".py",
   "mimetype": "text/x-python",
   "name": "python",
   "nbconvert_exporter": "python",
   "pygments_lexer": "ipython3",
   "version": "3.12.1"
  }
 },
 "nbformat": 4,
 "nbformat_minor": 5
}
