{
 "cells": [
  {
   "cell_type": "markdown",
   "id": "fc698a61-e1f3-4234-928b-ff54e69822ca",
   "metadata": {},
   "source": [
    "# Uebung 2"
   ]
  },
  {
   "cell_type": "markdown",
   "id": "eb32da30-d951-496f-95ce-cf67eabbc4ce",
   "metadata": {},
   "source": [
    "**Aufgabe 6**\n",
    "\n",
    "Betrachten Sie das einfache lineare Regressionsmodell\n",
    "$$M : \\text{Defekt}_i = β_0 + β_1 \\text{Alter} _i + ϵ_i, i = 1, . . . , 13$$\n",
    "\n",
    "Für glaukom.txt\n",
    "\n",
    "**A:** Berechnen Sie die kleinste Quadrate Schätzer $\\hat{β_0}$ und $\\hat{β_1}$ und die Varianz-Kovarianz Matrix für die kleinsten Quadrate Schätzer $\\hat{β_0}$ und $\\hat{β_1}$."
   ]
  },
  {
   "cell_type": "code",
   "execution_count": 12,
   "id": "9a6174ca-df2a-4dfd-b893-60a6691b01ef",
   "metadata": {},
   "outputs": [
    {
     "name": "stdout",
     "output_type": "stream",
     "text": [
      "   lnr  Defekt  Flimmertest  Alter  Geschlecht\n",
      "0    1     6.1         13.2     46           0\n",
      "1    2     9.7         12.5     51           1\n",
      "2    3     4.1         15.5     25           1\n",
      "3    4     8.8         10.1     59           0\n",
      "4    5     4.0         12.5     23           1\n",
      "5    6     7.9         11.9     54           0\n",
      "6    7     7.4          8.9     44           0\n",
      "7    8     6.4         10.2     42           0\n",
      "8    9    10.4          5.4     47           1\n",
      "9   10    10.3          8.3     50           1\n"
     ]
    }
   ],
   "source": [
    "import pandas as pd\n",
    "import numpy  as np\n",
    "from sklearn.linear_model import LinearRegression\n",
    "\n",
    "glaukom = pd.read_csv('Glaukom.txt', sep='\\t')\n",
    "\n",
    "print(glaukom)"
   ]
  },
  {
   "cell_type": "code",
   "execution_count": 24,
   "id": "20d72dbb-aace-4661-bcb4-91c6288df24c",
   "metadata": {},
   "outputs": [
    {
     "name": "stdout",
     "output_type": "stream",
     "text": [
      "Koeffizienten:\n",
      "Intercept Beta_0 = 0.26502563267963275\n",
      "Slope Beta_1 = 0.16428513304581333\n"
     ]
    }
   ],
   "source": [
    "defect, age = np.array(glaukom['Defekt']), np.array(glaukom['Alter'])\n",
    "\n",
    "# X = age transponiert\n",
    "X = age.reshape(-1, 1)\n",
    "y = defect.reshape(-1, 1)\n",
    "\n",
    "model = LinearRegression()\n",
    "model.fit(X, y)\n",
    "\n",
    "beta_0 = model.intercept_[0]\n",
    "beta_1 = model.coef_[0][0]\n",
    "\n",
    "print(f\"Koeffizienten:\")\n",
    "print(f\"Intercept Beta_0 = {beta_0}\")\n",
    "print(f\"Slope Beta_1 = {beta_1}\")"
   ]
  },
  {
   "cell_type": "markdown",
   "id": "0973cd18-0191-4d79-8391-7beeb3f1009d",
   "metadata": {},
   "source": [
    "Die Varianz-Kovarianz-Matrix für $\\hat{β_0}$ und $\\hat{β_1}$ wird wie folgt berechnet:\n",
    "\n",
    "$$\n",
    "\\hat{Cov(\\hat{β})} = \\sigma ^2 (X^T X)^{-1}\n",
    "$$\n",
    "\n",
    "Wobei $\\sigma ^2$ die Varianz unserer $\\epsilon$ ist"
   ]
  },
  {
   "cell_type": "code",
   "execution_count": 56,
   "id": "434ebd4e-0ed2-43dd-9a00-3ec91b666b6f",
   "metadata": {},
   "outputs": [
    {
     "name": "stdout",
     "output_type": "stream",
     "text": [
      "[[8.10633771e-05]]\n"
     ]
    }
   ],
   "source": [
    "y_pred = model.predict(X)\n",
    "\n",
    "# Unsere \"Residuals\" sind unsere Epsilon, also die Abweichung unseren Modells von dem tatsächlichen Datenpunkt\n",
    "residuals = y - y_pred\n",
    "\n",
    "sigma_squared = np.var(residuals)\n",
    "\n",
    "cov_beta_hat = sigma_squared * np.linalg.inv(X.T @ X)\n",
    "\n",
    "print(cov_beta_hat)"
   ]
  },
  {
   "cell_type": "markdown",
   "id": "f92df4f5-42b5-43f5-b788-1b4a6267bc89",
   "metadata": {},
   "source": [
    "**B:** Sei\n",
    "$$\n",
    "\\hat{y} = \\hat{β_0} + \\hat{β_0}x, x ∈ \\mathbb{R}\n",
    "$$\n",
    "\n",
    "die Regressionsgerade für das Modell M. Berechnen Sie für jedes $x ∈ \\mathbb{R}$\n",
    "die Varianz des zugehörigen $\\hat{y}$."
   ]
  },
  {
   "cell_type": "code",
   "execution_count": null,
   "id": "7b3b3acf-ee8d-4ec6-bd1e-6160e007975d",
   "metadata": {},
   "outputs": [],
   "source": []
  }
 ],
 "metadata": {
  "kernelspec": {
   "display_name": "Python 3 (ipykernel)",
   "language": "python",
   "name": "python3"
  },
  "language_info": {
   "codemirror_mode": {
    "name": "ipython",
    "version": 3
   },
   "file_extension": ".py",
   "mimetype": "text/x-python",
   "name": "python",
   "nbconvert_exporter": "python",
   "pygments_lexer": "ipython3",
   "version": "3.12.1"
  }
 },
 "nbformat": 4,
 "nbformat_minor": 5
}
