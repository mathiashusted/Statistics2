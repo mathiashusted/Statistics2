{
 "cells": [
  {
   "cell_type": "markdown",
   "id": "fc698a61-e1f3-4234-928b-ff54e69822ca",
   "metadata": {},
   "source": [
    "# Uebung 2"
   ]
  },
  {
   "cell_type": "code",
   "execution_count": 2,
   "id": "0144ffa8-d765-48c1-b5dd-6ecd28fabf19",
   "metadata": {},
   "outputs": [],
   "source": [
    "import pandas as pd\n",
    "import numpy  as np\n",
    "from sklearn.linear_model import LinearRegression\n",
    "from scipy.stats import t\n",
    "import statsmodels.api as sm\n",
    "import matplotlib.pyplot as plt"
   ]
  },
  {
   "cell_type": "markdown",
   "id": "eb32da30-d951-496f-95ce-cf67eabbc4ce",
   "metadata": {},
   "source": [
    "**Aufgabe 6**\n",
    "\n",
    "Betrachten Sie das einfache lineare Regressionsmodell\n",
    "$$M : \\text{Defekt}_i = β_0 + β_1 \\text{Alter} _i + ϵ_i, i = 1, . . . , 13$$\n",
    "\n",
    "Für glaukom.txt\n",
    "\n",
    "**A:** Berechnen Sie die kleinste Quadrate Schätzer $\\hat{β_0}$ und $\\hat{β_1}$ und die Varianz-Kovarianz Matrix für die kleinsten Quadrate Schätzer $\\hat{β_0}$ und $\\hat{β_1}$."
   ]
  },
  {
   "cell_type": "code",
   "execution_count": 3,
   "id": "9a6174ca-df2a-4dfd-b893-60a6691b01ef",
   "metadata": {},
   "outputs": [
    {
     "name": "stdout",
     "output_type": "stream",
     "text": [
      "   lnr  Defekt  Flimmertest  Alter  Geschlecht\n",
      "0    1     6.1         13.2     46           0\n",
      "1    2     9.7         12.5     51           1\n",
      "2    3     4.1         15.5     25           1\n",
      "3    4     8.8         10.1     59           0\n",
      "4    5     4.0         12.5     23           1\n",
      "5    6     7.9         11.9     54           0\n",
      "6    7     7.4          8.9     44           0\n",
      "7    8     6.4         10.2     42           0\n",
      "8    9    10.4          5.4     47           1\n",
      "9   10    10.3          8.3     50           1\n"
     ]
    }
   ],
   "source": [
    "glaukom = pd.read_csv('Glaukom.txt', sep='\\t')\n",
    "\n",
    "print(glaukom)"
   ]
  },
  {
   "cell_type": "markdown",
   "id": "058b5c0c-e616-42f4-a79d-33c03688b11f",
   "metadata": {},
   "source": [
    "In Python können wir entweder Scikit-Learns LinearRegression oder Statsmodels benutzen. Für die direkte Bestimmung der Kovarianz ist Statsmodels jedoch besser geeignet, da es über eine interne Version dafür verfügt."
   ]
  },
  {
   "cell_type": "code",
   "execution_count": 4,
   "id": "20d72dbb-aace-4661-bcb4-91c6288df24c",
   "metadata": {},
   "outputs": [
    {
     "name": "stdout",
     "output_type": "stream",
     "text": [
      "Koeffizienten\n",
      "Intercept    0.265026\n",
      "Alter        0.164285\n",
      "dtype: float64\n",
      "\n",
      "Kovarianz-Matrix\n",
      "           Intercept     Alter\n",
      "Intercept   3.525277 -0.075187\n",
      "Alter      -0.075187  0.001705\n",
      "\n",
      "\n",
      "Mit Scikit-Learn: beta_0 = 0.26502563267963275, beta_1 = [0.16428513]\n"
     ]
    }
   ],
   "source": [
    "# Mit Statsmodels\n",
    "defect, age = np.array(glaukom['Defekt']), np.array(glaukom['Alter'])\n",
    "model_sm = sm.formula.ols(formula='Defekt ~ Alter', data=glaukom).fit()\n",
    "\n",
    "coefficients = model_sm.params\n",
    "\n",
    "cov_matrix = model_sm.cov_params()\n",
    "\n",
    "print(f\"Koeffizienten\\n{coefficients}\")\n",
    "print(f\"\\nKovarianz-Matrix\\n{cov_matrix}\")\n",
    "\n",
    "# Alternativ: Mit Scikit-Learn\n",
    "X = age.reshape(-1, 1)\n",
    "y = defect.reshape(-1, 1)\n",
    "\n",
    "model = LinearRegression()\n",
    "model.fit(X,y)\n",
    "\n",
    "beta_0 = model.intercept_[0]\n",
    "beta_1 = model.coef_[0]\n",
    "\n",
    "print(f\"\\n\\nMit Scikit-Learn: beta_0 = {beta_0}, beta_1 = {beta_1}\")"
   ]
  },
  {
   "cell_type": "markdown",
   "id": "0973cd18-0191-4d79-8391-7beeb3f1009d",
   "metadata": {},
   "source": [
    "Die entstandene Kovarianz-Matrix hat die Form\n",
    "\n",
    "$$\n",
    "\\begin{bmatrix}\n",
    "Var(\\hat{\\beta_0)} & Cov(\\hat{\\beta_0}, \\hat{\\beta_1})\n",
    "\\\\Cov(\\hat{\\beta_1}, \\hat{\\beta_0}) & Var(\\hat{\\beta_1)}\n",
    "\\end{bmatrix}\n",
    "$$\n",
    "\n",
    "**(nicht relevante) Anmerkung:** Formel für den Schätzer der Kovarianzmatrix für $\\hat{β_0}$ und $\\hat{β_1}$ aus der VL:\n",
    "\n",
    "$$\n",
    "\\hat{Cov(\\hat{β})} = \\sigma ^2 (X^T X)^{-1}\n",
    "$$\n",
    "\n",
    "Wobei $\\sigma ^2$ die Varianz unser $\\epsilon$ ist"
   ]
  },
  {
   "cell_type": "markdown",
   "id": "f92df4f5-42b5-43f5-b788-1b4a6267bc89",
   "metadata": {},
   "source": [
    "**B:** Sei\n",
    "$$\n",
    "\\hat{y} = \\hat{β_0} + \\hat{β_0}x, x ∈ \\mathbb{R}\n",
    "$$\n",
    "\n",
    "die Regressionsgerade für das Modell M. Berechnen Sie für jedes $x ∈ \\mathbb{R}$\n",
    "die Varianz des zugehörigen $\\hat{y}$."
   ]
  },
  {
   "cell_type": "code",
   "execution_count": 8,
   "id": "21f030b0-03df-450c-841e-bb5217debfdb",
   "metadata": {},
   "outputs": [
    {
     "name": "stdout",
     "output_type": "stream",
     "text": [
      "For x = 46, Var(y) = 0.21567321617978114\n",
      "For x = 51, Var(y) = 0.2906899870249224\n",
      "For x = 25, Var(y) = 0.8314927077539864\n",
      "For x = 59, Var(y) = 0.5880291878293005\n",
      "For x = 23, Var(y) = 0.9685688072073808\n",
      "For x = 54, Var(y) = 0.37661828817481147\n",
      "For x = 44, Var(y) = 0.2095354803833605\n",
      "For x = 42, Var(y) = 0.21703715746787464\n",
      "For x = 47, Var(y) = 0.223856863908342\n",
      "For x = 50, Var(y) = 0.26886692641542675\n"
     ]
    },
    {
     "data": {
      "text/plain": [
       "2.095184311172593"
      ]
     },
     "execution_count": 8,
     "metadata": {},
     "output_type": "execute_result"
    }
   ],
   "source": [
    "sigma_squared = model_sm.mse_resid\n",
    "n = len(glaukom)\n",
    "x_mean = glaukom['Alter'].mean()\n",
    "\n",
    "def calculate_y_variance(x_value, X, sigma_squared, x_mean):\n",
    "    return sigma_squared * (1/n + (x_value - x_mean)**2 / np.sum((X - x_mean)**2))\n",
    "\n",
    "x_values = glaukom['Alter']\n",
    "X = glaukom['Alter']\n",
    "y_variances = [calculate_y_variance(x_val, X, sigma_squared, x_mean) for x_val in x_values]\n",
    "\n",
    "for x_val, y_var in zip(x_values, y_variances):\n",
    "    print(f\"For x = {x_val}, Var(y) = {y_var}\")"
   ]
  },
  {
   "cell_type": "markdown",
   "id": "6ea631a0-bd29-49f2-9193-0b43a6c0c7ea",
   "metadata": {},
   "source": [
    "**C:** Berechnen Sie das 99% Konfidenzintervall f¨ur ˆy.\n",
    "Hinweis: Benutzen Sie die Formel\n",
    "$CI95\\% = \\hat{y} ± t_{1−\\frac{α}{2};df}\\sqrt{Var(\\hat{y})}.$\n",
    "Wie viel Freiheitsgrade df hat das Modell M ?"
   ]
  },
  {
   "cell_type": "code",
   "execution_count": 48,
   "id": "38982398-3798-437e-8df7-02c1141275f8",
   "metadata": {},
   "outputs": [
    {
     "name": "stdout",
     "output_type": "stream",
     "text": [
      "df: 8\n",
      "CI: [1.55826303 1.80907968 3.05965094 2.57301372 3.30223442 2.0591755\n",
      " 1.53593008 1.56318258 1.58755167 1.73984817]\n"
     ]
    }
   ],
   "source": [
    "df = n - 2\n",
    "\n",
    "alpha = 0.01\n",
    "\n",
    "t_critical = t.ppf(1-(alpha/2), df)\n",
    "\n",
    "CI = t_critical * np.sqrt(y_variances)\n",
    "\n",
    "print(f\"df: {df}\\nCI: {CI}\")"
   ]
  },
  {
   "cell_type": "markdown",
   "id": "cd32b210-03ba-4c56-91ec-d6ee3e3328d6",
   "metadata": {},
   "source": [
    "**D:** Die Grenzen des in der vorigen Teilaufgabe berechneten Konfidenzintervalls hängen von x ab. Zeichnen Sie die die Regressionsgerade zusammen mit den Datenpunkten und den Konfidenzintervallen in ein Streudiagramm ein. Da die Konfidenzintervalle von x abhängen, erhält man so\n",
    "Konfidenzbänder für die Regressionsgerade."
   ]
  },
  {
   "cell_type": "code",
   "execution_count": 7,
   "id": "4635cd2f-a808-44b5-b953-5680e69baf72",
   "metadata": {
    "scrolled": true
   },
   "outputs": [
    {
     "ename": "ValueError",
     "evalue": "Expected a 2-dimensional container but got <class 'pandas.core.series.Series'> instead. Pass a DataFrame containing a single row (i.e. single sample) or a single column (i.e. single feature) instead.",
     "output_type": "error",
     "traceback": [
      "\u001b[0;31m---------------------------------------------------------------------------\u001b[0m",
      "\u001b[0;31mValueError\u001b[0m                                Traceback (most recent call last)",
      "Cell \u001b[0;32mIn[7], line 3\u001b[0m\n\u001b[1;32m      1\u001b[0m plt\u001b[38;5;241m.\u001b[39mscatter(age, defect, label\u001b[38;5;241m=\u001b[39m\u001b[38;5;124m\"\u001b[39m\u001b[38;5;124mDatenpunkte\u001b[39m\u001b[38;5;124m\"\u001b[39m, color\u001b[38;5;241m=\u001b[39m\u001b[38;5;124m\"\u001b[39m\u001b[38;5;124mgreen\u001b[39m\u001b[38;5;124m\"\u001b[39m)\n\u001b[0;32m----> 3\u001b[0m y_pred \u001b[38;5;241m=\u001b[39m model\u001b[38;5;241m.\u001b[39mpredict(X)\n\u001b[1;32m      5\u001b[0m plt\u001b[38;5;241m.\u001b[39mplot(age,y_pred)\n\u001b[1;32m      7\u001b[0m plt\u001b[38;5;241m.\u001b[39mshow()\n",
      "File \u001b[0;32m~/miniconda3/lib/python3.12/site-packages/sklearn/linear_model/_base.py:286\u001b[0m, in \u001b[0;36mLinearModel.predict\u001b[0;34m(self, X)\u001b[0m\n\u001b[1;32m    272\u001b[0m \u001b[38;5;28;01mdef\u001b[39;00m \u001b[38;5;21mpredict\u001b[39m(\u001b[38;5;28mself\u001b[39m, X):\n\u001b[1;32m    273\u001b[0m \u001b[38;5;250m    \u001b[39m\u001b[38;5;124;03m\"\"\"\u001b[39;00m\n\u001b[1;32m    274\u001b[0m \u001b[38;5;124;03m    Predict using the linear model.\u001b[39;00m\n\u001b[1;32m    275\u001b[0m \n\u001b[0;32m   (...)\u001b[0m\n\u001b[1;32m    284\u001b[0m \u001b[38;5;124;03m        Returns predicted values.\u001b[39;00m\n\u001b[1;32m    285\u001b[0m \u001b[38;5;124;03m    \"\"\"\u001b[39;00m\n\u001b[0;32m--> 286\u001b[0m     \u001b[38;5;28;01mreturn\u001b[39;00m \u001b[38;5;28mself\u001b[39m\u001b[38;5;241m.\u001b[39m_decision_function(X)\n",
      "File \u001b[0;32m~/miniconda3/lib/python3.12/site-packages/sklearn/linear_model/_base.py:269\u001b[0m, in \u001b[0;36mLinearModel._decision_function\u001b[0;34m(self, X)\u001b[0m\n\u001b[1;32m    266\u001b[0m \u001b[38;5;28;01mdef\u001b[39;00m \u001b[38;5;21m_decision_function\u001b[39m(\u001b[38;5;28mself\u001b[39m, X):\n\u001b[1;32m    267\u001b[0m     check_is_fitted(\u001b[38;5;28mself\u001b[39m)\n\u001b[0;32m--> 269\u001b[0m     X \u001b[38;5;241m=\u001b[39m \u001b[38;5;28mself\u001b[39m\u001b[38;5;241m.\u001b[39m_validate_data(X, accept_sparse\u001b[38;5;241m=\u001b[39m[\u001b[38;5;124m\"\u001b[39m\u001b[38;5;124mcsr\u001b[39m\u001b[38;5;124m\"\u001b[39m, \u001b[38;5;124m\"\u001b[39m\u001b[38;5;124mcsc\u001b[39m\u001b[38;5;124m\"\u001b[39m, \u001b[38;5;124m\"\u001b[39m\u001b[38;5;124mcoo\u001b[39m\u001b[38;5;124m\"\u001b[39m], reset\u001b[38;5;241m=\u001b[39m\u001b[38;5;28;01mFalse\u001b[39;00m)\n\u001b[1;32m    270\u001b[0m     \u001b[38;5;28;01mreturn\u001b[39;00m safe_sparse_dot(X, \u001b[38;5;28mself\u001b[39m\u001b[38;5;241m.\u001b[39mcoef_\u001b[38;5;241m.\u001b[39mT, dense_output\u001b[38;5;241m=\u001b[39m\u001b[38;5;28;01mTrue\u001b[39;00m) \u001b[38;5;241m+\u001b[39m \u001b[38;5;28mself\u001b[39m\u001b[38;5;241m.\u001b[39mintercept_\n",
      "File \u001b[0;32m~/miniconda3/lib/python3.12/site-packages/sklearn/base.py:633\u001b[0m, in \u001b[0;36mBaseEstimator._validate_data\u001b[0;34m(self, X, y, reset, validate_separately, cast_to_ndarray, **check_params)\u001b[0m\n\u001b[1;32m    631\u001b[0m         out \u001b[38;5;241m=\u001b[39m X, y\n\u001b[1;32m    632\u001b[0m \u001b[38;5;28;01melif\u001b[39;00m \u001b[38;5;129;01mnot\u001b[39;00m no_val_X \u001b[38;5;129;01mand\u001b[39;00m no_val_y:\n\u001b[0;32m--> 633\u001b[0m     out \u001b[38;5;241m=\u001b[39m check_array(X, input_name\u001b[38;5;241m=\u001b[39m\u001b[38;5;124m\"\u001b[39m\u001b[38;5;124mX\u001b[39m\u001b[38;5;124m\"\u001b[39m, \u001b[38;5;241m*\u001b[39m\u001b[38;5;241m*\u001b[39mcheck_params)\n\u001b[1;32m    634\u001b[0m \u001b[38;5;28;01melif\u001b[39;00m no_val_X \u001b[38;5;129;01mand\u001b[39;00m \u001b[38;5;129;01mnot\u001b[39;00m no_val_y:\n\u001b[1;32m    635\u001b[0m     out \u001b[38;5;241m=\u001b[39m _check_y(y, \u001b[38;5;241m*\u001b[39m\u001b[38;5;241m*\u001b[39mcheck_params)\n",
      "File \u001b[0;32m~/miniconda3/lib/python3.12/site-packages/sklearn/utils/validation.py:1035\u001b[0m, in \u001b[0;36mcheck_array\u001b[0;34m(array, accept_sparse, accept_large_sparse, dtype, order, copy, force_all_finite, ensure_2d, allow_nd, ensure_min_samples, ensure_min_features, estimator, input_name)\u001b[0m\n\u001b[1;32m   1028\u001b[0m         \u001b[38;5;28;01melse\u001b[39;00m:\n\u001b[1;32m   1029\u001b[0m             msg \u001b[38;5;241m=\u001b[39m (\n\u001b[1;32m   1030\u001b[0m                 \u001b[38;5;124mf\u001b[39m\u001b[38;5;124m\"\u001b[39m\u001b[38;5;124mExpected 2D array, got 1D array instead:\u001b[39m\u001b[38;5;130;01m\\n\u001b[39;00m\u001b[38;5;124marray=\u001b[39m\u001b[38;5;132;01m{\u001b[39;00marray\u001b[38;5;132;01m}\u001b[39;00m\u001b[38;5;124m.\u001b[39m\u001b[38;5;130;01m\\n\u001b[39;00m\u001b[38;5;124m\"\u001b[39m\n\u001b[1;32m   1031\u001b[0m                 \u001b[38;5;124m\"\u001b[39m\u001b[38;5;124mReshape your data either using array.reshape(-1, 1) if \u001b[39m\u001b[38;5;124m\"\u001b[39m\n\u001b[1;32m   1032\u001b[0m                 \u001b[38;5;124m\"\u001b[39m\u001b[38;5;124myour data has a single feature or array.reshape(1, -1) \u001b[39m\u001b[38;5;124m\"\u001b[39m\n\u001b[1;32m   1033\u001b[0m                 \u001b[38;5;124m\"\u001b[39m\u001b[38;5;124mif it contains a single sample.\u001b[39m\u001b[38;5;124m\"\u001b[39m\n\u001b[1;32m   1034\u001b[0m             )\n\u001b[0;32m-> 1035\u001b[0m         \u001b[38;5;28;01mraise\u001b[39;00m \u001b[38;5;167;01mValueError\u001b[39;00m(msg)\n\u001b[1;32m   1037\u001b[0m \u001b[38;5;28;01mif\u001b[39;00m dtype_numeric \u001b[38;5;129;01mand\u001b[39;00m \u001b[38;5;28mhasattr\u001b[39m(array\u001b[38;5;241m.\u001b[39mdtype, \u001b[38;5;124m\"\u001b[39m\u001b[38;5;124mkind\u001b[39m\u001b[38;5;124m\"\u001b[39m) \u001b[38;5;129;01mand\u001b[39;00m array\u001b[38;5;241m.\u001b[39mdtype\u001b[38;5;241m.\u001b[39mkind \u001b[38;5;129;01min\u001b[39;00m \u001b[38;5;124m\"\u001b[39m\u001b[38;5;124mUSV\u001b[39m\u001b[38;5;124m\"\u001b[39m:\n\u001b[1;32m   1038\u001b[0m     \u001b[38;5;28;01mraise\u001b[39;00m \u001b[38;5;167;01mValueError\u001b[39;00m(\n\u001b[1;32m   1039\u001b[0m         \u001b[38;5;124m\"\u001b[39m\u001b[38;5;124mdtype=\u001b[39m\u001b[38;5;124m'\u001b[39m\u001b[38;5;124mnumeric\u001b[39m\u001b[38;5;124m'\u001b[39m\u001b[38;5;124m is not compatible with arrays of bytes/strings.\u001b[39m\u001b[38;5;124m\"\u001b[39m\n\u001b[1;32m   1040\u001b[0m         \u001b[38;5;124m\"\u001b[39m\u001b[38;5;124mConvert your data to numeric values explicitly instead.\u001b[39m\u001b[38;5;124m\"\u001b[39m\n\u001b[1;32m   1041\u001b[0m     )\n",
      "\u001b[0;31mValueError\u001b[0m: Expected a 2-dimensional container but got <class 'pandas.core.series.Series'> instead. Pass a DataFrame containing a single row (i.e. single sample) or a single column (i.e. single feature) instead."
     ]
    },
    {
     "data": {
      "image/png": "[encoded data removed]",
      "text/plain": [
       "<Figure size 640x480 with 1 Axes>"
      ]
     },
     "metadata": {},
     "output_type": "display_data"
    }
   ],
   "source": [
    "plt.scatter(age, defect, label=\"Datenpunkte\", color=\"green\")\n",
    "\n",
    "y_pred = model.predict(X)\n",
    "\n",
    "plt.plot(age,y_pred)\n",
    "\n",
    "plt.show()\n"
   ]
  },
  {
   "cell_type": "markdown",
   "id": "eb37ac1c-6291-45ef-8677-38f8e7e74984",
   "metadata": {},
   "source": [
    "**Aufgabe 7**\n",
    "\n",
    "Laden Sie den Datensatz in Schueler.txt in einen Datensatz.\n",
    "Erstellen Sie den Teildatensatz Schule aller Schüler ab der neunten Klasse."
   ]
  },
  {
   "cell_type": "code",
   "execution_count": 40,
   "id": "2415136a",
   "metadata": {},
   "outputs": [
    {
     "name": "stdout",
     "output_type": "stream",
     "text": [
      "    lnr  Klasse Gesch  Alter  Groesse  Gewicht  Mathe  Physik  Deutsch  Bio\n",
      "2     3      10     w     17      174       64      4     3.0        5    2\n",
      "5     6       9     m     16      162       65      2     2.0        4    2\n",
      "7     8      10     w     16      166       60      5     5.0        1    3\n",
      "16   17       9     w     15      149       55      1     2.0        3    2\n",
      "18   19      11     m     17      190       71      5     5.0        3    2\n"
     ]
    }
   ],
   "source": [
    "schueler = pd.read_csv(\"Schueler.txt\", sep=\" \")\n",
    "\n",
    "schule = schueler[schueler['Klasse'] >= 9]\n",
    "\n",
    "print(schule.head())\n",
    "\n",
    "age = np.array(schule['Alter'])\n",
    "height = np.array(schule['Groesse'])\n",
    "cl = np.array(schule['Klasse'])\n",
    "physics = np.array(schule['Physik'])\n",
    "bio = np.array(schule['Bio'])\n",
    "german = np.array(schule['Deutsch'])\n",
    "maths = np.array(schule['Mathe'])"
   ]
  },
  {
   "cell_type": "markdown",
   "id": "8ad1f9a3-5aa7-4f01-8683-b87596822f87",
   "metadata": {},
   "source": [
    "**A** Geben Sie für jedes der folgenden linearen Modelle mit Intercept die\n",
    "vollständige Modellgleichung in mathematischer Schreibweise an. Alle\n",
    "Modelle beziehen sich auf den Datensatz Schule.\n",
    "\n",
    "$M_1 : Alter ∼ Klasse+Physik$\n",
    "\n",
    "$M_2 : Alter ∼ Klasse+Physik+Bio$\n",
    "\n",
    "$M_3 : Alter ∼ Klasse+Groeße$\n",
    "\n",
    "$M_4 : Alter ∼ Physik+Mathe+Bio+Deutsch$\n",
    "\n",
    "$M_5 : Alter ∼ Klasse$\n",
    "\n",
    "Hinweis: Die Variablen Klasse, Physik, Bio, Deutsch und Mathe sollen\n",
    "als kategoriale Variablen aufgefasst werden. Sie müssen daher vor ihrer\n",
    "Verwendung in einem linearen Modell in Dummy-Variablen umkodiert\n",
    "werden."
   ]
  },
  {
   "cell_type": "markdown",
   "id": "1df8ccea-67ac-47b9-8579-e52b93f01142",
   "metadata": {},
   "source": [
    "$M_1: Alter = \\beta_0 + \\beta_1 Klasse + \\beta_2 Physik$\n",
    "\n",
    "$M_2: Alter = \\beta_0 + \\beta_1 Klasse + \\beta_2 Physik + \\beta_3 Bio$\n",
    "\n",
    "$M_3: Alter = \\beta_0 + \\beta_1 Klasse + \\beta_2 Groeße$\n",
    "\n",
    "$M_4: Alter = \\beta_0 + \\beta_1 Physik + \\beta_2 Mathe + \\beta_3 Bio + \\beta_4 Deutsch$\n",
    "\n",
    "$M_5: Alter = \\beta_0 + \\beta_1 Klasse$\n",
    "\n",
    "Wobei $\\beta_0$ jeweils das Intercept ist."
   ]
  },
  {
   "cell_type": "markdown",
   "id": "d30179a3-e774-4f49-ab56-7fc432e1cc95",
   "metadata": {},
   "source": [
    "**B:** Welche der Modelle M1 bis M5 stehen in einem hierarchischen Verhältnis?\n",
    "\n",
    "$M_5$ steht unter $M_1, M_2, M_3$, da die Koeffizienten von $x$ in $M_5$ eine Teilmenge von denen in den letzteren 3 sind.\n",
    "\n",
    "$M_1$ steht wiederum unter $M_2$\n",
    "\n",
    "$M_4$ steht für sich"
   ]
  },
  {
   "cell_type": "markdown",
   "id": "7b6988be-d829-434d-bb20-20d5ad1682fc",
   "metadata": {},
   "source": [
    "**C:** Führen Sie für jedes Paar von Modellen $M_1$ bis $M_5$, die in einem hierarchischen Verhältnis stehen, den partiellen F-Test durch. Geben Sie insbesondere die Nullhypothesen, die Werte der F-Statistik mit Zähler- und Nennerfreiheitsgraden und die p-Werte an."
   ]
  },
  {
   "cell_type": "code",
   "execution_count": 43,
   "id": "a3c91027-9ff1-4d0a-8b94-ff742231b6c4",
   "metadata": {},
   "outputs": [
    {
     "name": "stdout",
     "output_type": "stream",
     "text": [
      "M_5 < M_1\n",
      "   df_resid         ssr  df_diff   ss_diff         F    Pr(>F)\n",
      "0     439.0  143.121312      0.0       NaN       NaN       NaN\n",
      "1     434.0  142.653927      5.0  0.467384  0.284387  0.921613\n",
      "M_5 < M_2\n",
      "   df_resid         ssr  df_diff   ss_diff         F    Pr(>F)\n",
      "0     439.0  143.121312      0.0       NaN       NaN       NaN\n",
      "1     429.0  140.504128     10.0  2.617184  0.799102  0.629711\n",
      "M_5 < M_3\n",
      "   df_resid         ssr  df_diff    ss_diff        F   Pr(>F)\n",
      "0     439.0  143.121312      0.0        NaN      NaN      NaN\n",
      "1     383.0  114.698176     56.0  28.423136  1.69483  0.00235\n",
      "M_1 < M_2\n",
      "   df_resid         ssr  df_diff  ss_diff         F    Pr(>F)\n",
      "0     434.0  142.653927      0.0      NaN       NaN       NaN\n",
      "1     429.0  140.504128      5.0   2.1498  1.312793  0.257415\n"
     ]
    }
   ],
   "source": [
    "model_1 = sm.formula.ols(formula=\"Alter ~ C(Klasse) + C(Physik)\", data=schule).fit()\n",
    "model_2 = sm.formula.ols(formula=\"Alter ~ C(Klasse) + C(Physik) + C(Bio)\", data=schule).fit()\n",
    "model_3 = sm.formula.ols(formula=\"Alter ~ C(Klasse) + C(Groesse)\", data=schule).fit()\n",
    "model_4 = sm.formula.ols(formula=\"Alter ~ C(Physik) + C(Mathe) + C(Bio) + C(Deutsch)\", data=schule).fit()\n",
    "model_5 = sm.formula.ols(formula=\"Alter ~ C(Klasse)\", data=schule).fit()\n",
    "\n",
    "#M_5 steht \"unter\" M_1, M_2, M_3\n",
    "print(\"M_5 < M_1\")\n",
    "print(sm.stats.anova_lm(model_5, model_1))\n",
    "print(\"M_5 < M_2\")\n",
    "print(sm.stats.anova_lm(model_5, model_2))\n",
    "print(\"M_5 < M_3\")\n",
    "print(sm.stats.anova_lm(model_5, model_3))\n",
    "\n",
    "#M_1 steht \"unter\" M_2\n",
    "print(\"M_1 < M_2\")\n",
    "print(sm.stats.anova_lm(model_1, model_2))"
   ]
  },
  {
   "cell_type": "markdown",
   "id": "febd6e57-277d-4b8b-b330-df9723f4b523",
   "metadata": {},
   "source": [
    "Die wichtigen Werte sind\n",
    "\n",
    "- F: Testet die Nullhypothese $H_0$, dass das \"reduzierte\" Modell ausreicht, um die Daten zu beschreiben, gegenüber der $H_1$, dass das volle Modell notwendig ist\n",
    "- Pr(>F) ist unser p-Wert - also die Wahrscheinlichkeit, ein solches Ergebnis zu bekommen, unter der Annahme, dass unser $H_1$ wahr ist\n",
    "- df_resid bezeichnet die Anzahl der Freiheitsgrade der jeweiligen Modelle, woebei df_diff die Differenz ist"
   ]
  },
  {
   "cell_type": "markdown",
   "id": "2c0e39a1-d87c-460e-be52-73856311aa6b",
   "metadata": {},
   "source": [
    "**Aufgabe 8** Stellen Sie die studentisierten Residuen für jedes der Modelle aus\n",
    "Aufgabe 7 in einem Q-Q Plot dar. Interpretieren Sie das Ergebnis."
   ]
  },
  {
   "cell_type": "code",
   "execution_count": null,
   "id": "73bf3725-5b9e-4ebe-aded-e4abe55e9d7a",
   "metadata": {},
   "outputs": [],
   "source": [
    "models = [model_1, model_2, model_3, model_4, model_5]\n",
    "model_names = [\"Modell 1\", \"Modell 2\", \"Modell 3\", \"Modell 4\", \"Modell 5\"]\n",
    "\n",
    "fig, axes = plt.subplots(5, 1, figsize=(8, 6*len(models)))\n",
    "\n",
    "for i, (model, model_name) in enumerate(zip(models, model_names)):\n",
    "    # Get the residuals\n",
    "    residuals = model.resid\n",
    "    \n",
    "    # Create a Q-Q plot\n",
    "    ax = axes[i] if len(models) > 1 else axes\n",
    "    sm.qqplot(residuals, line='s', ax=ax)\n",
    "    ax.set_title(f'Q-Q Plot of Residuals - {model_name}')\n",
    "\n",
    "plt.tight_layout()\n",
    "plt.show()\n"
   ]
  },
  {
   "cell_type": "markdown",
   "id": "310f6870-25bc-4cb2-88c9-9e9c0aefde54",
   "metadata": {},
   "source": [
    "**Aufgabe 9**\n",
    "\n",
    "Betrachten Sie den Datensatz in Glaukom.txt. Erstellen Sie die zusätzliche\n",
    "Interaktionsvariable $Alter\\cdot Geschlecht$ und betrachten Sie das lineare Modell\n",
    "$Defekt_i = β_0+β_1Alter_i+β_2Geschlecht_i+β_3Alter_i∗Geschlecht_i+ϵ_i , i = 1, . . . , n$\n",
    "\n",
    "Berechnen Sie den kleinsten Quadrate Schätzer für die Parameter $β_0, . . . , β_3$.\n",
    "Welche Bedeutung haben die Parameter $β_0, . . . , β_3$?"
   ]
  },
  {
   "cell_type": "markdown",
   "id": "d19e8a51-6f38-4588-a0d5-300995a4e4de",
   "metadata": {},
   "source": [
    "Allgemein lassen sich $\\beta_0,...,\\beta_n$ mit dem Kleinste Quadrate-Verfahren wie folgt berechnen:\n",
    "\n",
    "$$\n",
    "\\hat{\\beta} = (X^T X)^{-1} X^T y\n",
    "$$\n",
    "\n",
    "In Python geht das wie folgt"
   ]
  },
  {
   "cell_type": "code",
   "execution_count": null,
   "id": "064f8364-a60a-4743-a915-cae3b2ba61c9",
   "metadata": {},
   "outputs": [],
   "source": [
    "gender = np.array(glaukom['Geschlecht'])\n",
    "age = np.array(glaukom['Alter'])\n",
    "agegender = age*gender\n",
    "\n",
    "X = np.column_stack((age, gender, agegender))\n",
    "\n",
    "model = LinearRegression()\n",
    "model.fit(X, y)\n",
    "\n",
    "intercept = model.intercept_[0]\n",
    "beta = model.coef_\n",
    "beta\n",
    "print(f\"Beta 0,...,3:\\n{intercept}\\n{beta[0][0]}\\n{beta[0][1]}\\n{beta[0][2]}\")"
   ]
  },
  {
   "cell_type": "markdown",
   "id": "9000a7a7-ab08-4bc2-b191-81a4beedb5b5",
   "metadata": {},
   "source": [
    "Zur Veranschaulichung der Formel kann man die Koeffizienten auch manuell berechnen"
   ]
  },
  {
   "cell_type": "code",
   "execution_count": null,
   "id": "e6888304-93e0-489b-9fed-4f46c415456c",
   "metadata": {},
   "outputs": [],
   "source": [
    "# Erst extra Spalte mit Einsen einfügen (da beta_0 konstant)\n",
    "X_with_intercept = np.column_stack((np.ones(len(age)), X))\n",
    "# Die Formel von oben angewendet\n",
    "coefficients = np.linalg.inv(X_with_intercept.T @ X_with_intercept) @ X_with_intercept.T @ y\n",
    "\n",
    "print(f\"Beta 0,...,3:\\n{coefficients}\")"
   ]
  },
  {
   "cell_type": "markdown",
   "id": "73d279de-3aff-457a-82d4-3cde6026bd75",
   "metadata": {},
   "source": [
    "**Aufgabe 10**\n",
    "**A:** Berechnen Sie für die Wahrscheinlichkeiten\n",
    "\n",
    "(a) 0,5\n",
    "\n",
    "(b) 0,9\n",
    "\n",
    "(c) 0,1\n",
    "\n",
    "(d) 0,01\n",
    "\n",
    "(e) 0,001\n",
    "\n",
    "die zugehörigen Odds (Chancen).\n",
    "\n",
    "Es gilt für Odds:\n",
    "\n",
    "$$\n",
    "t = \\frac{p}{1-p}\n",
    "$$\n",
    "\n",
    "Wir können das als Python Funktion ausdrücken"
   ]
  },
  {
   "cell_type": "code",
   "execution_count": null,
   "id": "cf8474da-1713-499e-a09b-25afcb71422f",
   "metadata": {},
   "outputs": [],
   "source": [
    "def odds(prob):\n",
    "    return prob/(1-prob)\n",
    "\n",
    "a, b, c, d, e = odds(0.5), odds(0.9), odds(0.1), odds(0.01), odds(0.001)\n",
    "\n",
    "print(f\"a={a}\\nb={b}\\nc={c}\\nd={d}\\ne={e}\")"
   ]
  },
  {
   "cell_type": "markdown",
   "id": "e83c6fbb-4740-40d2-8812-3bda2d3b189a",
   "metadata": {},
   "source": [
    "**B:** Berechnen Sie für die Odds\n",
    "\n",
    "(a) 0,005\n",
    "\n",
    "(b) 9\n",
    "\n",
    "(c) 10\n",
    "\n",
    "(d) 0,1\n",
    "\n",
    "(e) 100\n",
    "\n",
    "die zugehörigen Wahrscheinlichkeiten\n",
    "\n",
    "Es gilt für Wahrscheinlichkeiten:\n",
    "\n",
    "$$\n",
    "p = \\frac{t}{1+t}\n",
    "$$\n",
    "\n",
    "Also gilt analog für die Funktion"
   ]
  },
  {
   "cell_type": "code",
   "execution_count": null,
   "id": "8c91aec4-9d86-4d57-b92b-894679785bdb",
   "metadata": {},
   "outputs": [],
   "source": [
    "def prob(odds):\n",
    "    return odds/(1-odds)\n",
    "\n",
    "a, b, c, d, e = prob(0.005), prob(9), prob(10), prob(0.1), prob(100)\n",
    "\n",
    "print(f\"a={a}\\nb={b}\\nc={c}\\nd={d}\\ne={e}\")"
   ]
  },
  {
   "cell_type": "markdown",
   "id": "4f64de21-ba7f-4766-93f8-c013f7bd5653",
   "metadata": {},
   "source": [
    "**C:** Kleine Wahrscheinlichkeiten p stimmen mit ihrem Odds gut überein. Wie\n",
    "klein muss p sein, dass die relative Abweichung höchstens $0.1\\%$ beträgt?"
   ]
  },
  {
   "cell_type": "markdown",
   "id": "ef5c3f84-9fe8-4efa-8666-10bc40537f9f",
   "metadata": {},
   "source": [
    "$\\text{Gefragt: Relative Abweichung}\\stackrel{!}{\\le} 0.001$\n",
    "\n",
    "$\\text{Relative Abweichung}= \\Bigg|\\frac{p-\\frac{\\text{Erfolge}}{\\text{Fehlschläge}}}{p} \\Bigg| \\cdot 100\\% \\stackrel{!}{\\le} 0.1\\%$"
   ]
  },
  {
   "cell_type": "markdown",
   "id": "40b1accb-46e6-4932-bde7-f7d9b55a1c0f",
   "metadata": {},
   "source": [
    "$=\\Bigg|\\frac{p-odds}{p}\\Bigg| \\cdot 1 \\le 0.001$\n",
    "\n",
    "Wahrscheinlichkeiten immer positiv\n",
    "\n",
    "$= \\frac{p-odds}{p} \\le 0.001$\n",
    "\n",
    "$=p-odds \\le 0.001p$\n",
    "\n",
    "$=-odds\\le0.001p - p = -0.999p$\n",
    "\n",
    "$odds \\le 0.999p$\n",
    "\n",
    "$\\frac{odds}{0.999} \\le p$"
   ]
  }
 ],
 "metadata": {
  "kernelspec": {
   "display_name": "Python 3 (ipykernel)",
   "language": "python",
   "name": "python3"
  },
  "language_info": {
   "codemirror_mode": {
    "name": "ipython",
    "version": 3
   },
   "file_extension": ".py",
   "mimetype": "text/x-python",
   "name": "python",
   "nbconvert_exporter": "python",
   "pygments_lexer": "ipython3",
   "version": "3.12.2"
  }
 },
 "nbformat": 4,
 "nbformat_minor": 5
}
