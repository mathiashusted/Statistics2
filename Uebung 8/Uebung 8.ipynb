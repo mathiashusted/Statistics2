{
 "cells": [
  {
   "cell_type": "markdown",
   "id": "64239a63-93f1-4533-bd4c-ca4518081ef7",
   "metadata": {},
   "source": [
    "## Aufgabe 35\n",
    "\n",
    "In welchen Fällen ist ein gemischtes Modell anzuwenden?\n",
    "1) In einer Querschnittsstudie mit 50 Zentren soll die Assozation zwischen Risikofaktoren und Lungenentzündungen für Schlaganfallpatienten untersucht werden.\n",
    "2) In einer Studie zu Herzinsuffizients wird der Zusammenhang zwischen Baseline Messungen und der Zeit bis zur ersten, zweiten, und dritten Hospitalisierung in verschiedenen Behandlungsgruppen analysiert.\n",
    "3) In einer großen Schule wurden Daten der Zahngesundheit (ein Score pro Schüler) gesammelt. Ergebnisse sollen mit Berücksichtigung von Alter und Geschlecht dargestellt werden\n",
    "4) Zwei Beobachter evaluieren die aktuelle Herzleistung jeder/s Patient:in. Die Analysen beschäftigen sich mit der Assoziation zwischen Herzleistung und Überleben\n",
    "\n",
    "In **Fall 1** ist ein gemischtes Modell anzuwenden, da es innerhalb der 50 verschiedenen Zentren eine Diskrepanz in der Qualität der Behandlung geben könnte oder verschiedene Protokolle zu unterschiedlichen Ergebnissen führen könnten. Außerdem könnte es sein, dass sich Patienten innerhalb des gleichen Behandlungszentrums ähnlich sind.\n",
    "\n",
    "In **Fall 2** ist ebenfalls ein gemischtes Modell anzuwenden, da es für jeden Patienten wiederholte Ereignisse gibt, die voneinander abhängig sind. Zudem gibt es verschiedene Behandlungsgruppen, die untereinander voneinander abhängig sein könnten. Die Daten sind zeitabhängig, was auch eine Rolle spielen könnte.\n",
    "\n",
    "In **Fall 3** ist es nicht notwendig, ein gemischtes Modell anzuwenden, da hier _keine offensichtlichen hierachischen Zusammenhänge oder wiederholte Ereignisse innerhalb der gleichen Gruppe_ gegeben sind, sondern nur ein einfacher Datenaufbau. Man könnte also einfach `alter` und `geschlecht` als unabhängige Variablen in seinem linearen Modell benutzen.\n",
    "\n",
    "In **Fall 4** ist es sinnvoll, ein gemischtes Modell anzuwenden, da hier mehrere Beobachtungen am gleichen Patienten gegeben sind. Es kann innerhalb der Beobachtungen verschiedene Messwerte geben, und ein Beobachter kann bei der Messung Fehler machen."
   ]
  },
  {
   "cell_type": "markdown",
   "id": "52f39163-1c1b-478f-ba6c-65756f22951d",
   "metadata": {},
   "source": [
    "## Aufgabe 36\n",
    "\n",
    "In einer Studie zur Gewichtsentwicklung von 44 Hühnerküken\n",
    "unter vier verschiedenen Ernährungsbedingungen (4 Gruppen, Variable Diet)\n",
    "wurde alle zwei Tage das Gewicht gemessen (0-21 Tage). Das Nullmodell (oh-\n",
    "ne Kovariablen) für das lineare gemischte Modell wird in R folgendermaßen\n",
    "berechnet:\n",
    "\n",
    "```r\n",
    "Null_modell<-lmer(weight∼1+(1|Chick), data = ChickWeight)\n",
    "```\n",
    "\n",
    "A) Interpretieren Sie den Schätzer für das Intercept.\n",
    "\n",
    "B) Berechnen Sie den Intraclasskorrelationskoeffizienten und interpretieren\n",
    "Sie das Ergebnis.\n",
    "\n",
    "Nutzen Sie folgende R-Pakete bzw. Datensatz\n",
    "- library(lme4)\n",
    "- library(lmer)\n",
    "- data(ChickWeight)"
   ]
  },
  {
   "cell_type": "code",
   "execution_count": 2,
   "id": "813f3398-6b8a-4ce6-a5c3-320c1a56ff88",
   "metadata": {},
   "outputs": [
    {
     "name": "stderr",
     "output_type": "stream",
     "text": [
      "also installing the dependencies ‘minqa’, ‘nloptr’, ‘Rcpp’, ‘RcppEigen’\n",
      "\n",
      "\n",
      "Warning message in install.packages(\"lme4\"):\n",
      "“installation of package ‘nloptr’ had non-zero exit status”\n",
      "Warning message in install.packages(\"lme4\"):\n",
      "“installation of package ‘Rcpp’ had non-zero exit status”\n",
      "Warning message in install.packages(\"lme4\"):\n",
      "“installation of package ‘minqa’ had non-zero exit status”\n",
      "Warning message in install.packages(\"lme4\"):\n",
      "“installation of package ‘RcppEigen’ had non-zero exit status”\n",
      "Warning message in install.packages(\"lme4\"):\n",
      "“installation of package ‘lme4’ had non-zero exit status”\n",
      "Updating HTML index of packages in '.Library'\n",
      "\n",
      "Making 'packages.html' ...\n",
      " done\n",
      "\n"
     ]
    }
   ],
   "source": [
    "install.packages(\"lme4\")"
   ]
  }
 ],
 "metadata": {
  "kernelspec": {
   "display_name": "R",
   "language": "R",
   "name": "ir"
  },
  "language_info": {
   "codemirror_mode": "r",
   "file_extension": ".r",
   "mimetype": "text/x-r-source",
   "name": "R",
   "pygments_lexer": "r",
   "version": "4.3.1"
  }
 },
 "nbformat": 4,
 "nbformat_minor": 5
}
