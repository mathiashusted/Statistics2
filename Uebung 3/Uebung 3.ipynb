{
 "cells": [
  {
   "cell_type": "markdown",
   "id": "709f1cc7-8d15-41e1-b6c7-68e57c28fa6c",
   "metadata": {},
   "source": [
    "# Übung 3"
   ]
  },
  {
   "cell_type": "code",
   "execution_count": 8,
   "id": "ff4147cd-d226-4f30-9230-6275abf11b82",
   "metadata": {},
   "outputs": [],
   "source": [
    "import pandas as pd\n",
    "import numpy as np\n",
    "\n",
    "import statsmodels.api as sm"
   ]
  },
  {
   "cell_type": "markdown",
   "id": "aab24327-d98e-4497-9b98-7f415ff4281d",
   "metadata": {},
   "source": [
    "**Aufgabe 11**\n",
    "\n",
    "**A:** Für den Datensatz in Unfaelle.txt wird folgendes logistisches Regressionsmodell\n",
    "$$M : \\text{Unfall} ∼ \\text{Alter} + \\text{Fahrpraxis} + \\text{Beruf} + \\text{Geschlecht}\\text{ (1)}$$\n",
    "betrachtet. Durch Ausdrücke wie (1) werden in R Regressionsmodelle\n",
    "unterschiedlichster Art spezifiziert. Geben Sie die Modellgleichung von\n",
    "M in mathematischer Notation an. Wie viele Parameter werden benötigt?\n",
    "Hinweis: Die Variablen Beruf und Geschlecht müssen zunächst in Dummy-\n",
    "Variablen umkodiert werden."
   ]
  },
  {
   "cell_type": "markdown",
   "id": "5c635554-ca37-4022-b427-44261bd1ac19",
   "metadata": {},
   "source": [
    "In unserem Datensatz gibt es 3 Berufe:\n",
    "- Physiker\n",
    "- Zahnarzt\n",
    "- Biologe\n",
    "\n",
    "Sowie die beiden Geschlechter\n",
    "- Mann\n",
    "- Frau\n",
    "\n",
    "Demzufolge brauchen wir jeweils für den ersten Fall 2, und den zweiten Fall eine Dummy-Variable.\n",
    "$$\n",
    "\\text{Unfall} \\log \\Bigg ( \\frac{P(Unfall=1)}{1 - P(Unfall=1)} \\Bigg )= \\beta_0 + \\beta_1 \\text{ Alter} + \\beta_2 \\text{ Fahrpraxis} + \\beta_3D_{3i} + \\beta_4D_{4i} + \\beta_5D_{5i} +\\epsilon_i\n",
    "$$\n",
    "\n",
    "Wobei\n",
    "\n",
    "| Beruf | D3 | D4 |\n",
    "| --- | --- | --- |\n",
    "| Physiker | 1 | 0 |\n",
    "| Zahnarzt | 0 | 1 |\n",
    "| Biologe | 0 | 0 |\n",
    "\n",
    "| Geschlecht | D5 |\n",
    "| --- | --- |\n",
    "| Mann | 0 |\n",
    "| Frau | 1 |\n",
    "\n",
    "eine mögliche Kodierung für die Variablen wäre."
   ]
  },
  {
   "cell_type": "code",
   "execution_count": 9,
   "id": "930377ca-2002-47e5-8ac8-ffc17b45c7b0",
   "metadata": {},
   "outputs": [
    {
     "name": "stdout",
     "output_type": "stream",
     "text": [
      "Datensatz:\n",
      "   Lnr  Unfall Geschlecht     Beruf  Alter  Fahrpraxis\n",
      "0    1       0       Mann  Physiker     31          12\n",
      "1    2       0       Frau  Physiker     37          18\n",
      "2    3       0       Frau  Physiker     38          18\n",
      "3    4       0       Frau  Physiker     44          25\n",
      "4    5       0       Frau  Physiker     52          33\n"
     ]
    }
   ],
   "source": [
    "accidents = pd.read_csv(\"Unfaelle.txt\", sep=\" \")\n",
    "\n",
    "print(f\"Datensatz:\\n{accidents.head()}\")"
   ]
  },
  {
   "cell_type": "code",
   "execution_count": 10,
   "id": "2f5aa8d4-1cac-400e-bb2a-60be9c2638d0",
   "metadata": {},
   "outputs": [
    {
     "name": "stdout",
     "output_type": "stream",
     "text": [
      "Kodierung der Koeffizienten: ['Intercept', 'C(Beruf)[T.Physiker]', 'C(Beruf)[T.Zahnarzt]', 'C(Geschlecht)[T.Mann]', 'Alter', 'Fahrpraxis']\n"
     ]
    }
   ],
   "source": [
    "model = sm.formula.glm(formula=\"Unfall ~ Alter + Fahrpraxis + C(Beruf) + C(Geschlecht)\", data=accidents, family=sm.families.Binomial()).fit()\n",
    "\n",
    "print(f\"Kodierung der Koeffizienten: {model.model.exog_names}\")"
   ]
  },
  {
   "cell_type": "markdown",
   "id": "fd518d77-e03e-4a4c-be97-1c117c152f6f",
   "metadata": {},
   "source": [
    "**B:** Berechnen Sie in R die Koeffizientenschätzer."
   ]
  },
  {
   "cell_type": "code",
   "execution_count": 11,
   "id": "91717e40-1ac5-4598-b6e0-87061532b9dc",
   "metadata": {},
   "outputs": [
    {
     "name": "stdout",
     "output_type": "stream",
     "text": [
      "Intercept               -1.828690\n",
      "C(Beruf)[T.Physiker]    -0.643373\n",
      "C(Beruf)[T.Zahnarzt]     1.488117\n",
      "C(Geschlecht)[T.Mann]   -1.169886\n",
      "Alter                    0.263490\n",
      "Fahrpraxis              -0.638461\n",
      "dtype: float64\n"
     ]
    }
   ],
   "source": [
    "print(model.params)"
   ]
  },
  {
   "cell_type": "markdown",
   "id": "ef9430c4-6063-44bc-9258-5876037d715a",
   "metadata": {},
   "source": [
    "**C:** Das Modell M habe die Parameter $β_0, . . . , β_p$. Welche anschauliche Bedeutung haben die exponierten Parameter $exp(β_0), . . . , exp(β_p)$?\n",
    "\n",
    "Werden die Parameter exponiert, so erhält man die Odds-Ratios oder relative Risiken.\n",
    "\n",
    "**Für logistische Regressionen**: Exponentierte Koeffizienten zeigen das Odds-Ratio an, wenn eine Prädiktorvariable um 1 Einheit erhöht wird, während alle anderen Variablen konstant bleiben.\n",
    "\n",
    "**Für andere Modelle**: Exponentierte Koeffizienten können als relative Risiken oder Hazard-Ratios interpretiert werden.\n",
    "\n",
    "**Allgemeine Interpretation**:\n",
    "- Ein exponentierter Koeffizient > 1 zeigt eine positive Assoziation zwischen Prädiktor und Outcome an.\n",
    "- Ein exponentierter Koeffizient < 1 zeigt eine negative Assoziation an.\n",
    "- Ein exponentierter Koeffizient = 1 zeigt keine Assoziation an."
   ]
  },
  {
   "cell_type": "markdown",
   "id": "31d604e8-0411-4588-b953-18623986e086",
   "metadata": {},
   "source": [
    "**Aufgabe 12**\n",
    "\n",
    "Berechnen Sie aus dem Modell M (Aufgabe 11) das Odds und die Wahrscheinlichkeit\n",
    "- eines 30-jährigen Zahnarztes mit 10 Jahren Fahrpraxis,\n",
    "- einer 29-jährigen Zahnärztin mit 11 Jahren Fahrpraxis,\n",
    "- einer 50-jährigen Biologin mit 30 Jahren Fahrpraxis,\n",
    "\n",
    "einen Unfall zu verursachen."
   ]
  },
  {
   "cell_type": "code",
   "execution_count": 12,
   "id": "aa7ec30e-20d0-41af-9d3e-baceb377edfd",
   "metadata": {},
   "outputs": [
    {
     "name": "stdout",
     "output_type": "stream",
     "text": [
      "Probs:\n",
      "0.5024090585060654\n",
      "0.5689504251412866\n",
      "0.0004062982606426319\n",
      "Odds:\n",
      "1.0096828873083286\n",
      "1.3199187711245821\n",
      "0.00040646340601751174\n"
     ]
    }
   ],
   "source": [
    "A_data = pd.DataFrame({'Alter': [30], 'Fahrpraxis': [10], 'Beruf': ['Zahnarzt'], 'Geschlecht': ['Mann']})\n",
    "B_data = pd.DataFrame({'Alter': [29], 'Fahrpraxis': [11], 'Beruf': ['Zahnarzt'], 'Geschlecht': ['Frau']})\n",
    "C_data = pd.DataFrame({'Alter': [50], 'Fahrpraxis': [30], 'Beruf': ['Biologe'], 'Geschlecht': ['Frau']})\n",
    "\n",
    "A_pred = model.predict(A_data)\n",
    "B_pred = model.predict(B_data)\n",
    "C_pred = model.predict(C_data)\n",
    "\n",
    "print(\"Probs:\")\n",
    "print(A_pred[0])\n",
    "print(B_pred[0])\n",
    "print(C_pred[0])\n",
    "\n",
    "def odds(prob):\n",
    "    return prob/(1-prob)\n",
    "\n",
    "print(\"Odds:\")\n",
    "print(odds(A_pred[0]))\n",
    "print(odds(B_pred[0]))\n",
    "print(odds(C_pred[0]))"
   ]
  },
  {
   "cell_type": "markdown",
   "id": "9199b95b-dc7d-45ca-a580-6074da9fff65",
   "metadata": {},
   "source": [
    "**Aufgabe 13**\n",
    "Betrachten Sie das logistische Regressionsmodell\n",
    "$$\n",
    "L : \\text{Unfall} ∼ \\text{Alter}\n",
    "$$\n",
    "\n",
    "für die Daten in Unfaelle.txt.\n",
    "\n",
    "**A:** Berechnen Sie mit der Funktion `glm`, `coef` und `vcov` die Parameterschätzer\n",
    "und die Varianz-Kovarianz Matrix V des Modells L."
   ]
  },
  {
   "cell_type": "code",
   "execution_count": 15,
   "id": "50059852-0373-4aa7-9c79-039a9959a533",
   "metadata": {},
   "outputs": [
    {
     "name": "stdout",
     "output_type": "stream",
     "text": [
      "Intercept    8.794495\n",
      "Alter       -0.327340\n",
      "dtype: float64\n",
      "           Intercept     Alter\n",
      "Intercept   0.485038 -0.014985\n",
      "Alter      -0.014985  0.000473\n"
     ]
    }
   ],
   "source": [
    "model_log = sm.formula.glm(formula=\"Unfall ~ Alter\", data=accidents, family=sm.families.Binomial()).fit()\n",
    "\n",
    "print(model_log.params)\n",
    "\n",
    "cov_matrix = model_log.cov_params()\n",
    "print(cov_matrix)"
   ]
  },
  {
   "cell_type": "markdown",
   "id": "c8a0a254-a325-48cf-a89b-c65e26907ae8",
   "metadata": {},
   "source": [
    "**B:** Geben Sie eine Formel an, die log(Odds) in Abhängigkeit von Alter\n",
    "berechnet."
   ]
  },
  {
   "cell_type": "markdown",
   "id": "ccd9fcde-8b01-4b34-b3a9-d1d852632bf5",
   "metadata": {},
   "source": [
    "$$\n",
    "\\log \\Bigg ( \\frac{p}{1-p} \\Bigg ) = \\beta_0 + \\beta_1 \\text{Alter}\n",
    "$$"
   ]
  },
  {
   "cell_type": "markdown",
   "id": "0f3f2554-2d6c-4c60-a919-677b9024de82",
   "metadata": {},
   "source": [
    "**C:** Berechnen Sie mit der Varianz-Kovarianz Matrix die Standardabweichung von log(Odds)."
   ]
  },
  {
   "cell_type": "markdown",
   "id": "2751f4ed",
   "metadata": {},
   "source": [
    "$$\n",
    "Var(\\log (Odds)) = Var(\\beta_0 + \\beta_1 \\cdot Alter) = Cov(\\beta_0 + \\beta_1 \\cdot Alter, \\beta_0 + \\beta_1 \\cdot Alter) = Var(\\beta_0) + 2 \\cdot Alter \\cdot Cov(\\beta_1, \\beta_0) + Alter^2 \\cdot Var(\\beta_1)\n",
    "$$"
   ]
  },
  {
   "cell_type": "markdown",
   "id": "49edee3d-9ef8-44ea-899d-0833f0e8a2b3",
   "metadata": {},
   "source": [
    "**Aufgabe 14**\n",
    "\n",
    "Berechnen Sie mit der Funktion glm das Modell\n",
    "$$K : \\text{Unfall} ∼ \\text{Geschlecht} \\cdot \\text{Beruf}$$\n",
    "für die Daten in Unfaelle.txt. Die rechte Seite $\\text{Geschlecht} \\cdot \\text{Beruf}$ in der\n",
    "Modelldefinition bedeutet, dass neben Beruf und Geschlecht auch noch alle\n",
    "Produkte von Geschlecht mit den zu Beruf gehörenden Dummy-Variablen\n",
    "in die Modellgleichung aufgenommen werden. Diese Produkte definieren die\n",
    "Interaktion zwischen Beruf und Geschlecht.\n",
    "Wie viele Modellparameter $β_0, . . . , β_p$ hat das Modell K? Welche anschauliche\n",
    "Bedeutung haben die exponierten Modellparameter $exp(\\hat{β}_0), . . . , exp(\\hat{β}_p)$\n",
    "\n",
    "Zunächst erinnern wir uns:\n",
    "\n",
    "$$\n",
    "\\frac{1}{1-p} = exp(\\beta_0 + \\beta_1 \\text{Mann} + ...)\n",
    "$$\n",
    "\n",
    "$$\n",
    "\\log \\frac{1}{1-p} = \\beta_0 + \\beta_1 \\text{Mann} + ...\n",
    "$$\n",
    "\n",
    "Wir können es manuell durch Ableitung auflösen, aber auch für jede mögliche Multiplikation eine Dummy-Variable erstellen."
   ]
  },
  {
   "cell_type": "code",
   "execution_count": 16,
   "id": "abd18451-e9e8-4139-a0c1-4d27d695c230",
   "metadata": {},
   "outputs": [
    {
     "data": {
      "text/plain": [
       "Intercept                                    -3.158120\n",
       "C(Geschlecht)[T.Mann]                        -0.519988\n",
       "C(Beruf)[T.Physiker]                         -0.333026\n",
       "C(Beruf)[T.Zahnarzt]                          0.894464\n",
       "C(Geschlecht)[T.Mann]:C(Beruf)[T.Physiker]   -0.419683\n",
       "C(Geschlecht)[T.Mann]:C(Beruf)[T.Zahnarzt]   -0.435233\n",
       "dtype: float64"
      ]
     },
     "execution_count": 16,
     "metadata": {},
     "output_type": "execute_result"
    }
   ],
   "source": [
    "model_k = sm.formula.glm(\"Unfall ~ C(Geschlecht) * C(Beruf)\", data=accidents, family=sm.families.Binomial()).fit()\n",
    "\n",
    "model_k.params"
   ]
  },
  {
   "cell_type": "markdown",
   "id": "53c7651c-acc3-468c-83aa-3ea3d494ffda",
   "metadata": {},
   "source": [
    "Es werden 6 Parameter benötigt. Neben den Koeffizienten für die einzelnen Parametern müssen auch noch sämtlich mögliche einzelne Interaktionen betrachtet werden, also $2 \\cdot 3 = 6$\n",
    "\n",
    "Die exponierten Parameter "
   ]
  },
  {
   "cell_type": "code",
   "execution_count": 17,
   "id": "dcece388-5473-4e79-82da-7434bdcc70f0",
   "metadata": {},
   "outputs": [
    {
     "name": "stdout",
     "output_type": "stream",
     "text": [
      "Intercept                                     0.042506\n",
      "C(Geschlecht)[T.Mann]                         0.594528\n",
      "C(Beruf)[T.Physiker]                          0.716752\n",
      "C(Beruf)[T.Zahnarzt]                          2.446025\n",
      "C(Geschlecht)[T.Mann]:C(Beruf)[T.Physiker]    0.657255\n",
      "C(Geschlecht)[T.Mann]:C(Beruf)[T.Zahnarzt]    0.647114\n",
      "dtype: float64\n"
     ]
    }
   ],
   "source": [
    "print(model_k.params.apply(lambda x: np.exp(x)))"
   ]
  },
  {
   "cell_type": "markdown",
   "id": "1245091e-7652-4899-9003-a363d4fd3552",
   "metadata": {},
   "source": [
    "geben den Faktor an, um den sich die Wahrscheinlichkeit eines Unfalls verschiebt, falls die jeweilige Variable sich um eine Einheit verschiebt, während alle anderen Faktoren konstant gehalten werden. "
   ]
  },
  {
   "cell_type": "markdown",
   "id": "2b191079-31e8-4d42-afa7-612620ed5ef0",
   "metadata": {},
   "source": [
    "**Aufgabe 15**\n",
    "\n",
    "In den Jahren 2000, 2001 und 2002 werden an einem Autobahnabschnitt $k_{2000} = 2$, $k_{2001} = 5$ und $k_{2002} = 0$ Unfälle beobachtet. Es wird\n",
    "angenommen, dass die Anzahlen der Unfälle $X_1$, $X_2$ und $X_3$ in den Jahren\n",
    "2000, 2001 und 2002 unabhängig und poissonverteilt mit Erwartungswert $\\lambda$\n",
    "sind.\n",
    "\n",
    "**A:** Geben Sie die Likelihood-Funktion $L(λ)$ und die Loglikelihood-Funktion $l(λ)$ an.\n",
    "\n",
    "$$\n",
    "L(\\lambda) = L(\\lambda | k_1, ..., k_n) = \\prod_{i=1}^{n} e^{-\\lambda} \\frac{\\lambda^{k_i}}{k_i!}\n",
    "$$"
   ]
  },
  {
   "cell_type": "markdown",
   "id": "09757141-a776-43a9-b84d-78dfb4c7ba19",
   "metadata": {},
   "source": [
    "$$\n",
    "= \\Bigg[e^{-\\lambda} \\frac{\\lambda^{2}}{2!}\\Bigg] \\cdot \\Bigg[e^{-\\lambda} \\frac{\\lambda^{5}}{5!}\\Bigg] \\cdot \\Bigg[e^{-\\lambda} \\frac{\\lambda^{0}}{0!}\\Bigg] = \\Bigg[e^{-\\lambda} \\frac{\\lambda^{2}}{2}\\Bigg] \\cdot \\Bigg[e^{-\\lambda} \\frac{\\lambda^{5}}{120}\\Bigg] \\cdot \\Bigg[e^{-\\lambda}\\Bigg]\n",
    "$$"
   ]
  },
  {
   "cell_type": "markdown",
   "id": "103630e8",
   "metadata": {},
   "source": [
    "Loglikelihood-Funktion:\n",
    "\n",
    "$$\n",
    "l(\\lambda) = \\sum_{i=1}^{n} (-\\lambda + k_i \\log (\\lambda) - \\log (k_i !))\n",
    "$$\n",
    "\n",
    "$$\n",
    "l(\\lambda) = (-\\lambda + 2 \\log (\\lambda) - \\log (2 !)) + (-\\lambda + 5 \\log (\\lambda) - \\log (5 !)) + (-\\lambda + 0 \\log (\\lambda) - \\log (0 !))\n",
    "$$"
   ]
  },
  {
   "cell_type": "markdown",
   "id": "0378a69e",
   "metadata": {},
   "source": [
    "**B:** Berechnen Sie $l'(λ)$ und daraus den Maximum-Likelihoodschätzer $\\hat{λ}$."
   ]
  },
  {
   "cell_type": "markdown",
   "id": "c5f83e28",
   "metadata": {},
   "source": [
    "$$\n",
    "\\hat{\\lambda} = \\frac{1}{n} \\sum_{i=1}^{n} k_i\n",
    "$$\n",
    "\n",
    "$$\n",
    "\\hat{\\lambda} = \\frac{1}{3} \\Big ( 2 + 5 + 0 \\Big ) = \\frac{7}{3}\n",
    "$$"
   ]
  },
  {
   "cell_type": "markdown",
   "id": "8dbc1363",
   "metadata": {},
   "source": [
    "**C:** Berechnen Sie $l''(λ)$ und daraus den Varianzschätzer $Var(\\hat{\\lambda})$ von $\\hat{λ}$."
   ]
  },
  {
   "cell_type": "markdown",
   "id": "25bfb155",
   "metadata": {},
   "source": [
    "$$\n",
    "l''(\\lambda) = \\frac{\\delta^2 l}{\\delta \\lambda ^2} = -\\frac{n}{\\lambda ^2} = -\\frac{7}{\\lambda ^2}\n",
    "$$"
   ]
  },
  {
   "cell_type": "markdown",
   "id": "5163854f",
   "metadata": {},
   "source": [
    "**D:** Geben Sie für $\\hat{λ}$ das 95% Konfidenzintervall an. Benutzen Sie die Formel $\\hat{λ} ± 2 \\cdot \\sqrt{Var(\\hat{λ})}$\n",
    "\n",
    "$$\n",
    "Var(\\hat{\\lambda}) = \\hat{\\text{Cov}} (\\hat{\\lambda}) = ... = \\frac{1}{l''(\\lambda)} = \\frac{1}{\\frac{7}{\\lambda ^2}} = \\frac{\\lambda ^2}{7}\n",
    "$$"
   ]
  }
 ],
 "metadata": {
  "kernelspec": {
   "display_name": "Python 3 (ipykernel)",
   "language": "python",
   "name": "python3"
  },
  "language_info": {
   "codemirror_mode": {
    "name": "ipython",
    "version": 3
   },
   "file_extension": ".py",
   "mimetype": "text/x-python",
   "name": "python",
   "nbconvert_exporter": "python",
   "pygments_lexer": "ipython3",
   "version": "3.12.2"
  }
 },
 "nbformat": 4,
 "nbformat_minor": 5
}
