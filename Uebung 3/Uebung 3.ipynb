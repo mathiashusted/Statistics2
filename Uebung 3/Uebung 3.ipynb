{
 "cells": [
  {
   "cell_type": "markdown",
   "id": "709f1cc7-8d15-41e1-b6c7-68e57c28fa6c",
   "metadata": {},
   "source": [
    "# Übung 3"
   ]
  },
  {
   "cell_type": "code",
   "execution_count": 3,
   "id": "ff4147cd-d226-4f30-9230-6275abf11b82",
   "metadata": {},
   "outputs": [],
   "source": [
    "import pandas as pd\n",
    "import numpy as np\n",
    "\n",
    "import statsmodels.api as sm"
   ]
  },
  {
   "cell_type": "markdown",
   "id": "aab24327-d98e-4497-9b98-7f415ff4281d",
   "metadata": {},
   "source": [
    "**Aufgabe 11**\n",
    "\n",
    "**A:** Für den Datensatz in Unfaelle.txt wird folgendes logistisches Regressionsmodell\n",
    "$$M : \\text{Unfall} ∼ \\text{Alter} + \\text{Fahrpraxis} + \\text{Beruf} + \\text{Geschlecht}\\text{ (1)}$$\n",
    "betrachtet. Durch Ausdrücke wie (1) werden in R Regressionsmodelle\n",
    "unterschiedlichster Art spezifiziert. Geben Sie die Modellgleichung von\n",
    "M in mathematischer Notation an. Wie viele Parameter werden benötigt?\n",
    "Hinweis: Die Variablen Beruf und Geschlecht müssen zunächst in Dummy-\n",
    "Variablen umkodiert werden."
   ]
  },
  {
   "cell_type": "markdown",
   "id": "5c635554-ca37-4022-b427-44261bd1ac19",
   "metadata": {},
   "source": [
    "In unserem Datensatz gibt es 3 Berufe:\n",
    "- Physiker\n",
    "- Zahnarzt\n",
    "- Biologe\n",
    "\n",
    "Sowie die beiden Geschlechter\n",
    "- Mann\n",
    "- Frau\n",
    "\n",
    "Demzufolge brauchen wir jeweils für den ersten Fall 2, und den zweiten Fall eine Dummy-Variable.\n",
    "$$\n",
    "\\text{Unfall}_i = \\beta_0 + \\beta_1 \\text{ Alter} + \\beta_2 \\text{ Fahrpraxis} + \\beta_3D_{3i} + \\beta_4D_{4i} + \\beta_5D_{5i} +\\epsilon_i\n",
    "$$\n",
    "\n",
    "Wobei\n",
    "\n",
    "| Beruf | D3 | D4 |\n",
    "| --- | --- | --- |\n",
    "| Physiker | 1 | 0 |\n",
    "| Zahnarzt | 0 | 1 |\n",
    "| Biologe | 0 | 0 |\n",
    "\n",
    "| Geschlecht | D5 |\n",
    "| --- | --- |\n",
    "| Mann | 0 |\n",
    "| Frau | 1 |\n",
    "\n",
    "eine mögliche Kodierung für die Variablen wäre."
   ]
  },
  {
   "cell_type": "code",
   "execution_count": 4,
   "id": "930377ca-2002-47e5-8ac8-ffc17b45c7b0",
   "metadata": {},
   "outputs": [
    {
     "name": "stdout",
     "output_type": "stream",
     "text": [
      "Datensatz:\n",
      "   Lnr  Unfall Geschlecht     Beruf  Alter  Fahrpraxis\n",
      "0    1       0       Mann  Physiker     31          12\n",
      "1    2       0       Frau  Physiker     37          18\n",
      "2    3       0       Frau  Physiker     38          18\n",
      "3    4       0       Frau  Physiker     44          25\n",
      "4    5       0       Frau  Physiker     52          33\n"
     ]
    }
   ],
   "source": [
    "accidents = pd.read_csv(\"Unfaelle.txt\", sep=\" \")\n",
    "\n",
    "print(f\"Datensatz:\\n{accidents.head()}\")"
   ]
  },
  {
   "cell_type": "code",
   "execution_count": 10,
   "id": "2f5aa8d4-1cac-400e-bb2a-60be9c2638d0",
   "metadata": {},
   "outputs": [
    {
     "name": "stdout",
     "output_type": "stream",
     "text": [
      "Kodierung der Koeffizienten: ['Intercept', 'C(Beruf)[T.Physiker]', 'C(Beruf)[T.Zahnarzt]', 'C(Geschlecht)[T.Mann]', 'Alter', 'Fahrpraxis']\n"
     ]
    }
   ],
   "source": [
    "model = sm.formula.ols(formula=\"Unfall ~ Alter + Fahrpraxis + C(Beruf) + C(Geschlecht)\", data=accidents).fit()\n",
    "\n",
    "print(f\"Kodierung der Koeffizienten: {model.model.exog_names}\")"
   ]
  },
  {
   "cell_type": "markdown",
   "id": "fd518d77-e03e-4a4c-be97-1c117c152f6f",
   "metadata": {},
   "source": [
    "**B:** Berechnen Sie in R die Koeffizientenschätzer."
   ]
  },
  {
   "cell_type": "code",
   "execution_count": 6,
   "id": "91717e40-1ac5-4598-b6e0-87061532b9dc",
   "metadata": {},
   "outputs": [
    {
     "name": "stdout",
     "output_type": "stream",
     "text": [
      "Intercept                0.142179\n",
      "C(Beruf)[T.Physiker]    -0.011840\n",
      "C(Beruf)[T.Zahnarzt]     0.041440\n",
      "C(Geschlecht)[T.Mann]   -0.026057\n",
      "Alter                    0.005209\n",
      "Fahrpraxis              -0.012767\n",
      "dtype: float64\n"
     ]
    }
   ],
   "source": [
    "print(model.params)"
   ]
  },
  {
   "cell_type": "markdown",
   "id": "ef9430c4-6063-44bc-9258-5876037d715a",
   "metadata": {},
   "source": [
    "**C:** Das Modell M habe die Parameter $β_0, . . . , β_p$. Welche anschauliche Bedeutung haben die exponierten Parameter $exp(β_0), . . . , exp(β_p)$?\n",
    "\n",
    "Werden die Parameter exponiert, so erhält man die Odds-Ratios oder relative Risiken.\n",
    "\n",
    "**Für logistische Regressionen**: Exponentierte Koeffizienten zeigen das Odds-Ratio an, wenn eine Prädiktorvariable um 1 Einheit erhöht wird, während alle anderen Variablen konstant bleiben.\n",
    "\n",
    "**Für andere Modelle**: Exponentierte Koeffizienten können als relative Risiken oder Hazard-Ratios interpretiert werden.\n",
    "\n",
    "**Allgemeine Interpretation**:*\n",
    "- Ein exponentierter Koeffizient > 1 zeigt eine positive Assoziation zwischen Prädiktor und Outcome an.\n",
    "- Ein exponentierter Koeffizient < 1 zeigt eine negative Assoziation an.\n",
    "- Ein exponentierter Koeffizient = 1 zeigt keine Assoziation an."
   ]
  },
  {
   "cell_type": "markdown",
   "id": "31d604e8-0411-4588-b953-18623986e086",
   "metadata": {},
   "source": [
    "**Aufgabe 12**\n",
    "\n",
    "Berechnen Sie aus dem Modell M (Aufgabe 11) das Odds und die Wahrscheinlichkeit\n",
    "- eines 30-jährigen Zahnarztes mit 10 Jahren Fahrpraxis,\n",
    "- einer 29-jährigen Zahnärztin mit 11 Jahren Fahrpraxis,\n",
    "- einer 50-jährigen Biologin mit 30 Jahren Fahrpraxis,\n",
    "\n",
    "einen Unfall zu verursachen."
   ]
  },
  {
   "cell_type": "code",
   "execution_count": 23,
   "id": "aa7ec30e-20d0-41af-9d3e-baceb377edfd",
   "metadata": {},
   "outputs": [
    {
     "name": "stdout",
     "output_type": "stream",
     "text": [
      "0.1861562246990183\n",
      "0.19423782326872494\n",
      "0.01960963985728692\n",
      "Scenario A: Probability of an accident occurring = 0    0.546405\n",
      "dtype: float64\n",
      "Scenario B: Probability of an accident occurring = 0    0.548407\n",
      "dtype: float64\n",
      "Scenario C: Probability of an accident occurring = 0    0.504902\n",
      "dtype: float64\n"
     ]
    }
   ],
   "source": [
    "A_data = pd.DataFrame({'Alter': [30], 'Fahrpraxis': [10], 'Beruf': ['Zahnarzt'], 'Geschlecht': ['Mann']})\n",
    "B_data = pd.DataFrame({'Alter': [29], 'Fahrpraxis': [11], 'Beruf': ['Zahnarzt'], 'Geschlecht': ['Frau']})\n",
    "C_data = pd.DataFrame({'Alter': [50], 'Fahrpraxis': [30], 'Beruf': ['Biologe'], 'Geschlecht': ['Frau']})\n",
    "\n",
    "A_pred = model.predict(A_data)\n",
    "B_pred = model.predict(B_data)\n",
    "C_pred = model.predict(C_data)\n",
    "\n",
    "print(A_pred[0])\n",
    "print(B_pred[0])\n",
    "print(C_pred[0])"
   ]
  },
  {
   "cell_type": "markdown",
   "id": "9199b95b-dc7d-45ca-a580-6074da9fff65",
   "metadata": {},
   "source": [
    "**Aufgabe 13**\n",
    "Betrachten Sie das logistische Regressionsmodell\n",
    "$$\n",
    "L : \\text{Unfall} ∼ \\text{Alter}\n",
    "$$\n",
    "\n",
    "für die Daten in Unfaelle.txt.\n",
    "\n",
    "**A:** Berechnen Sie mit der Funktion `glm`, `coef` und `vcov` die Parameterschätzer\n",
    "und die Varianz-Kovarianz Matrix V des Modells L."
   ]
  },
  {
   "cell_type": "code",
   "execution_count": 34,
   "id": "50059852-0373-4aa7-9c79-039a9959a533",
   "metadata": {},
   "outputs": [
    {
     "name": "stdout",
     "output_type": "stream",
     "text": [
      "Optimization terminated successfully.\n",
      "         Current function value: 0.100093\n",
      "         Iterations 10\n",
      "Intercept    8.794495\n",
      "Alter       -0.327340\n",
      "dtype: float64\n",
      "           Intercept     Alter\n",
      "Intercept   0.485038 -0.014985\n",
      "Alter      -0.014985  0.000473\n"
     ]
    }
   ],
   "source": [
    "model_log = sm.formula.logit(formula=\"Unfall ~ Alter\", data=accidents).fit()\n",
    "\n",
    "print(model_log.params)\n",
    "\n",
    "cov_matrix = model_log.cov_params()\n",
    "print(cov_matrix)"
   ]
  },
  {
   "cell_type": "markdown",
   "id": "c8a0a254-a325-48cf-a89b-c65e26907ae8",
   "metadata": {},
   "source": [
    "**B:** Geben Sie eine Formel an, die log(Odds) in Abhängigkeit von Alter\n",
    "berechnet."
   ]
  },
  {
   "cell_type": "markdown",
   "id": "ccd9fcde-8b01-4b34-b3a9-d1d852632bf5",
   "metadata": {},
   "source": [
    "$$\n",
    "\\log \\Bigg ( \\frac{p}{1-p} \\Bigg ) = \\beta_0 + \\beta_1 \\text{Alter}\n",
    "$$"
   ]
  },
  {
   "cell_type": "markdown",
   "id": "0f3f2554-2d6c-4c60-a919-677b9024de82",
   "metadata": {},
   "source": [
    "**C:** Berechnen Sie mit der Varianz-Kovarianz Matrix die Standardabweichung von log(Odds)."
   ]
  },
  {
   "cell_type": "code",
   "execution_count": 38,
   "id": "8ff5172f-7505-47d6-8f49-f4c7f6d0982a",
   "metadata": {},
   "outputs": [],
   "source": [
    "# ?"
   ]
  },
  {
   "cell_type": "code",
   "execution_count": null,
   "id": "d5304dce-6073-4f3a-b1ef-348f8f534fdf",
   "metadata": {},
   "outputs": [],
   "source": []
  }
 ],
 "metadata": {
  "kernelspec": {
   "display_name": "Python 3 (ipykernel)",
   "language": "python",
   "name": "python3"
  },
  "language_info": {
   "codemirror_mode": {
    "name": "ipython",
    "version": 3
   },
   "file_extension": ".py",
   "mimetype": "text/x-python",
   "name": "python",
   "nbconvert_exporter": "python",
   "pygments_lexer": "ipython3",
   "version": "3.12.2"
  }
 },
 "nbformat": 4,
 "nbformat_minor": 5
}
